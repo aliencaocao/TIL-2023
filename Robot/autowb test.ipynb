{
 "cells": [
  {
   "cell_type": "code",
   "execution_count": 17,
   "metadata": {
    "collapsed": true,
    "ExecuteTime": {
     "end_time": "2023-06-17T13:08:15.953287200Z",
     "start_time": "2023-06-17T13:08:15.940281400Z"
    }
   },
   "outputs": [],
   "source": [
    "import sys\n",
    "sys.path.insert(0, '../CV/Deep-White-Balance')\n",
    "from arch import deep_wb_model\n",
    "from arch import deep_wb_single_task\n",
    "from utilities.deepWB import deep_wb\n",
    "import torch\n",
    "import cv2\n",
    "from PIL import Image"
   ]
  },
  {
   "cell_type": "code",
   "execution_count": 11,
   "outputs": [
    {
     "data": {
      "text/plain": "deepWBnet(\n  (encoder_inc): DoubleConvBlock(\n    (double_conv): Sequential(\n      (0): Conv2d(3, 24, kernel_size=(3, 3), stride=(1, 1), padding=(1, 1))\n      (1): ReLU(inplace=True)\n      (2): Conv2d(24, 24, kernel_size=(3, 3), stride=(1, 1), padding=(1, 1))\n      (3): ReLU(inplace=True)\n    )\n  )\n  (encoder_down1): DownBlock(\n    (maxpool_conv): Sequential(\n      (0): MaxPool2d(kernel_size=2, stride=2, padding=0, dilation=1, ceil_mode=False)\n      (1): DoubleConvBlock(\n        (double_conv): Sequential(\n          (0): Conv2d(24, 48, kernel_size=(3, 3), stride=(1, 1), padding=(1, 1))\n          (1): ReLU(inplace=True)\n          (2): Conv2d(48, 48, kernel_size=(3, 3), stride=(1, 1), padding=(1, 1))\n          (3): ReLU(inplace=True)\n        )\n      )\n    )\n  )\n  (encoder_down2): DownBlock(\n    (maxpool_conv): Sequential(\n      (0): MaxPool2d(kernel_size=2, stride=2, padding=0, dilation=1, ceil_mode=False)\n      (1): DoubleConvBlock(\n        (double_conv): Sequential(\n          (0): Conv2d(48, 96, kernel_size=(3, 3), stride=(1, 1), padding=(1, 1))\n          (1): ReLU(inplace=True)\n          (2): Conv2d(96, 96, kernel_size=(3, 3), stride=(1, 1), padding=(1, 1))\n          (3): ReLU(inplace=True)\n        )\n      )\n    )\n  )\n  (encoder_down3): DownBlock(\n    (maxpool_conv): Sequential(\n      (0): MaxPool2d(kernel_size=2, stride=2, padding=0, dilation=1, ceil_mode=False)\n      (1): DoubleConvBlock(\n        (double_conv): Sequential(\n          (0): Conv2d(96, 192, kernel_size=(3, 3), stride=(1, 1), padding=(1, 1))\n          (1): ReLU(inplace=True)\n          (2): Conv2d(192, 192, kernel_size=(3, 3), stride=(1, 1), padding=(1, 1))\n          (3): ReLU(inplace=True)\n        )\n      )\n    )\n  )\n  (encoder_bridge_down): BridgeDown(\n    (maxpool_conv): Sequential(\n      (0): MaxPool2d(kernel_size=2, stride=2, padding=0, dilation=1, ceil_mode=False)\n      (1): Conv2d(192, 384, kernel_size=(3, 3), stride=(1, 1), padding=(1, 1))\n      (2): ReLU(inplace=True)\n    )\n  )\n  (decoder_bridge_up): BridgeUP(\n    (conv_up): Sequential(\n      (0): Conv2d(384, 384, kernel_size=(3, 3), stride=(1, 1), padding=(1, 1))\n      (1): ReLU(inplace=True)\n      (2): ConvTranspose2d(384, 192, kernel_size=(2, 2), stride=(2, 2))\n    )\n  )\n  (decoder_up1): UpBlock(\n    (conv): DoubleConvBlock(\n      (double_conv): Sequential(\n        (0): Conv2d(384, 192, kernel_size=(3, 3), stride=(1, 1), padding=(1, 1))\n        (1): ReLU(inplace=True)\n        (2): Conv2d(192, 192, kernel_size=(3, 3), stride=(1, 1), padding=(1, 1))\n        (3): ReLU(inplace=True)\n      )\n    )\n    (up): ConvTranspose2d(192, 96, kernel_size=(2, 2), stride=(2, 2))\n  )\n  (decoder_up2): UpBlock(\n    (conv): DoubleConvBlock(\n      (double_conv): Sequential(\n        (0): Conv2d(192, 96, kernel_size=(3, 3), stride=(1, 1), padding=(1, 1))\n        (1): ReLU(inplace=True)\n        (2): Conv2d(96, 96, kernel_size=(3, 3), stride=(1, 1), padding=(1, 1))\n        (3): ReLU(inplace=True)\n      )\n    )\n    (up): ConvTranspose2d(96, 48, kernel_size=(2, 2), stride=(2, 2))\n  )\n  (decoder_up3): UpBlock(\n    (conv): DoubleConvBlock(\n      (double_conv): Sequential(\n        (0): Conv2d(96, 48, kernel_size=(3, 3), stride=(1, 1), padding=(1, 1))\n        (1): ReLU(inplace=True)\n        (2): Conv2d(48, 48, kernel_size=(3, 3), stride=(1, 1), padding=(1, 1))\n        (3): ReLU(inplace=True)\n      )\n    )\n    (up): ConvTranspose2d(48, 24, kernel_size=(2, 2), stride=(2, 2))\n  )\n  (decoder_out): OutputBlock(\n    (out_conv): Sequential(\n      (0): DoubleConvBlock(\n        (double_conv): Sequential(\n          (0): Conv2d(48, 24, kernel_size=(3, 3), stride=(1, 1), padding=(1, 1))\n          (1): ReLU(inplace=True)\n          (2): Conv2d(24, 24, kernel_size=(3, 3), stride=(1, 1), padding=(1, 1))\n          (3): ReLU(inplace=True)\n        )\n      )\n      (1): Conv2d(24, 3, kernel_size=(1, 1), stride=(1, 1))\n    )\n  )\n)"
     },
     "execution_count": 11,
     "metadata": {},
     "output_type": "execute_result"
    }
   ],
   "source": [
    "# load awb net\n",
    "net_awb = deep_wb_single_task.deepWBnet()\n",
    "net_awb.to('cuda')\n",
    "net_awb.load_state_dict(torch.load('../CV/Deep-White-Balance/models/net_awb.pth'))\n",
    "net_awb.eval()"
   ],
   "metadata": {
    "collapsed": false,
    "ExecuteTime": {
     "end_time": "2023-06-17T13:01:59.188108400Z",
     "start_time": "2023-06-17T13:01:59.122695800Z"
    }
   }
  },
  {
   "cell_type": "code",
   "execution_count": 18,
   "outputs": [],
   "source": [
    "img = cv2.imread('data/imgs/image_0000.png')\n",
    "img = cv2.cvtColor(img, cv2.COLOR_BGR2RGB)\n",
    "img = Image.fromarray(img)"
   ],
   "metadata": {
    "collapsed": false,
    "ExecuteTime": {
     "end_time": "2023-06-17T13:08:17.054448300Z",
     "start_time": "2023-06-17T13:08:17.031450600Z"
    }
   }
  },
  {
   "cell_type": "code",
   "execution_count": 24,
   "outputs": [
    {
     "data": {
      "text/plain": "True"
     },
     "execution_count": 24,
     "metadata": {},
     "output_type": "execute_result"
    }
   ],
   "source": [
    "out_awb = deep_wb(img, task='awb', net_awb=net_awb, device='cuda', s=1280)\n",
    "out_awb *= 255  # scale to 0-255\n",
    "out_awb = out_awb.astype('uint8')\n",
    "out_awb = cv2.cvtColor(out_awb, cv2.COLOR_RGB2BGR)\n",
    "cv2.imwrite('data/imgs/image_0000_awb.png', out_awb)"
   ],
   "metadata": {
    "collapsed": false,
    "ExecuteTime": {
     "end_time": "2023-06-17T13:10:16.776992700Z",
     "start_time": "2023-06-17T13:10:16.057814700Z"
    }
   }
  }
 ],
 "metadata": {
  "kernelspec": {
   "display_name": "Python 3",
   "language": "python",
   "name": "python3"
  },
  "language_info": {
   "codemirror_mode": {
    "name": "ipython",
    "version": 2
   },
   "file_extension": ".py",
   "mimetype": "text/x-python",
   "name": "python",
   "nbconvert_exporter": "python",
   "pygments_lexer": "ipython2",
   "version": "2.7.6"
  }
 },
 "nbformat": 4,
 "nbformat_minor": 0
}
