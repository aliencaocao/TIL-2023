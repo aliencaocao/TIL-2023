{
 "cells": [
  {
   "cell_type": "code",
   "execution_count": 3,
   "metadata": {},
   "outputs": [
    {
     "name": "stdout",
     "output_type": "stream",
     "text": [
      "mkdir: cannot create directory ‘weights’: File exists\n"
     ]
    }
   ],
   "source": [
    "!mkdir weights\n",
    "!wget https://github.com/nttcslab/m2d/releases/download/v0.1.0/msm_mae_vit_base-80x608p16x16-220924-mr75.zip \\\n",
    "  -O weights/msm_mae_vit_base-80x608p16x16-220924-mr75.zip"
   ]
  },
  {
   "cell_type": "code",
   "execution_count": 7,
   "metadata": {},
   "outputs": [
    {
     "name": "stdout",
     "output_type": "stream",
     "text": [
      "[Errno 2] No such file or directory: 'weights'\n",
      "/home/alc/TIL-2023/SpeakerID/m2d/weights\n",
      "Archive:  msm_mae_vit_base-80x608p16x16-220924-mr75.zip\n",
      "   creating: msm_mae_vit_base-80x608p16x16-220924-mr75/\n",
      "  inflating: msm_mae_vit_base-80x608p16x16-220924-mr75/checkpoint-300.pth  \n"
     ]
    }
   ],
   "source": [
    "%cd weights\n",
    "!unzip msm_mae_vit_base-80x608p16x16-220924-mr75.zip"
   ]
  },
  {
   "cell_type": "code",
   "execution_count": 1,
   "metadata": {},
   "outputs": [
    {
     "name": "stdout",
     "output_type": "stream",
     "text": [
      "/home/alc/TIL-2023/SpeakerID/m2d\n"
     ]
    },
    {
     "name": "stderr",
     "output_type": "stream",
     "text": [
      "/home/alc/venvs/til2023/lib/python3.10/site-packages/tqdm/auto.py:21: TqdmWarning: IProgress not found. Please update jupyter and ipywidgets. See https://ipywidgets.readthedocs.io/en/stable/user_install.html\n",
      "  from .autonotebook import tqdm as notebook_tqdm\n"
     ]
    },
    {
     "name": "stdout",
     "output_type": "stream",
     "text": [
      "MSM-MAE **FORCED DEC DEPTH AS 4 (Your decoder_depth=4 is ignored)**\n",
      "MaskedAutoencoderViT(in_chans=1, patch size=(16, 16), grid_size=[ 5 38],\n",
      "  embed_dim=768, depth=12, num_heads=12, decoder_embed_dim=384,\n",
      "  decoder_depth=4, decoder_num_heads=6, mlp_ratio=4,\n",
      "  norm_pix_loss=False)\n",
      " using 206 parameters, while dropped 0 from 206 parameters in weights/msm_mae_vit_base-80x608p16x16-220924-mr75/checkpoint-300.pth\n"
     ]
    },
    {
     "data": {
      "text/plain": [
       "RuntimeM2D(\n",
       "  (backbone): MaskedAutoencoderViT(\n",
       "    (patch_embed): PatchEmbed(\n",
       "      (proj): Conv2d(1, 768, kernel_size=(16, 16), stride=(16, 16))\n",
       "      (norm): Identity()\n",
       "    )\n",
       "    (blocks): ModuleList(\n",
       "      (0-11): 12 x Block(\n",
       "        (norm1): LayerNorm((768,), eps=1e-06, elementwise_affine=True)\n",
       "        (attn): Attention(\n",
       "          (qkv): Linear(in_features=768, out_features=2304, bias=True)\n",
       "          (attn_drop): Dropout(p=0.0, inplace=False)\n",
       "          (proj): Linear(in_features=768, out_features=768, bias=True)\n",
       "          (proj_drop): Dropout(p=0.0, inplace=False)\n",
       "        )\n",
       "        (ls1): Identity()\n",
       "        (drop_path1): Identity()\n",
       "        (norm2): LayerNorm((768,), eps=1e-06, elementwise_affine=True)\n",
       "        (mlp): Mlp(\n",
       "          (fc1): Linear(in_features=768, out_features=3072, bias=True)\n",
       "          (act): GELU(approximate='none')\n",
       "          (drop1): Dropout(p=0.0, inplace=False)\n",
       "          (fc2): Linear(in_features=3072, out_features=768, bias=True)\n",
       "          (drop2): Dropout(p=0.0, inplace=False)\n",
       "        )\n",
       "        (ls2): Identity()\n",
       "        (drop_path2): Identity()\n",
       "      )\n",
       "    )\n",
       "    (norm): LayerNorm((768,), eps=1e-06, elementwise_affine=True)\n",
       "    (decoder_embed): Linear(in_features=768, out_features=384, bias=True)\n",
       "    (decoder_blocks): ModuleList(\n",
       "      (0-3): 4 x Block(\n",
       "        (norm1): LayerNorm((384,), eps=1e-06, elementwise_affine=True)\n",
       "        (attn): Attention(\n",
       "          (qkv): Linear(in_features=384, out_features=1152, bias=True)\n",
       "          (attn_drop): Dropout(p=0.0, inplace=False)\n",
       "          (proj): Linear(in_features=384, out_features=384, bias=True)\n",
       "          (proj_drop): Dropout(p=0.0, inplace=False)\n",
       "        )\n",
       "        (ls1): Identity()\n",
       "        (drop_path1): Identity()\n",
       "        (norm2): LayerNorm((384,), eps=1e-06, elementwise_affine=True)\n",
       "        (mlp): Mlp(\n",
       "          (fc1): Linear(in_features=384, out_features=1536, bias=True)\n",
       "          (act): GELU(approximate='none')\n",
       "          (drop1): Dropout(p=0.0, inplace=False)\n",
       "          (fc2): Linear(in_features=1536, out_features=384, bias=True)\n",
       "          (drop2): Dropout(p=0.0, inplace=False)\n",
       "        )\n",
       "        (ls2): Identity()\n",
       "        (drop_path2): Identity()\n",
       "      )\n",
       "    )\n",
       "    (decoder_norm): LayerNorm((384,), eps=1e-06, elementwise_affine=True)\n",
       "    (decoder_pred): Linear(in_features=384, out_features=256, bias=True)\n",
       "  )\n",
       "  (to_spec): MelSpectrogram(\n",
       "    Mel filter banks size = (80, 201), trainable_mel=False\n",
       "    (stft): STFT(n_fft=400, Fourier Kernel size=(201, 1, 400), iSTFT=False, trainable=False)\n",
       "  )\n",
       ")"
      ]
     },
     "execution_count": 1,
     "metadata": {},
     "output_type": "execute_result"
    }
   ],
   "source": [
    "%cd ~/TIL-2023/SpeakerID/m2d\n",
    "import torch\n",
    "from m2d.runtime_audio import RuntimeM2D\n",
    "\n",
    "device = torch.device(\"cuda\")\n",
    "\n",
    "runtime = RuntimeM2D(weight_file='weights/msm_mae_vit_base-80x608p16x16-220924-mr75/checkpoint-300.pth')\n",
    "runtime.to(device)"
   ]
  },
  {
   "cell_type": "code",
   "execution_count": null,
   "metadata": {},
   "outputs": [],
   "source": []
  }
 ],
 "metadata": {
  "kernelspec": {
   "display_name": "til2023",
   "language": "python",
   "name": "python3"
  },
  "language_info": {
   "codemirror_mode": {
    "name": "ipython",
    "version": 3
   },
   "file_extension": ".py",
   "mimetype": "text/x-python",
   "name": "python",
   "nbconvert_exporter": "python",
   "pygments_lexer": "ipython3",
   "version": "3.10.7"
  },
  "orig_nbformat": 4
 },
 "nbformat": 4,
 "nbformat_minor": 2
}
