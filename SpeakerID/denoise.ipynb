{
 "cells": [
  {
   "cell_type": "code",
   "execution_count": 1,
   "metadata": {
    "ExecuteTime": {
     "end_time": "2023-06-12T12:00:43.157355100Z",
     "start_time": "2023-06-12T12:00:42.566934800Z"
    },
    "collapsed": true
   },
   "outputs": [
    {
     "name": "stderr",
     "output_type": "stream",
     "text": [
      "2023-06-13 00:43:35,703 - modelscope - INFO - PyTorch version 2.0.1+cu118 Found.\n",
      "2023-06-13 00:43:35,709 - modelscope - INFO - Loading ast index from /root/.cache/modelscope/ast_indexer\n",
      "2023-06-13 00:43:35,727 - modelscope - INFO - Loading done! Current index file version is 1.6.1, with md5 2d7845052188f90f8e56b158b6752809 and a total number of 849 components indexed\n",
      "/root/venvs/til2023/lib/python3.8/site-packages/tqdm/auto.py:21: TqdmWarning: IProgress not found. Please update jupyter and ipywidgets. See https://ipywidgets.readthedocs.io/en/stable/user_install.html\n",
      "  from .autonotebook import tqdm as notebook_tqdm\n",
      "2023-06-13 00:43:36,812 - modelscope - INFO - initiate model from speech_frcrn_ans_cirm_16k\n",
      "2023-06-13 00:43:36,814 - modelscope - INFO - initiate model from location speech_frcrn_ans_cirm_16k.\n",
      "2023-06-13 00:43:36,823 - modelscope - INFO - initialize model from speech_frcrn_ans_cirm_16k\n",
      "2023-06-13 00:43:37,588 - modelscope - WARNING - No preprocessor field found in cfg.\n",
      "2023-06-13 00:43:37,589 - modelscope - WARNING - No val key and type key found in preprocessor domain of configuration.json file.\n",
      "2023-06-13 00:43:37,589 - modelscope - WARNING - Cannot find available config to build preprocessor at mode inference, current config: {'model_dir': 'speech_frcrn_ans_cirm_16k'}. trying to build by task and model information.\n",
      "2023-06-13 00:43:37,589 - modelscope - WARNING - No preprocessor key ('speech_frcrn_ans_cirm_16k', 'acoustic-noise-suppression') found in PREPROCESSOR_MAP, skip building preprocessor.\n"
     ]
    },
    {
     "name": "stdout",
     "output_type": "stream",
     "text": [
      "\u001B[32m2023-06-13 00:43:37\u001B[0m | \u001B[1mINFO    \u001B[0m | \u001B[36mDF\u001B[0m | \u001B[1mRunning on torch 2.0.1+cu118\u001B[0m\n",
      "\u001B[32m2023-06-13 00:43:37\u001B[0m | \u001B[1mINFO    \u001B[0m | \u001B[36mDF\u001B[0m | \u001B[1mRunning on host Desktop\u001B[0m\n",
      "\u001B[32m2023-06-13 00:43:37\u001B[0m | \u001B[1mINFO    \u001B[0m | \u001B[36mDF\u001B[0m | \u001B[1mLoading model settings of DeepFilterNet3\u001B[0m\n"
     ]
    },
    {
     "name": "stderr",
     "output_type": "stream",
     "text": [
      "fatal: not a git repository (or any of the parent directories): .git\n"
     ]
    },
    {
     "name": "stdout",
     "output_type": "stream",
     "text": [
      "\u001B[32m2023-06-13 00:43:37\u001B[0m | \u001B[1mINFO    \u001B[0m | \u001B[36mDF\u001B[0m | \u001B[1mInitializing model `deepfilternet3`\u001B[0m\n",
      "\u001B[32m2023-06-13 00:43:39\u001B[0m | \u001B[1mINFO    \u001B[0m | \u001B[36mDF\u001B[0m | \u001B[1mFound checkpoint DeepFilterNet3/checkpoints/model_120.ckpt.best with epoch 120\u001B[0m\n",
      "\u001B[32m2023-06-13 00:43:40\u001B[0m | \u001B[1mINFO    \u001B[0m | \u001B[36mDF\u001B[0m | \u001B[1mRunning on device cuda:0\u001B[0m\n",
      "\u001B[32m2023-06-13 00:43:40\u001B[0m | \u001B[1mINFO    \u001B[0m | \u001B[36mDF\u001B[0m | \u001B[1mModel loaded\u001B[0m\n"
     ]
    },
    {
     "name": "stderr",
     "output_type": "stream",
     "text": [
      "  0%|          | 0/32 [00:00<?, ?it/s]"
     ]
    },
    {
     "name": "stdout",
     "output_type": "stream",
     "text": [
      "inputs:(1, 240000)\n",
      "padding: 24000\n",
      "inputs after padding:(1, 264000)\n"
     ]
    },
    {
     "name": "stderr",
     "output_type": "stream",
     "text": [
      "\u001B[32m2023-06-13 00:43:41\u001B[0m | \u001B[33m\u001B[1mWARNING \u001B[0m | \u001B[36mDF\u001B[0m | \u001B[33m\u001B[1mAudio sampling rate does not match model sampling rate (16000, 48000). Resampling...\u001B[0m\n",
      "/root/venvs/til2023/lib/python3.8/site-packages/torchaudio/functional/functional.py:1458: UserWarning: \"sinc_interpolation\" resampling method name is being deprecated and replaced by \"sinc_interp_hann\" in the next release. The default behavior remains unchanged.\n",
      "  warnings.warn(\n",
      "  3%|▎         | 1/32 [00:03<01:34,  3.05s/it]"
     ]
    },
    {
     "name": "stdout",
     "output_type": "stream",
     "text": [
      "inputs:(1, 240000)\n",
      "padding: 24000\n",
      "inputs after padding:(1, 264000)\n"
     ]
    },
    {
     "name": "stderr",
     "output_type": "stream",
     "text": [
      "/root/venvs/til2023/lib/python3.8/site-packages/torchaudio/functional/functional.py:1458: UserWarning: \"sinc_interpolation\" resampling method name is being deprecated and replaced by \"sinc_interp_hann\" in the next release. The default behavior remains unchanged.\n",
      "  warnings.warn(\n",
      "  6%|▋         | 2/32 [00:03<00:54,  1.81s/it]"
     ]
    },
    {
     "name": "stdout",
     "output_type": "stream",
     "text": [
      "inputs:(1, 240000)\n",
      "padding: 24000\n",
      "inputs after padding:(1, 264000)\n"
     ]
    },
    {
     "name": "stderr",
     "output_type": "stream",
     "text": [
      "/root/venvs/til2023/lib/python3.8/site-packages/torchaudio/functional/functional.py:1458: UserWarning: \"sinc_interpolation\" resampling method name is being deprecated and replaced by \"sinc_interp_hann\" in the next release. The default behavior remains unchanged.\n",
      "  warnings.warn(\n",
      "  9%|▉         | 3/32 [00:04<00:41,  1.43s/it]"
     ]
    },
    {
     "name": "stdout",
     "output_type": "stream",
     "text": [
      "inputs:(1, 240000)\n",
      "padding: 24000\n",
      "inputs after padding:(1, 264000)\n"
     ]
    },
    {
     "name": "stderr",
     "output_type": "stream",
     "text": [
      "/root/venvs/til2023/lib/python3.8/site-packages/torchaudio/functional/functional.py:1458: UserWarning: \"sinc_interpolation\" resampling method name is being deprecated and replaced by \"sinc_interp_hann\" in the next release. The default behavior remains unchanged.\n",
      "  warnings.warn(\n",
      " 12%|█▎        | 4/32 [00:05<00:34,  1.25s/it]"
     ]
    },
    {
     "name": "stdout",
     "output_type": "stream",
     "text": [
      "inputs:(1, 240000)\n",
      "padding: 24000\n",
      "inputs after padding:(1, 264000)\n"
     ]
    },
    {
     "name": "stderr",
     "output_type": "stream",
     "text": [
      "/root/venvs/til2023/lib/python3.8/site-packages/torchaudio/functional/functional.py:1458: UserWarning: \"sinc_interpolation\" resampling method name is being deprecated and replaced by \"sinc_interp_hann\" in the next release. The default behavior remains unchanged.\n",
      "  warnings.warn(\n",
      " 16%|█▌        | 5/32 [00:06<00:30,  1.13s/it]"
     ]
    },
    {
     "name": "stdout",
     "output_type": "stream",
     "text": [
      "inputs:(1, 240000)\n",
      "padding: 24000\n",
      "inputs after padding:(1, 264000)\n"
     ]
    },
    {
     "name": "stderr",
     "output_type": "stream",
     "text": [
      "/root/venvs/til2023/lib/python3.8/site-packages/torchaudio/functional/functional.py:1458: UserWarning: \"sinc_interpolation\" resampling method name is being deprecated and replaced by \"sinc_interp_hann\" in the next release. The default behavior remains unchanged.\n",
      "  warnings.warn(\n",
      " 19%|█▉        | 6/32 [00:07<00:27,  1.05s/it]"
     ]
    },
    {
     "name": "stdout",
     "output_type": "stream",
     "text": [
      "inputs:(1, 240000)\n",
      "padding: 24000\n",
      "inputs after padding:(1, 264000)\n"
     ]
    },
    {
     "name": "stderr",
     "output_type": "stream",
     "text": [
      "/root/venvs/til2023/lib/python3.8/site-packages/torchaudio/functional/functional.py:1458: UserWarning: \"sinc_interpolation\" resampling method name is being deprecated and replaced by \"sinc_interp_hann\" in the next release. The default behavior remains unchanged.\n",
      "  warnings.warn(\n",
      " 22%|██▏       | 7/32 [00:08<00:26,  1.06s/it]"
     ]
    },
    {
     "name": "stdout",
     "output_type": "stream",
     "text": [
      "inputs:(1, 240000)\n",
      "padding: 24000\n",
      "inputs after padding:(1, 264000)\n"
     ]
    },
    {
     "name": "stderr",
     "output_type": "stream",
     "text": [
      "/root/venvs/til2023/lib/python3.8/site-packages/torchaudio/functional/functional.py:1458: UserWarning: \"sinc_interpolation\" resampling method name is being deprecated and replaced by \"sinc_interp_hann\" in the next release. The default behavior remains unchanged.\n",
      "  warnings.warn(\n",
      " 25%|██▌       | 8/32 [00:09<00:25,  1.06s/it]"
     ]
    },
    {
     "name": "stdout",
     "output_type": "stream",
     "text": [
      "inputs:(1, 240000)\n",
      "padding: 24000\n",
      "inputs after padding:(1, 264000)\n"
     ]
    },
    {
     "name": "stderr",
     "output_type": "stream",
     "text": [
      "/root/venvs/til2023/lib/python3.8/site-packages/torchaudio/functional/functional.py:1458: UserWarning: \"sinc_interpolation\" resampling method name is being deprecated and replaced by \"sinc_interp_hann\" in the next release. The default behavior remains unchanged.\n",
      "  warnings.warn(\n",
      " 28%|██▊       | 9/32 [00:10<00:24,  1.05s/it]"
     ]
    },
    {
     "name": "stdout",
     "output_type": "stream",
     "text": [
      "inputs:(1, 240000)\n",
      "padding: 24000\n",
      "inputs after padding:(1, 264000)\n"
     ]
    },
    {
     "name": "stderr",
     "output_type": "stream",
     "text": [
      "/root/venvs/til2023/lib/python3.8/site-packages/torchaudio/functional/functional.py:1458: UserWarning: \"sinc_interpolation\" resampling method name is being deprecated and replaced by \"sinc_interp_hann\" in the next release. The default behavior remains unchanged.\n",
      "  warnings.warn(\n",
      " 31%|███▏      | 10/32 [00:11<00:22,  1.04s/it]"
     ]
    },
    {
     "name": "stdout",
     "output_type": "stream",
     "text": [
      "inputs:(1, 240000)\n",
      "padding: 24000\n",
      "inputs after padding:(1, 264000)\n"
     ]
    },
    {
     "name": "stderr",
     "output_type": "stream",
     "text": [
      "/root/venvs/til2023/lib/python3.8/site-packages/torchaudio/functional/functional.py:1458: UserWarning: \"sinc_interpolation\" resampling method name is being deprecated and replaced by \"sinc_interp_hann\" in the next release. The default behavior remains unchanged.\n",
      "  warnings.warn(\n",
      " 34%|███▍      | 11/32 [00:12<00:21,  1.03s/it]"
     ]
    },
    {
     "name": "stdout",
     "output_type": "stream",
     "text": [
      "inputs:(1, 240000)\n",
      "padding: 24000\n",
      "inputs after padding:(1, 264000)\n"
     ]
    },
    {
     "name": "stderr",
     "output_type": "stream",
     "text": [
      "/root/venvs/til2023/lib/python3.8/site-packages/torchaudio/functional/functional.py:1458: UserWarning: \"sinc_interpolation\" resampling method name is being deprecated and replaced by \"sinc_interp_hann\" in the next release. The default behavior remains unchanged.\n",
      "  warnings.warn(\n",
      " 38%|███▊      | 12/32 [00:13<00:20,  1.03s/it]"
     ]
    },
    {
     "name": "stdout",
     "output_type": "stream",
     "text": [
      "inputs:(1, 240000)\n",
      "padding: 24000\n",
      "inputs after padding:(1, 264000)\n"
     ]
    },
    {
     "name": "stderr",
     "output_type": "stream",
     "text": [
      "/root/venvs/til2023/lib/python3.8/site-packages/torchaudio/functional/functional.py:1458: UserWarning: \"sinc_interpolation\" resampling method name is being deprecated and replaced by \"sinc_interp_hann\" in the next release. The default behavior remains unchanged.\n",
      "  warnings.warn(\n",
      " 41%|████      | 13/32 [00:15<00:19,  1.03s/it]"
     ]
    },
    {
     "name": "stdout",
     "output_type": "stream",
     "text": [
      "inputs:(1, 240000)\n",
      "padding: 24000\n",
      "inputs after padding:(1, 264000)\n"
     ]
    },
    {
     "name": "stderr",
     "output_type": "stream",
     "text": [
      "/root/venvs/til2023/lib/python3.8/site-packages/torchaudio/functional/functional.py:1458: UserWarning: \"sinc_interpolation\" resampling method name is being deprecated and replaced by \"sinc_interp_hann\" in the next release. The default behavior remains unchanged.\n",
      "  warnings.warn(\n",
      " 44%|████▍     | 14/32 [00:16<00:18,  1.03s/it]"
     ]
    },
    {
     "name": "stdout",
     "output_type": "stream",
     "text": [
      "inputs:(1, 240000)\n",
      "padding: 24000\n",
      "inputs after padding:(1, 264000)\n"
     ]
    },
    {
     "name": "stderr",
     "output_type": "stream",
     "text": [
      "/root/venvs/til2023/lib/python3.8/site-packages/torchaudio/functional/functional.py:1458: UserWarning: \"sinc_interpolation\" resampling method name is being deprecated and replaced by \"sinc_interp_hann\" in the next release. The default behavior remains unchanged.\n",
      "  warnings.warn(\n",
      " 47%|████▋     | 15/32 [00:17<00:17,  1.03s/it]"
     ]
    },
    {
     "name": "stdout",
     "output_type": "stream",
     "text": [
      "inputs:(1, 240000)\n",
      "padding: 24000\n",
      "inputs after padding:(1, 264000)\n"
     ]
    },
    {
     "name": "stderr",
     "output_type": "stream",
     "text": [
      "/root/venvs/til2023/lib/python3.8/site-packages/torchaudio/functional/functional.py:1458: UserWarning: \"sinc_interpolation\" resampling method name is being deprecated and replaced by \"sinc_interp_hann\" in the next release. The default behavior remains unchanged.\n",
      "  warnings.warn(\n",
      " 50%|█████     | 16/32 [00:18<00:16,  1.03s/it]"
     ]
    },
    {
     "name": "stdout",
     "output_type": "stream",
     "text": [
      "inputs:(1, 240000)\n",
      "padding: 24000\n",
      "inputs after padding:(1, 264000)\n"
     ]
    },
    {
     "name": "stderr",
     "output_type": "stream",
     "text": [
      "/root/venvs/til2023/lib/python3.8/site-packages/torchaudio/functional/functional.py:1458: UserWarning: \"sinc_interpolation\" resampling method name is being deprecated and replaced by \"sinc_interp_hann\" in the next release. The default behavior remains unchanged.\n",
      "  warnings.warn(\n",
      " 53%|█████▎    | 17/32 [00:19<00:15,  1.03s/it]"
     ]
    },
    {
     "name": "stdout",
     "output_type": "stream",
     "text": [
      "inputs:(1, 240000)\n",
      "padding: 24000\n",
      "inputs after padding:(1, 264000)\n"
     ]
    },
    {
     "name": "stderr",
     "output_type": "stream",
     "text": [
      "/root/venvs/til2023/lib/python3.8/site-packages/torchaudio/functional/functional.py:1458: UserWarning: \"sinc_interpolation\" resampling method name is being deprecated and replaced by \"sinc_interp_hann\" in the next release. The default behavior remains unchanged.\n",
      "  warnings.warn(\n",
      " 56%|█████▋    | 18/32 [00:20<00:14,  1.04s/it]"
     ]
    },
    {
     "name": "stdout",
     "output_type": "stream",
     "text": [
      "inputs:(1, 240000)\n",
      "padding: 24000\n",
      "inputs after padding:(1, 264000)\n"
     ]
    },
    {
     "name": "stderr",
     "output_type": "stream",
     "text": [
      "/root/venvs/til2023/lib/python3.8/site-packages/torchaudio/functional/functional.py:1458: UserWarning: \"sinc_interpolation\" resampling method name is being deprecated and replaced by \"sinc_interp_hann\" in the next release. The default behavior remains unchanged.\n",
      "  warnings.warn(\n",
      " 59%|█████▉    | 19/32 [00:21<00:13,  1.03s/it]"
     ]
    },
    {
     "name": "stdout",
     "output_type": "stream",
     "text": [
      "inputs:(1, 240000)\n",
      "padding: 24000\n",
      "inputs after padding:(1, 264000)\n"
     ]
    },
    {
     "name": "stderr",
     "output_type": "stream",
     "text": [
      "/root/venvs/til2023/lib/python3.8/site-packages/torchaudio/functional/functional.py:1458: UserWarning: \"sinc_interpolation\" resampling method name is being deprecated and replaced by \"sinc_interp_hann\" in the next release. The default behavior remains unchanged.\n",
      "  warnings.warn(\n",
      " 62%|██████▎   | 20/32 [00:22<00:12,  1.03s/it]"
     ]
    },
    {
     "name": "stdout",
     "output_type": "stream",
     "text": [
      "inputs:(1, 240000)\n",
      "padding: 24000\n",
      "inputs after padding:(1, 264000)\n"
     ]
    },
    {
     "name": "stderr",
     "output_type": "stream",
     "text": [
      "/root/venvs/til2023/lib/python3.8/site-packages/torchaudio/functional/functional.py:1458: UserWarning: \"sinc_interpolation\" resampling method name is being deprecated and replaced by \"sinc_interp_hann\" in the next release. The default behavior remains unchanged.\n",
      "  warnings.warn(\n",
      " 66%|██████▌   | 21/32 [00:23<00:11,  1.02s/it]"
     ]
    },
    {
     "name": "stdout",
     "output_type": "stream",
     "text": [
      "inputs:(1, 240000)\n",
      "padding: 24000\n",
      "inputs after padding:(1, 264000)\n"
     ]
    },
    {
     "name": "stderr",
     "output_type": "stream",
     "text": [
      "/root/venvs/til2023/lib/python3.8/site-packages/torchaudio/functional/functional.py:1458: UserWarning: \"sinc_interpolation\" resampling method name is being deprecated and replaced by \"sinc_interp_hann\" in the next release. The default behavior remains unchanged.\n",
      "  warnings.warn(\n",
      " 69%|██████▉   | 22/32 [00:24<00:10,  1.01s/it]"
     ]
    },
    {
     "name": "stdout",
     "output_type": "stream",
     "text": [
      "inputs:(1, 240000)\n",
      "padding: 24000\n",
      "inputs after padding:(1, 264000)\n"
     ]
    },
    {
     "name": "stderr",
     "output_type": "stream",
     "text": [
      "/root/venvs/til2023/lib/python3.8/site-packages/torchaudio/functional/functional.py:1458: UserWarning: \"sinc_interpolation\" resampling method name is being deprecated and replaced by \"sinc_interp_hann\" in the next release. The default behavior remains unchanged.\n",
      "  warnings.warn(\n",
      " 72%|███████▏  | 23/32 [00:25<00:09,  1.01s/it]"
     ]
    },
    {
     "name": "stdout",
     "output_type": "stream",
     "text": [
      "inputs:(1, 240000)\n",
      "padding: 24000\n",
      "inputs after padding:(1, 264000)\n"
     ]
    },
    {
     "name": "stderr",
     "output_type": "stream",
     "text": [
      "/root/venvs/til2023/lib/python3.8/site-packages/torchaudio/functional/functional.py:1458: UserWarning: \"sinc_interpolation\" resampling method name is being deprecated and replaced by \"sinc_interp_hann\" in the next release. The default behavior remains unchanged.\n",
      "  warnings.warn(\n",
      " 75%|███████▌  | 24/32 [00:26<00:08,  1.03s/it]"
     ]
    },
    {
     "name": "stdout",
     "output_type": "stream",
     "text": [
      "inputs:(1, 240000)\n",
      "padding: 24000\n",
      "inputs after padding:(1, 264000)\n"
     ]
    },
    {
     "name": "stderr",
     "output_type": "stream",
     "text": [
      "/root/venvs/til2023/lib/python3.8/site-packages/pyloudnorm/normalize.py:62: UserWarning: Possible clipped samples in output.\n",
      "  warnings.warn(\"Possible clipped samples in output.\")\n",
      " 78%|███████▊  | 25/32 [00:27<00:06,  1.06it/s]"
     ]
    },
    {
     "name": "stdout",
     "output_type": "stream",
     "text": [
      "inputs:(1, 240000)\n",
      "padding: 24000\n",
      "inputs after padding:(1, 264000)\n"
     ]
    },
    {
     "name": "stderr",
     "output_type": "stream",
     "text": [
      "/root/venvs/til2023/lib/python3.8/site-packages/pyloudnorm/normalize.py:62: UserWarning: Possible clipped samples in output.\n",
      "  warnings.warn(\"Possible clipped samples in output.\")\n",
      " 81%|████████▏ | 26/32 [00:27<00:05,  1.11it/s]"
     ]
    },
    {
     "name": "stdout",
     "output_type": "stream",
     "text": [
      "inputs:(1, 240000)\n",
      "padding: 24000\n",
      "inputs after padding:(1, 264000)\n"
     ]
    },
    {
     "name": "stderr",
     "output_type": "stream",
     "text": [
      "/root/venvs/til2023/lib/python3.8/site-packages/pyloudnorm/normalize.py:62: UserWarning: Possible clipped samples in output.\n",
      "  warnings.warn(\"Possible clipped samples in output.\")\n",
      " 84%|████████▍ | 27/32 [00:28<00:04,  1.15it/s]"
     ]
    },
    {
     "name": "stdout",
     "output_type": "stream",
     "text": [
      "inputs:(1, 240000)\n",
      "padding: 24000\n",
      "inputs after padding:(1, 264000)\n"
     ]
    },
    {
     "name": "stderr",
     "output_type": "stream",
     "text": [
      "/root/venvs/til2023/lib/python3.8/site-packages/pyloudnorm/normalize.py:62: UserWarning: Possible clipped samples in output.\n",
      "  warnings.warn(\"Possible clipped samples in output.\")\n",
      " 88%|████████▊ | 28/32 [00:29<00:03,  1.18it/s]"
     ]
    },
    {
     "name": "stdout",
     "output_type": "stream",
     "text": [
      "inputs:(1, 240000)\n",
      "padding: 24000\n",
      "inputs after padding:(1, 264000)\n"
     ]
    },
    {
     "name": "stderr",
     "output_type": "stream",
     "text": [
      "/root/venvs/til2023/lib/python3.8/site-packages/torchaudio/functional/functional.py:1458: UserWarning: \"sinc_interpolation\" resampling method name is being deprecated and replaced by \"sinc_interp_hann\" in the next release. The default behavior remains unchanged.\n",
      "  warnings.warn(\n",
      " 91%|█████████ | 29/32 [00:30<00:02,  1.12it/s]"
     ]
    },
    {
     "name": "stdout",
     "output_type": "stream",
     "text": [
      "inputs:(1, 240000)\n",
      "padding: 24000\n",
      "inputs after padding:(1, 264000)\n"
     ]
    },
    {
     "name": "stderr",
     "output_type": "stream",
     "text": [
      "/root/venvs/til2023/lib/python3.8/site-packages/torchaudio/functional/functional.py:1458: UserWarning: \"sinc_interpolation\" resampling method name is being deprecated and replaced by \"sinc_interp_hann\" in the next release. The default behavior remains unchanged.\n",
      "  warnings.warn(\n",
      " 94%|█████████▍| 30/32 [00:31<00:01,  1.08it/s]"
     ]
    },
    {
     "name": "stdout",
     "output_type": "stream",
     "text": [
      "inputs:(1, 240000)\n",
      "padding: 24000\n",
      "inputs after padding:(1, 264000)\n"
     ]
    },
    {
     "name": "stderr",
     "output_type": "stream",
     "text": [
      "/root/venvs/til2023/lib/python3.8/site-packages/torchaudio/functional/functional.py:1458: UserWarning: \"sinc_interpolation\" resampling method name is being deprecated and replaced by \"sinc_interp_hann\" in the next release. The default behavior remains unchanged.\n",
      "  warnings.warn(\n",
      " 97%|█████████▋| 31/32 [00:32<00:00,  1.04it/s]"
     ]
    },
    {
     "name": "stdout",
     "output_type": "stream",
     "text": [
      "inputs:(1, 240000)\n",
      "padding: 24000\n",
      "inputs after padding:(1, 264000)\n"
     ]
    },
    {
     "name": "stderr",
     "output_type": "stream",
     "text": [
      "/root/venvs/til2023/lib/python3.8/site-packages/torchaudio/functional/functional.py:1458: UserWarning: \"sinc_interpolation\" resampling method name is being deprecated and replaced by \"sinc_interp_hann\" in the next release. The default behavior remains unchanged.\n",
      "  warnings.warn(\n",
      "100%|██████████| 32/32 [00:33<00:00,  1.05s/it]\n"
     ]
    }
   ],
   "source": [
    "from df.enhance import enhance, init_df, load_audio, save_audio\n",
    "from pathlib import Path\n",
    "from tqdm import tqdm\n",
    "import glob\n",
    "import os\n",
    "from modelscope.pipelines import pipeline\n",
    "from modelscope.utils.constant import Tasks\n",
    "import torch\n",
    "import soundfile as sf\n",
    "import pyloudnorm as pyln\n",
    "from scipy.io.wavfile import write\n",
    "import librosa\n",
    "\n",
    "\n",
    "OUTPUT_DIR = Path(\"train_denoised\")\n",
    "\n",
    "# make the OUTPUT_DIR if it doesn't exist\n",
    "os.makedirs(OUTPUT_DIR, exist_ok=True)\n",
    "frcrn = pipeline(Tasks.acoustic_noise_suppression, model='speech_frcrn_ans_cirm_16k')\n",
    "# Load default model\n",
    "model, df_state, model_name_suffix = init_df(model_base_dir=\"DeepFilterNet3/\")\n",
    "# Get our SpeakerID audio\n",
    "speakerID_audio_folder = \"train\"\n",
    "audio_paths = glob.glob(f\"{speakerID_audio_folder}/*.wav\")\n",
    "# Enhance each audio\n",
    "for audio_path in tqdm(audio_paths):\n",
    "    # get the audio filename without .wav extension\n",
    "    audio_filename = os.path.splitext(os.path.basename(audio_path))[0]\n",
    "    output_path = OUTPUT_DIR/f\"{audio_filename}_enhanced.wav\"\n",
    "    frcrn(audio_path, output_path=output_path)\n",
    "\n",
    "    data, rate = sf.read(output_path) # load audio\n",
    "    # peak normalize audio to -0.1 dB as frcrn tend to output very soft\n",
    "    peak_normalized_audio = pyln.normalize.peak(data, -0.1)  # not using loudness norm here as it causes a bit of clipping\n",
    "    sf.write(output_path, peak_normalized_audio, rate)\n",
    "    if 'PALMTREE' not in audio_path:\n",
    "        audio, _ = load_audio(output_path, sr=df_state.sr())\n",
    "        # Denoise the audio\n",
    "        enhanced = enhance(model, df_state, audio)\n",
    "        # Save for listening\n",
    "        save_audio(output_path, enhanced, df_state.sr(), dtype=torch.float16)  # default is torch.int16 which causes clipping on some audios\n",
    "    audio, sr = librosa.load(output_path, sr=22050)  # downsample to 22.05Khz\n",
    "    sf.write(output_path, audio, sr)  # save the downsampled one\n",
    "\n",
    "    data, rate = sf.read(output_path) # load audio\n",
    "    if 'PALMTREE' not in audio_path:\n",
    "        # peak normalize audio to -0.1 dB as frcrn tend to output very soft\n",
    "        normalized_audio = pyln.normalize.peak(data, -0.1)  # not using loudness norm here as it causes a bit of clipping on non palmtree clips\n",
    "    else:  # PALMTREE ones need louder\n",
    "        # measure the loudness first \n",
    "        meter = pyln.Meter(rate) # create BS.1770 meter\n",
    "        loudness = meter.integrated_loudness(data)\n",
    "        # loudness normalize audio to -18 dB LUFS\n",
    "        normalized_audio = pyln.normalize.loudness(data, loudness, -18.0)\n",
    "    sf.write(output_path, normalized_audio, rate)\n",
    "# TOMATOFARMER_memberD_train_enhanced.wav is denosied using DeepfilterNet2 https://huggingface.co/spaces/hshr/DeepFilterNet2 then normalized peak to -0.1db using Adobe Audition\n"
   ]
  }
 ],
 "metadata": {
  "kernelspec": {
   "display_name": "Python 3",
   "language": "python",
   "name": "python3"
  },
  "language_info": {
   "codemirror_mode": {
    "name": "ipython",
    "version": 3
   },
   "file_extension": ".py",
   "mimetype": "text/x-python",
   "name": "python",
   "nbconvert_exporter": "python",
   "pygments_lexer": "ipython3",
   "version": "3.8.17"
  }
 },
 "nbformat": 4,
 "nbformat_minor": 0
}
