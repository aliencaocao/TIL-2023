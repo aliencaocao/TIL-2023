{
 "cells": [
  {
   "cell_type": "code",
   "execution_count": 1,
   "metadata": {
    "collapsed": false,
    "ExecuteTime": {
     "end_time": "2023-05-28T10:58:35.369155100Z",
     "start_time": "2023-05-28T10:58:33.253155400Z"
    }
   },
   "outputs": [],
   "source": [
    "import os\n",
    "os.environ['CUDA_MODULE_LOADING'] = 'LAZY'\n",
    "import time\n",
    "import contextlib\n",
    "from collections import namedtuple, OrderedDict\n",
    "\n",
    "import cv2\n",
    "import torch\n",
    "import numpy as np\n",
    "import tensorrt as trt\n",
    "import pycuda.driver as cuda"
   ]
  },
  {
   "cell_type": "code",
   "execution_count": 2,
   "metadata": {
    "collapsed": false,
    "ExecuteTime": {
     "end_time": "2023-05-28T10:58:38.583153500Z",
     "start_time": "2023-05-28T10:58:38.576154200Z"
    }
   },
   "outputs": [],
   "source": [
    "class TRTInference:\n",
    "    def __init__(self, engine_path, output_names_mapping: dict = None, verbose=False):\n",
    "        cuda.init()\n",
    "        self.device_ctx = cuda.Device(0).make_context()\n",
    "        self.engine_path = engine_path\n",
    "        self.output_names_mapping = output_names_mapping or {}\n",
    "        self.logger = trt.Logger(trt.Logger.VERBOSE) if verbose else trt.Logger(trt.Logger.INFO)\n",
    "        self.engine = None\n",
    "        self.load_engine()\n",
    "        assert self.engine is not None, 'Failed to load TensorRT engine.'\n",
    "\n",
    "        self.context = self.engine.create_execution_context()\n",
    "        self.stream = cuda.Stream()\n",
    "\n",
    "        self.bindings = self.get_bindings()\n",
    "        self.bindings_addr = OrderedDict((n, v.ptr) for n, v in self.bindings.items())\n",
    "\n",
    "        self.input_names = self.get_input_names()\n",
    "        self.output_names = self.get_output_names()\n",
    "\n",
    "    def load_engine(self):\n",
    "        with open(self.engine_path, 'rb') as f, trt.Runtime(self.logger) as runtime:\n",
    "            self.engine = runtime.deserialize_cuda_engine(f.read())\n",
    "\n",
    "    def get_input_names(self):\n",
    "        names = []\n",
    "        for _, name in enumerate(self.engine):\n",
    "            if self.engine.get_tensor_mode(name) == trt.TensorIOMode.INPUT:\n",
    "                names.append(name)\n",
    "        return names\n",
    "\n",
    "    def get_output_names(self):\n",
    "        names = []\n",
    "        for _, name in enumerate(self.engine):\n",
    "            if self.engine.get_tensor_mode(name) == trt.TensorIOMode.OUTPUT:\n",
    "                names.append(name)\n",
    "        return names\n",
    "\n",
    "    def get_bindings(self):\n",
    "        Binding = namedtuple('Binding', ('name', 'dtype', 'shape', 'data', 'ptr'))\n",
    "        bindings = OrderedDict()\n",
    "\n",
    "        for i, name in enumerate(self.engine):\n",
    "            shape = self.engine.get_tensor_shape(name)\n",
    "            dtype = trt.nptype(self.engine.get_tensor_dtype(name))\n",
    "            if self.engine.get_tensor_mode(name) == trt.TensorIOMode.INPUT:\n",
    "                data = np.random.randn(*shape).astype(dtype)\n",
    "                ptr = cuda.mem_alloc(data.nbytes)\n",
    "                bindings[name] = Binding(name, dtype, shape, data, ptr)\n",
    "            else:\n",
    "                data = cuda.pagelocked_empty(trt.volume(shape), dtype)\n",
    "                ptr = cuda.mem_alloc(data.nbytes)\n",
    "                bindings[name] = Binding(name, dtype, shape, data, ptr)\n",
    "\n",
    "        return bindings\n",
    "\n",
    "    def __call__(self, blob):\n",
    "        blob = {n: np.ascontiguousarray(v) for n, v in blob.items()}\n",
    "        for n in self.input_names:\n",
    "            cuda.memcpy_htod_async(self.bindings_addr[n], blob[n], self.stream)\n",
    "\n",
    "        bindings_addr = [int(v) for _, v in self.bindings_addr.items()]\n",
    "        self.context.execute_async_v2(bindings=bindings_addr, stream_handle=self.stream.handle)\n",
    "\n",
    "        outputs = {}\n",
    "        for n in self.output_names:\n",
    "            cuda.memcpy_dtoh_async(self.bindings[n].data, self.bindings[n].ptr, self.stream)\n",
    "            o = self.bindings[n].data\n",
    "            # reshape to correct output shape\n",
    "            if o.shape != self.bindings[n].shape:\n",
    "                o = o.reshape(self.bindings[n].shape)\n",
    "            outputs[self.output_names_mapping.get(n, n)] = o\n",
    "\n",
    "        self.stream.synchronize()\n",
    "\n",
    "        return outputs\n",
    "\n",
    "    def warmup(self, blob, n=50):\n",
    "        for _ in range(n):\n",
    "            _ = self(blob)\n",
    "\n",
    "    def __del__(self):\n",
    "        try:\n",
    "            self.device_ctx.pop()\n",
    "        except cuda.LogicError as _:\n",
    "            pass"
   ]
  },
  {
   "cell_type": "code",
   "execution_count": 3,
   "metadata": {
    "collapsed": false,
    "ExecuteTime": {
     "end_time": "2023-05-28T10:58:42.538089900Z",
     "start_time": "2023-05-28T10:58:40.178091100Z"
    }
   },
   "outputs": [],
   "source": [
    "model = TRTInference('wav2vec2-conformer.trt', verbose=True)\n",
    "model.warmup({'input': np.random.randn(1, 16000)})"
   ]
  },
  {
   "cell_type": "code",
   "execution_count": 7,
   "metadata": {
    "collapsed": false,
    "ExecuteTime": {
     "end_time": "2023-05-28T10:59:29.613384100Z",
     "start_time": "2023-05-28T10:59:29.592385500Z"
    }
   },
   "outputs": [],
   "source": [
    "import torchaudio\n",
    "from transformers import Wav2Vec2Processor\n",
    "processor = Wav2Vec2Processor.from_pretrained('wav2vec2-conformer')"
   ]
  },
  {
   "cell_type": "code",
   "execution_count": 17,
   "metadata": {
    "collapsed": false,
    "ExecuteTime": {
     "end_time": "2023-05-28T11:01:16.791265400Z",
     "start_time": "2023-05-28T11:01:16.537264900Z"
    }
   },
   "outputs": [
    {
     "data": {
      "text/plain": "'SHE SCORED NINE FOR THE QUIZ HELP FROM HER FRIENDS'"
     },
     "execution_count": 17,
     "metadata": {},
     "output_type": "execute_result"
    }
   ],
   "source": [
    "audio, sr = torchaudio.load('train/audio/train_00001.wav')\n",
    "audio = processor(audio, sampling_rate=16000).input_values[0][0]\n",
    "audio = np.expand_dims(audio, axis=0)\n",
    "output = model({'input': audio})['output']\n",
    "processor.batch_decode(np.argmax(output, axis=-1))[0]"
   ]
  }
 ],
 "metadata": {
  "kernelspec": {
   "display_name": "Python 3",
   "language": "python",
   "name": "python3"
  },
  "language_info": {
   "codemirror_mode": {
    "name": "ipython",
    "version": 2
   },
   "file_extension": ".py",
   "mimetype": "text/x-python",
   "name": "python",
   "nbconvert_exporter": "python",
   "pygments_lexer": "ipython2",
   "version": "3.9.16"
  }
 },
 "nbformat": 4,
 "nbformat_minor": 0
}
