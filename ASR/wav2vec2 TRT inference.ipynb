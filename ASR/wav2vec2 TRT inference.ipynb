{
 "cells": [
  {
   "cell_type": "code",
   "execution_count": 1,
   "metadata": {
    "collapsed": false,
    "ExecuteTime": {
     "end_time": "2023-05-28T10:58:35.369155100Z",
     "start_time": "2023-05-28T10:58:33.253155400Z"
    }
   },
   "outputs": [],
   "source": [
    "import os\n",
    "os.environ['CUDA_MODULE_LOADING'] = 'LAZY'\n",
    "import sys\n",
    "sys.path.insert(0, '../')\n",
    "\n",
    "import cv2\n",
    "import torch\n",
    "import numpy as np\n",
    "from TensorRT_Inference import TRTInference"
   ]
  },
  {
   "cell_type": "code",
   "execution_count": 3,
   "metadata": {
    "collapsed": false,
    "ExecuteTime": {
     "end_time": "2023-05-28T10:58:42.538089900Z",
     "start_time": "2023-05-28T10:58:40.178091100Z"
    }
   },
   "outputs": [],
   "source": [
    "model = TRTInference('wav2vec2-conformer.trt', verbose=True)\n",
    "model.warmup({'input': np.random.randn(1, 16000)})"
   ]
  },
  {
   "cell_type": "code",
   "execution_count": 7,
   "metadata": {
    "collapsed": false,
    "ExecuteTime": {
     "end_time": "2023-05-28T10:59:29.613384100Z",
     "start_time": "2023-05-28T10:59:29.592385500Z"
    }
   },
   "outputs": [],
   "source": [
    "import torchaudio\n",
    "from transformers import Wav2Vec2Processor\n",
    "processor = Wav2Vec2Processor.from_pretrained('wav2vec2-conformer')"
   ]
  },
  {
   "cell_type": "code",
   "execution_count": 17,
   "metadata": {
    "collapsed": false,
    "ExecuteTime": {
     "end_time": "2023-05-28T11:01:16.791265400Z",
     "start_time": "2023-05-28T11:01:16.537264900Z"
    }
   },
   "outputs": [
    {
     "data": {
      "text/plain": "'SHE SCORED NINE FOR THE QUIZ HELP FROM HER FRIENDS'"
     },
     "execution_count": 17,
     "metadata": {},
     "output_type": "execute_result"
    }
   ],
   "source": [
    "audio, sr = torchaudio.load('train/audio/train_00001.wav')\n",
    "audio = processor(audio, sampling_rate=16000).input_values[0][0]\n",
    "audio = np.expand_dims(audio, axis=0)\n",
    "output = model({'input': audio})['output']\n",
    "processor.batch_decode(np.argmax(output, axis=-1))[0]"
   ]
  }
 ],
 "metadata": {
  "kernelspec": {
   "display_name": "Python 3",
   "language": "python",
   "name": "python3"
  },
  "language_info": {
   "codemirror_mode": {
    "name": "ipython",
    "version": 2
   },
   "file_extension": ".py",
   "mimetype": "text/x-python",
   "name": "python",
   "nbconvert_exporter": "python",
   "pygments_lexer": "ipython2",
   "version": "3.9.16"
  }
 },
 "nbformat": 4,
 "nbformat_minor": 0
}
