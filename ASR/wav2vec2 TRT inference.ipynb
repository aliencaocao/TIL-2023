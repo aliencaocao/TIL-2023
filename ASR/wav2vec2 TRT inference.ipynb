{
 "cells": [
  {
   "cell_type": "code",
   "execution_count": 2,
   "metadata": {
    "collapsed": false,
    "ExecuteTime": {
     "end_time": "2023-06-02T14:22:01.393938100Z",
     "start_time": "2023-06-02T14:21:59.704398700Z"
    }
   },
   "outputs": [],
   "source": [
    "import os\n",
    "os.environ['CUDA_MODULE_LOADING'] = 'LAZY'\n",
    "import sys\n",
    "sys.path.insert(0, '../')\n",
    "\n",
    "import cv2\n",
    "import torch\n",
    "import numpy as np\n",
    "from TensorRT_Inference import TRTInference"
   ]
  },
  {
   "cell_type": "code",
   "execution_count": 3,
   "metadata": {
    "collapsed": false,
    "ExecuteTime": {
     "end_time": "2023-06-02T14:22:06.515852100Z",
     "start_time": "2023-06-02T14:22:01.988119500Z"
    }
   },
   "outputs": [],
   "source": [
    "model = TRTInference('wav2vec2-conformer.trt', verbose=True)\n",
    "model.warmup({'input': np.random.randn(1, 16000)})"
   ]
  },
  {
   "cell_type": "code",
   "execution_count": 4,
   "metadata": {
    "collapsed": false,
    "ExecuteTime": {
     "end_time": "2023-06-02T14:22:07.261043Z",
     "start_time": "2023-06-02T14:22:06.515852100Z"
    }
   },
   "outputs": [],
   "source": [
    "import torchaudio\n",
    "from transformers import Wav2Vec2Processor\n",
    "processor = Wav2Vec2Processor.from_pretrained('wav2vec2-conformer')"
   ]
  },
  {
   "cell_type": "code",
   "execution_count": 5,
   "outputs": [],
   "source": [
    "def clean(annotation):\n",
    "    if \"'\" in annotation:\n",
    "        print(annotation, f'has \\' in {annotation}, removing')\n",
    "        annotation = annotation.split(\"'\")[0] + annotation.split(\"'\")[1][1:]  # Tokenizer includes \"'\" but TIL dataset does not, remove the S following '\n",
    "    annotation = ' '.join(annotation.split())  # Remove extra spaces\n",
    "    return annotation"
   ],
   "metadata": {
    "collapsed": false,
    "ExecuteTime": {
     "end_time": "2023-06-02T14:22:10.504772200Z",
     "start_time": "2023-06-02T14:22:10.487802100Z"
    }
   }
  },
  {
   "cell_type": "code",
   "execution_count": 11,
   "metadata": {
    "collapsed": false,
    "ExecuteTime": {
     "end_time": "2023-06-02T14:22:35.081080Z",
     "start_time": "2023-06-02T14:22:34.853064100Z"
    }
   },
   "outputs": [
    {
     "data": {
      "text/plain": "'THE BATTERY LEFT ON THIS FHOND IS ZERO PERCENT TO AT THEIR JOBS'"
     },
     "execution_count": 11,
     "metadata": {},
     "output_type": "execute_result"
    }
   ],
   "source": [
    "audio, sr = torchaudio.load('test/audio/evala_09977.wav')\n",
    "audio = processor(audio, sampling_rate=16000).input_values[0][0]\n",
    "audio = np.expand_dims(audio, axis=0)\n",
    "output = model({'input': audio})['output']\n",
    "clean(processor.batch_decode(np.argmax(output, axis=-1))[0])"
   ]
  }
 ],
 "metadata": {
  "kernelspec": {
   "display_name": "Python 3",
   "language": "python",
   "name": "python3"
  },
  "language_info": {
   "codemirror_mode": {
    "name": "ipython",
    "version": 2
   },
   "file_extension": ".py",
   "mimetype": "text/x-python",
   "name": "python",
   "nbconvert_exporter": "python",
   "pygments_lexer": "ipython2",
   "version": "3.9.16"
  }
 },
 "nbformat": 4,
 "nbformat_minor": 0
}
