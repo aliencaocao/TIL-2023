{
 "cells": [
  {
   "cell_type": "code",
   "execution_count": 1,
   "metadata": {
    "collapsed": false,
    "ExecuteTime": {
     "end_time": "2023-06-07T08:20:38.408182Z",
     "start_time": "2023-06-07T08:20:38.199181400Z"
    }
   },
   "outputs": [],
   "source": [
    "import os\n",
    "os.environ['CUDA_MODULE_LOADING'] = 'LAZY'\n",
    "import sys\n",
    "sys.path.insert(0, '../')\n",
    "\n",
    "import numpy as np\n",
    "from TensorRT_Inference import TRTInference"
   ]
  },
  {
   "cell_type": "code",
   "execution_count": 2,
   "metadata": {
    "collapsed": false,
    "ExecuteTime": {
     "end_time": "2023-06-07T08:20:42.825180100Z",
     "start_time": "2023-06-07T08:20:38.409180800Z"
    }
   },
   "outputs": [],
   "source": [
    "model = TRTInference('wav2vec2-conformer.trt', verbose=True)\n",
    "model.warmup({'input': np.random.randn(1, 16000)})"
   ]
  },
  {
   "cell_type": "code",
   "execution_count": 3,
   "metadata": {
    "collapsed": false,
    "ExecuteTime": {
     "end_time": "2023-06-07T08:20:45.124181700Z",
     "start_time": "2023-06-07T08:20:42.826179900Z"
    }
   },
   "outputs": [],
   "source": [
    "import torchaudio\n",
    "from transformers import Wav2Vec2Processor\n",
    "processor = Wav2Vec2Processor.from_pretrained('wav2vec2-conformer')"
   ]
  },
  {
   "cell_type": "code",
   "execution_count": 4,
   "outputs": [],
   "source": [
    "def clean(annotation):\n",
    "    if \"'\" in annotation:\n",
    "        print(annotation, f'has \\' in it, removing')\n",
    "        annotation = annotation.split(\"'\")[0] + annotation.split(\"'\")[1][1:]  # Tokenizer includes \"'\" but TIL dataset does not, remove the S following '\n",
    "    annotation = ' '.join(annotation.split())  # Remove extra spaces\n",
    "    return annotation"
   ],
   "metadata": {
    "collapsed": false,
    "ExecuteTime": {
     "end_time": "2023-06-07T08:20:45.138181400Z",
     "start_time": "2023-06-07T08:20:45.126182500Z"
    }
   }
  },
  {
   "cell_type": "code",
   "execution_count": 14,
   "metadata": {
    "collapsed": false,
    "ExecuteTime": {
     "end_time": "2023-06-07T08:22:51.374442Z",
     "start_time": "2023-06-07T08:22:51.090013400Z"
    }
   },
   "outputs": [
    {
     "data": {
      "text/plain": "['THE BATTERY LEFT ON THIS PHONE IS ZERO PERCENT',\n 'THE BATTERY LEFT ON THIS PHONE IS ZERO PERCENT']"
     },
     "execution_count": 14,
     "metadata": {},
     "output_type": "execute_result"
    }
   ],
   "source": [
    "audio, sr = torchaudio.load('test/audio/evala_09977.wav')\n",
    "audio = processor(audio, sampling_rate=16000).input_values[0][0]\n",
    "output = model({'input': audio})['output'][0]\n",
    "output = [output, output]\n",
    "[clean(anno) for anno in processor.batch_decode(np.argmax(output, axis=-1))]"
   ]
  },
  {
   "cell_type": "code",
   "execution_count": 15,
   "outputs": [
    {
     "data": {
      "text/plain": "(56064,)"
     },
     "execution_count": 15,
     "metadata": {},
     "output_type": "execute_result"
    }
   ],
   "source": [
    "audio.shape"
   ],
   "metadata": {
    "collapsed": false,
    "ExecuteTime": {
     "end_time": "2023-06-07T08:23:04.663276Z",
     "start_time": "2023-06-07T08:23:04.648278Z"
    }
   }
  }
 ],
 "metadata": {
  "kernelspec": {
   "display_name": "Python 3",
   "language": "python",
   "name": "python3"
  },
  "language_info": {
   "codemirror_mode": {
    "name": "ipython",
    "version": 2
   },
   "file_extension": ".py",
   "mimetype": "text/x-python",
   "name": "python",
   "nbconvert_exporter": "python",
   "pygments_lexer": "ipython2",
   "version": "3.9.16"
  }
 },
 "nbformat": 4,
 "nbformat_minor": 0
}
