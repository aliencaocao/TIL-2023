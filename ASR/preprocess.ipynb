{
 "cells": [
  {
   "cell_type": "code",
   "execution_count": 5,
   "metadata": {
    "collapsed": true,
    "ExecuteTime": {
     "end_time": "2023-05-14T06:07:27.774342600Z",
     "start_time": "2023-05-14T06:07:27.660238500Z"
    }
   },
   "outputs": [],
   "source": [
    "from pydub import AudioSegment\n",
    "track = AudioSegment.from_file('audio/train_00003.m4a',  format='m4a')\n",
    "track.set_channels(1)\n",
    "track.set_frame_rate(16000)\n",
    "file_handle = track.export('audio/train_00003.wav', format='wav')"
   ]
  }
 ],
 "metadata": {
  "kernelspec": {
   "display_name": "Python 3",
   "language": "python",
   "name": "python3"
  },
  "language_info": {
   "codemirror_mode": {
    "name": "ipython",
    "version": 2
   },
   "file_extension": ".py",
   "mimetype": "text/x-python",
   "name": "python",
   "nbconvert_exporter": "python",
   "pygments_lexer": "ipython2",
   "version": "2.7.6"
  }
 },
 "nbformat": 4,
 "nbformat_minor": 0
}
