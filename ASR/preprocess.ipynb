{
 "cells": [
  {
   "cell_type": "code",
   "execution_count": 11,
   "metadata": {
    "collapsed": true,
    "ExecuteTime": {
     "end_time": "2023-05-18T03:18:07.881087200Z",
     "start_time": "2023-05-18T03:18:07.867087100Z"
    }
   },
   "outputs": [],
   "source": [
    "import os\n",
    "from pydub import AudioSegment\n",
    "import pandas as pd\n",
    "augmented = []\n",
    "original_df = pd.read_csv('Train.csv')\n",
    "\n",
    "\n",
    "def speed_change(sound, speed=1.0):\n",
    "    sound_with_altered_frame_rate = sound._spawn(sound.raw_data, overrides={\"frame_rate\": int(sound.frame_rate * speed)})\n",
    "    return sound_with_altered_frame_rate.set_frame_rate(sound.frame_rate)\n",
    "\n",
    "\n",
    "def speed_aug(fname, speeds):\n",
    "    audio = AudioSegment.from_file(fname)\n",
    "    for speed in speeds:\n",
    "        audio = speed_change(audio, speed)\n",
    "        audio.export(f'audio_augmented/train_00003_{speed}.wav', format='wav')\n",
    "        augmented.append({'path': f'audio_augmented/train_00003_{speed}.wav', 'annotation': original_df[original_df['path'] == fname]['annotation'].values[0]})"
   ]
  },
  {
   "cell_type": "code",
   "execution_count": null,
   "outputs": [],
   "source": [
    "for fname in os.listdir('audio'):\n",
    "    speed_aug(f'audio/{fname}', [0.9, 1.1, 1.2])"
   ],
   "metadata": {
    "collapsed": false
   }
  },
  {
   "cell_type": "code",
   "execution_count": 9,
   "outputs": [],
   "source": [
    "augmented_df = pd.DataFrame(augmented)\n",
    "combined_df = pd.concat([original_df, augmented_df])\n",
    "combined_df.to_csv('Train_augmented.csv', index=False)"
   ],
   "metadata": {
    "collapsed": false,
    "ExecuteTime": {
     "end_time": "2023-05-18T03:16:25.860429600Z",
     "start_time": "2023-05-18T03:16:25.840431600Z"
    }
   }
  }
 ],
 "metadata": {
  "kernelspec": {
   "display_name": "Python 3",
   "language": "python",
   "name": "python3"
  },
  "language_info": {
   "codemirror_mode": {
    "name": "ipython",
    "version": 2
   },
   "file_extension": ".py",
   "mimetype": "text/x-python",
   "name": "python",
   "nbconvert_exporter": "python",
   "pygments_lexer": "ipython2",
   "version": "2.7.6"
  }
 },
 "nbformat": 4,
 "nbformat_minor": 0
}
