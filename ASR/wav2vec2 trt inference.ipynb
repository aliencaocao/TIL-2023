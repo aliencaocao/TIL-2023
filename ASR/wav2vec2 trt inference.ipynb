{
 "cells": [
  {
   "cell_type": "code",
   "execution_count": 1,
   "outputs": [],
   "source": [
    "import os\n",
    "os.environ['CUDA_MODULE_LOADING'] = 'LAZY'\n",
    "import time\n",
    "import contextlib\n",
    "from collections import namedtuple, OrderedDict\n",
    "\n",
    "import cv2\n",
    "import torch\n",
    "import numpy as np\n",
    "import tensorrt as trt\n",
    "import pycuda.driver as cuda"
   ],
   "metadata": {
    "collapsed": false,
    "ExecuteTime": {
     "end_time": "2023-05-16T13:42:14.320303800Z",
     "start_time": "2023-05-16T13:42:09.049107100Z"
    }
   }
  },
  {
   "cell_type": "code",
   "execution_count": 2,
   "outputs": [],
   "source": [
    "class TRTInference:\n",
    "    def __init__(self, engine_path, output_names_mapping: dict = None, verbose=False):\n",
    "        cuda.init()\n",
    "        self.device_ctx = cuda.Device(0).make_context()\n",
    "        self.engine_path = engine_path\n",
    "        self.output_names_mapping = output_names_mapping or {}\n",
    "        self.logger = trt.Logger(trt.Logger.VERBOSE) if verbose else trt.Logger(trt.Logger.INFO)\n",
    "        self.engine = None\n",
    "        self.load_engine()\n",
    "        assert self.engine is not None, 'Failed to load TensorRT engine.'\n",
    "\n",
    "        self.context = self.engine.create_execution_context()\n",
    "        self.stream = cuda.Stream()\n",
    "\n",
    "        self.bindings = self.get_bindings()\n",
    "        self.bindings_addr = OrderedDict((n, v.ptr) for n, v in self.bindings.items())\n",
    "\n",
    "        self.input_names = self.get_input_names()\n",
    "        self.output_names = self.get_output_names()\n",
    "\n",
    "    def load_engine(self):\n",
    "        with open(self.engine_path, 'rb') as f, trt.Runtime(self.logger) as runtime:\n",
    "            self.engine = runtime.deserialize_cuda_engine(f.read())\n",
    "\n",
    "    def get_input_names(self):\n",
    "        names = []\n",
    "        for _, name in enumerate(self.engine):\n",
    "            if self.engine.get_tensor_mode(name) == trt.TensorIOMode.INPUT:\n",
    "                names.append(name)\n",
    "        return names\n",
    "\n",
    "    def get_output_names(self):\n",
    "        names = []\n",
    "        for _, name in enumerate(self.engine):\n",
    "            if self.engine.get_tensor_mode(name) == trt.TensorIOMode.OUTPUT:\n",
    "                names.append(name)\n",
    "        return names\n",
    "\n",
    "    def get_bindings(self):\n",
    "        Binding = namedtuple('Binding', ('name', 'dtype', 'shape', 'data', 'ptr'))\n",
    "        bindings = OrderedDict()\n",
    "\n",
    "        for i, name in enumerate(self.engine):\n",
    "            shape = self.engine.get_tensor_shape(name)\n",
    "            dtype = trt.nptype(self.engine.get_tensor_dtype(name))\n",
    "            if self.engine.get_tensor_mode(name) == trt.TensorIOMode.INPUT:\n",
    "                data = np.random.randn(*shape).astype(dtype)\n",
    "                ptr = cuda.mem_alloc(data.nbytes)\n",
    "                bindings[name] = Binding(name, dtype, shape, data, ptr)\n",
    "            else:\n",
    "                data = cuda.pagelocked_empty(trt.volume(shape), dtype)\n",
    "                ptr = cuda.mem_alloc(data.nbytes)\n",
    "                bindings[name] = Binding(name, dtype, shape, data, ptr)\n",
    "\n",
    "        return bindings\n",
    "\n",
    "    def __call__(self, blob):\n",
    "        blob = {n: np.ascontiguousarray(v) for n, v in blob.items()}\n",
    "        for n in self.input_names:\n",
    "            cuda.memcpy_htod_async(self.bindings_addr[n], blob[n], self.stream)\n",
    "\n",
    "        bindings_addr = [int(v) for _, v in self.bindings_addr.items()]\n",
    "        self.context.execute_async_v2(bindings=bindings_addr, stream_handle=self.stream.handle)\n",
    "\n",
    "        outputs = {}\n",
    "        for n in self.output_names:\n",
    "            cuda.memcpy_dtoh_async(self.bindings[n].data, self.bindings[n].ptr, self.stream)\n",
    "            o = self.bindings[n].data\n",
    "            # reshape to correct output shape\n",
    "            if o.shape != self.bindings[n].shape:\n",
    "                o = o.reshape(self.bindings[n].shape)\n",
    "            outputs[self.output_names_mapping.get(n, n)] = o\n",
    "\n",
    "        self.stream.synchronize()\n",
    "\n",
    "        return outputs\n",
    "\n",
    "    def warmup(self, blob, n):\n",
    "        for _ in range(n):\n",
    "            _ = self(blob)\n",
    "\n",
    "    def __del__(self):\n",
    "        try:\n",
    "            self.device_ctx.pop()\n",
    "        except cuda.LogicError as _:\n",
    "            pass"
   ],
   "metadata": {
    "collapsed": false,
    "ExecuteTime": {
     "end_time": "2023-05-16T13:42:14.335303800Z",
     "start_time": "2023-05-16T13:42:14.328306500Z"
    }
   }
  },
  {
   "cell_type": "code",
   "execution_count": 3,
   "outputs": [],
   "source": [
    "model = TRTInference('wav2vec2-conformer.trt', verbose=True)"
   ],
   "metadata": {
    "collapsed": false,
    "ExecuteTime": {
     "end_time": "2023-05-16T13:42:17.370038900Z",
     "start_time": "2023-05-16T13:42:14.335303800Z"
    }
   }
  },
  {
   "cell_type": "code",
   "execution_count": 25,
   "outputs": [],
   "source": [
    "import torchaudio\n",
    "from transformers import Wav2Vec2Processor\n",
    "audio, sr = torchaudio.load('audio/train_00001.wav')\n",
    "processor = Wav2Vec2Processor.from_pretrained('wav2vec2-conformer')\n",
    "audio = processor(audio, sampling_rate=16000).input_values[0][0][51000:51000+16000]\n",
    "audio = np.expand_dims(audio, axis=0)"
   ],
   "metadata": {
    "collapsed": false,
    "ExecuteTime": {
     "end_time": "2023-05-16T13:56:14.497092200Z",
     "start_time": "2023-05-16T13:56:14.485577700Z"
    }
   }
  },
  {
   "cell_type": "code",
   "execution_count": 27,
   "outputs": [],
   "source": [
    "output = model({'input': audio})['output']"
   ],
   "metadata": {
    "collapsed": false,
    "ExecuteTime": {
     "end_time": "2023-05-16T13:56:22.878591500Z",
     "start_time": "2023-05-16T13:56:22.614449200Z"
    }
   }
  },
  {
   "cell_type": "code",
   "execution_count": 28,
   "outputs": [
    {
     "data": {
      "text/plain": "['WE RETURNE']"
     },
     "execution_count": 28,
     "metadata": {},
     "output_type": "execute_result"
    }
   ],
   "source": [
    "processor.batch_decode(np.argmax(output, axis=-1))"
   ],
   "metadata": {
    "collapsed": false,
    "ExecuteTime": {
     "end_time": "2023-05-16T13:56:23.613461200Z",
     "start_time": "2023-05-16T13:56:23.597493400Z"
    }
   }
  },
  {
   "cell_type": "code",
   "execution_count": 8,
   "outputs": [],
   "source": [
    "if model.backend == 'cuda':\n",
    "    model.context.pop()  # clears CUDA context, to use model again, need to reintialize the model instance"
   ],
   "metadata": {
    "collapsed": false,
    "ExecuteTime": {
     "end_time": "2023-05-15T10:06:56.341869500Z",
     "start_time": "2023-05-15T10:06:56.328111600Z"
    }
   }
  }
 ],
 "metadata": {
  "kernelspec": {
   "display_name": "Python 3",
   "language": "python",
   "name": "python3"
  },
  "language_info": {
   "codemirror_mode": {
    "name": "ipython",
    "version": 2
   },
   "file_extension": ".py",
   "mimetype": "text/x-python",
   "name": "python",
   "nbconvert_exporter": "python",
   "pygments_lexer": "ipython2",
   "version": "2.7.6"
  }
 },
 "nbformat": 4,
 "nbformat_minor": 0
}
