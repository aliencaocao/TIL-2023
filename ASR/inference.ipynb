{
 "cells": [
  {
   "cell_type": "code",
   "execution_count": 6,
   "metadata": {
    "collapsed": true,
    "ExecuteTime": {
     "end_time": "2023-06-20T04:02:46.909574400Z",
     "start_time": "2023-06-20T04:02:41.935576200Z"
    }
   },
   "outputs": [
    {
     "data": {
      "text/plain": "[{'text': 'HE WANTED TO BUY FOUR BOOKS FROM THE STORE'},\n {'text': 'WHE HAD FIVE DAYS UNTIL THE DEADLINE'},\n {'text': 'THE BUS ARRIVES EVERY ONE HOUR AT THIS STATION'},\n {'text': 'THE BUS ARRIVES EVERY ONE HOUR AT THIS STATION'},\n {'text': 'THEY ARE THE ONLY TWO WHO CAN SOLVE THE PUZZLE'},\n {'text': 'THEY ARE THE ONLY TWO WHO CAN SOLVE THE PUZZLE'},\n {'text': 'THEY FOUND ZERO ERRORS IN HIS CALCULATIONS'},\n {'text': 'THEY FOUND ZERO ERRORS IN HIS CALCULATIONS'},\n {'text': 'WE ONLY HAD THREE DAYS TO FINISH THE PROJECT'},\n {'text': 'WE ONLY HAD THREE DAYS TO FINISH THE PROJECT'}]"
     },
     "execution_count": 6,
     "metadata": {},
     "output_type": "execute_result"
    }
   ],
   "source": [
    "from transformers import pipeline\n",
    "import glob\n",
    "\n",
    "model = pipeline(\"automatic-speech-recognition\", model=\"wav2vec2-conformer\", batch_size=4, device=\"cuda:0\")\n",
    "audio_paths = glob.glob('illegal/asr/*.wav')\n",
    "model(audio_paths)"
   ]
  }
 ],
 "metadata": {
  "kernelspec": {
   "display_name": "Python 3",
   "language": "python",
   "name": "python3"
  },
  "language_info": {
   "codemirror_mode": {
    "name": "ipython",
    "version": 2
   },
   "file_extension": ".py",
   "mimetype": "text/x-python",
   "name": "python",
   "nbconvert_exporter": "python",
   "pygments_lexer": "ipython2",
   "version": "2.7.6"
  }
 },
 "nbformat": 4,
 "nbformat_minor": 0
}
