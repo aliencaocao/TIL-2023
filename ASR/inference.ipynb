{
 "cells": [
  {
   "cell_type": "code",
   "execution_count": 6,
   "metadata": {
    "collapsed": true,
    "ExecuteTime": {
     "end_time": "2023-06-10T07:38:54.319123800Z",
     "start_time": "2023-06-10T07:38:50.853669700Z"
    }
   },
   "outputs": [
    {
     "data": {
      "text/plain": "[{'text': 'HE WROTE A BOOK WITH NINE CHAPTERS'}]"
     },
     "execution_count": 6,
     "metadata": {},
     "output_type": "execute_result"
    }
   ],
   "source": [
    "from transformers import pipeline\n",
    "\n",
    "model = pipeline(\"automatic-speech-recognition\", model=\"wav2vec2-conformer\", batch_size=64, device=\"cuda:0\")\n",
    "audio_paths = ['../Robot/data/audio/evala_00001.wav']\n",
    "model(audio_paths)"
   ]
  },
  {
   "cell_type": "code",
   "execution_count": 7,
   "outputs": [],
   "source": [
    "a = model(audio_paths)"
   ],
   "metadata": {
    "collapsed": false,
    "ExecuteTime": {
     "end_time": "2023-06-10T07:47:29.077188700Z",
     "start_time": "2023-06-10T07:47:28.834391500Z"
    }
   }
  }
 ],
 "metadata": {
  "kernelspec": {
   "display_name": "Python 3",
   "language": "python",
   "name": "python3"
  },
  "language_info": {
   "codemirror_mode": {
    "name": "ipython",
    "version": 2
   },
   "file_extension": ".py",
   "mimetype": "text/x-python",
   "name": "python",
   "nbconvert_exporter": "python",
   "pygments_lexer": "ipython2",
   "version": "2.7.6"
  }
 },
 "nbformat": 4,
 "nbformat_minor": 0
}
