{
 "cells": [
  {
   "cell_type": "code",
   "execution_count": 1,
   "metadata": {
    "collapsed": true,
    "ExecuteTime": {
     "end_time": "2023-06-18T04:37:15.210941600Z",
     "start_time": "2023-06-18T04:37:04.750670Z"
    }
   },
   "outputs": [
    {
     "data": {
      "text/plain": "[{'text': 'HE WROTE A BOOK WITH NINE CHAPTERS'}]"
     },
     "execution_count": 1,
     "metadata": {},
     "output_type": "execute_result"
    }
   ],
   "source": [
    "from transformers import pipeline\n",
    "\n",
    "model = pipeline(\"automatic-speech-recognition\", model=\"wav2vec2-conformer\", batch_size=64, device=\"cuda:0\")\n",
    "audio_paths = ['../Robot/data/audio/evala_00001.wav']\n",
    "model(audio_paths)"
   ]
  }
 ],
 "metadata": {
  "kernelspec": {
   "display_name": "Python 3",
   "language": "python",
   "name": "python3"
  },
  "language_info": {
   "codemirror_mode": {
    "name": "ipython",
    "version": 2
   },
   "file_extension": ".py",
   "mimetype": "text/x-python",
   "name": "python",
   "nbconvert_exporter": "python",
   "pygments_lexer": "ipython2",
   "version": "2.7.6"
  }
 },
 "nbformat": 4,
 "nbformat_minor": 0
}
