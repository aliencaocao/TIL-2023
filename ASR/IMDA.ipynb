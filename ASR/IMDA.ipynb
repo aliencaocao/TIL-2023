{
 "cells": [
  {
   "cell_type": "code",
   "execution_count": 1,
   "metadata": {
    "collapsed": true,
    "ExecuteTime": {
     "end_time": "2023-05-18T09:32:44.596440500Z",
     "start_time": "2023-05-18T09:32:44.214441600Z"
    }
   },
   "outputs": [],
   "source": [
    "import os\n",
    "import glob\n",
    "from zipfile import ZipFile\n",
    "from string import ascii_uppercase\n",
    "import pydub\n",
    "import pandas as pd\n",
    "import tqdm"
   ]
  },
  {
   "cell_type": "code",
   "execution_count": 2,
   "outputs": [],
   "source": [
    "def clean(annotation):\n",
    "    annotation = annotation.replace(\"'\", '').upper()  # removes ' as TIL data does not include it, change to all upper case as Wav2Vec2 tokenizer requires\n",
    "    for c in annotation:  # replace all non ascii uppercase characters per TIL dataset\n",
    "        if c not in ascii_uppercase + ' ':\n",
    "            annotation = annotation.replace(c, '')\n",
    "    return annotation"
   ],
   "metadata": {
    "collapsed": false,
    "ExecuteTime": {
     "end_time": "2023-05-18T09:32:44.610441400Z",
     "start_time": "2023-05-18T09:32:44.598441200Z"
    }
   }
  },
  {
   "cell_type": "code",
   "execution_count": 5,
   "outputs": [],
   "source": [
    "def IMDA_part12_to_TIL(PART: int):\n",
    "    PART_PATH = f'IMDA/PART{PART}/DATA/CHANNEL0'\n",
    "    if PART == 1:\n",
    "        PART = 0  # IMDA names all part 1 files with leading 0\n",
    "    WAVE_PATH = os.path.join(PART_PATH, 'WAVE')\n",
    "    SCRIPT_PATH = os.path.join(PART_PATH, 'SCRIPT')\n",
    "\n",
    "    script_files = glob.glob(os.path.join(SCRIPT_PATH, '*.TXT'))\n",
    "\n",
    "    for script in tqdm.tqdm(script_files):\n",
    "        speaker = os.path.basename(script).split('.')[0][-2]\n",
    "        session = os.path.basename(script).split('.')[0][-1]\n",
    "        speaker_prefix = f'SPEAKER{PART}{speaker.zfill(3)}'\n",
    "        zip_file = speaker_prefix + '.zip'\n",
    "        wav_root = os.path.join(speaker_prefix, f'SESSION{session}')\n",
    "        with open(script, 'r') as f:\n",
    "            lines = f.readlines()\n",
    "            processed_lines = []\n",
    "            for i in range(0, len(lines), 2):\n",
    "                processed_lines.append(lines[i].split('\\t')[0] + ' ' + lines[i+1].replace('\\t', ' ').strip())\n",
    "            processed_lines = [l.replace(chr(0xfeff), '').strip() for l in processed_lines]  # remove \\ufeff which appears at the start of txt\n",
    "        with ZipFile(os.path.join(WAVE_PATH, zip_file), 'r') as zip:\n",
    "            for line in processed_lines:\n",
    "                wav_fname = line.split(' ')[0] + '.WAV'\n",
    "                data = zip.read(os.path.join(wav_root, wav_fname).replace('\\\\', '/'))\n",
    "                audio = pydub.AudioSegment(data)\n",
    "                if len(audio) > 16000 * 10:  # ignore all audio longer than 10 seconds\n",
    "                    continue\n",
    "                annotation = ' '.join(line.split(' ')[1:])\n",
    "                annotation = clean(annotation)\n",
    "                if len(annotation) == 0:  # ignore all audio with empty annotation\n",
    "                    continue\n",
    "                target_path = os.path.join('IMDA_TIL/audio', wav_fname).replace('\\\\', '/')\n",
    "                audio.export(target_path, format='wav')\n",
    "                dataset.append({'path': target_path, 'annotation': annotation})"
   ],
   "metadata": {
    "collapsed": false,
    "ExecuteTime": {
     "end_time": "2023-05-18T09:32:53.507053800Z",
     "start_time": "2023-05-18T09:32:53.502055100Z"
    }
   }
  },
  {
   "cell_type": "code",
   "execution_count": 6,
   "outputs": [
    {
     "name": "stderr",
     "output_type": "stream",
     "text": [
      "100%|██████████| 4/4 [00:01<00:00,  3.32it/s]\n",
      "100%|██████████| 4/4 [00:01<00:00,  2.17it/s]\n"
     ]
    }
   ],
   "source": [
    "dataset = []\n",
    "IMDA_part12_to_TIL(1)\n",
    "# IMDA_part12_to_TIL(2)  # part 2 is full of SG names, not considered english"
   ],
   "metadata": {
    "collapsed": false,
    "ExecuteTime": {
     "end_time": "2023-05-18T09:32:58.062466100Z",
     "start_time": "2023-05-18T09:32:55.003936300Z"
    }
   }
  },
  {
   "cell_type": "code",
   "execution_count": 7,
   "outputs": [],
   "source": [
    "df = pd.DataFrame(dataset)\n",
    "df.to_csv('IMDA_TIL/IMDA_TIL.csv', index=False)"
   ],
   "metadata": {
    "collapsed": false,
    "ExecuteTime": {
     "end_time": "2023-05-18T09:33:02.169049900Z",
     "start_time": "2023-05-18T09:33:02.146051900Z"
    }
   }
  }
 ],
 "metadata": {
  "kernelspec": {
   "display_name": "Python 3",
   "language": "python",
   "name": "python3"
  },
  "language_info": {
   "codemirror_mode": {
    "name": "ipython",
    "version": 2
   },
   "file_extension": ".py",
   "mimetype": "text/x-python",
   "name": "python",
   "nbconvert_exporter": "python",
   "pygments_lexer": "ipython2",
   "version": "2.7.6"
  }
 },
 "nbformat": 4,
 "nbformat_minor": 0
}
