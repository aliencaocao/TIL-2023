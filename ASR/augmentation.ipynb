{
 "cells": [
  {
   "cell_type": "code",
   "execution_count": 7,
   "metadata": {
    "collapsed": true,
    "ExecuteTime": {
     "end_time": "2023-05-19T04:23:50.274856500Z",
     "start_time": "2023-05-19T04:23:50.249146400Z"
    }
   },
   "outputs": [],
   "source": [
    "import os\n",
    "import glob\n",
    "import random\n",
    "from pydub import AudioSegment\n",
    "import pandas as pd\n",
    "augmented = []\n",
    "original_df = pd.read_csv('Train.csv')\n",
    "noise_files = glob.glob('musan_noise/*/*.wav')\n",
    "random.seed(2023)\n",
    "\n",
    "\n",
    "def speed_change(sound, speed=1.0):\n",
    "    sound_with_altered_frame_rate = sound._spawn(sound.raw_data, overrides={\"frame_rate\": int(sound.frame_rate * speed)})\n",
    "    return sound_with_altered_frame_rate.set_frame_rate(sound.frame_rate)\n",
    "\n",
    "\n",
    "def augmentation(fname, speeds):\n",
    "    os.makedirs('audio_augmented', exist_ok=True)\n",
    "    audio = AudioSegment.from_file(fname)\n",
    "    basename = os.path.basename(fname).split('.')[0]\n",
    "    for speed in speeds:\n",
    "        audio = speed_change(audio, speed)\n",
    "        noise = AudioSegment.from_file(random.choice(noise_files))\n",
    "        noise = noise.apply_gain(-random.randint(5, 10))\n",
    "        audio = audio.overlay(noise, times=max(1, int(len(audio) / len(noise) * 0.5)))  # overlay for half of the audio\n",
    "        audio.export(f'audio_augmented/{basename}_{speed}.wav', format='wav')\n",
    "        augmented.append({'path': f'audio_augmented/{basename}_{speed}.wav', 'annotation': original_df[original_df['path'] == fname]['annotation'].values[0]})"
   ]
  },
  {
   "cell_type": "code",
   "execution_count": 8,
   "outputs": [],
   "source": [
    "for fname in glob.glob('audio/train*.wav'):\n",
    "    fname = fname.replace('\\\\', '/')\n",
    "    augmentation(f'{fname}', [0.9, 1, 1.1, 1.2])"
   ],
   "metadata": {
    "collapsed": false,
    "ExecuteTime": {
     "end_time": "2023-05-19T04:25:05.581852200Z",
     "start_time": "2023-05-19T04:23:53.407475400Z"
    }
   }
  },
  {
   "cell_type": "code",
   "execution_count": 10,
   "outputs": [],
   "source": [
    "augmented_df = pd.DataFrame(augmented)\n",
    "augmented_df.to_csv('Train_augmented.csv', index=False)"
   ],
   "metadata": {
    "collapsed": false,
    "ExecuteTime": {
     "end_time": "2023-05-19T04:26:17.228506400Z",
     "start_time": "2023-05-19T04:26:17.184469100Z"
    }
   }
  }
 ],
 "metadata": {
  "kernelspec": {
   "display_name": "Python 3",
   "language": "python",
   "name": "python3"
  },
  "language_info": {
   "codemirror_mode": {
    "name": "ipython",
    "version": 2
   },
   "file_extension": ".py",
   "mimetype": "text/x-python",
   "name": "python",
   "nbconvert_exporter": "python",
   "pygments_lexer": "ipython2",
   "version": "2.7.6"
  }
 },
 "nbformat": 4,
 "nbformat_minor": 0
}
