{
 "cells": [
  {
   "cell_type": "code",
   "execution_count": 1,
   "metadata": {
    "collapsed": true,
    "ExecuteTime": {
     "end_time": "2023-05-28T14:38:09.802908800Z",
     "start_time": "2023-05-28T14:38:08.313543100Z"
    }
   },
   "outputs": [],
   "source": [
    "import language_tool_python\n",
    "import pandas as pd\n",
    "\n",
    "tool = language_tool_python.LanguageTool('en-US', config={'cacheSize': 10000, 'pipelineCaching': True, 'maxCheckThreads': 30, 'warmUp': True})"
   ]
  },
  {
   "cell_type": "code",
   "execution_count": 2,
   "outputs": [],
   "source": [
    "df = pd.read_csv('wav2vec2-submissions/2337+1781 DSTA raw audiomentations unfreeze val_0.00269 lb 0.01351.csv')"
   ],
   "metadata": {
    "collapsed": false,
    "ExecuteTime": {
     "end_time": "2023-05-28T14:38:14.597086300Z",
     "start_time": "2023-05-28T14:38:14.567641Z"
    }
   }
  },
  {
   "cell_type": "code",
   "execution_count": 3,
   "outputs": [],
   "source": [
    "def correct(text):\n",
    "    match = tool.check(text)\n",
    "    if match:\n",
    "        for i, m in enumerate(match):\n",
    "            if match[i].message == 'Possible spelling mistake found.' and match[i].replacements:\n",
    "                match[i].replacements[0] = match[i].replacements[0].split()[0]  # prevent it from adding new words\n",
    "        text = language_tool_python.utils.correct(text, match).upper()\n",
    "    return text"
   ],
   "metadata": {
    "collapsed": false,
    "ExecuteTime": {
     "end_time": "2023-05-28T14:38:15.475516600Z",
     "start_time": "2023-05-28T14:38:15.464516300Z"
    }
   }
  },
  {
   "cell_type": "code",
   "execution_count": 4,
   "outputs": [],
   "source": [
    "df['annotation'] = df['annotation'].apply(correct)  # takes 1min"
   ],
   "metadata": {
    "collapsed": false,
    "ExecuteTime": {
     "end_time": "2023-05-28T14:39:26.117223100Z",
     "start_time": "2023-05-28T14:38:16.320709500Z"
    }
   }
  },
  {
   "cell_type": "code",
   "execution_count": 5,
   "outputs": [],
   "source": [
    "df.to_csv('wav2vec2-submissions/2337+1781 DSTA raw audiomentations unfreeze val_0.00269 lb 0.01351 corrected no word2vec.csv', index=False)"
   ],
   "metadata": {
    "collapsed": false,
    "ExecuteTime": {
     "end_time": "2023-05-28T14:39:26.162135800Z",
     "start_time": "2023-05-28T14:39:26.132241600Z"
    }
   }
  },
  {
   "cell_type": "code",
   "execution_count": null,
   "outputs": [],
   "source": [
    "tool.close()  # doesnt work for me i had to task kill so be careful"
   ],
   "metadata": {
    "collapsed": false
   }
  },
  {
   "cell_type": "code",
   "execution_count": 12,
   "outputs": [
    {
     "data": {
      "text/plain": "'THEY COMPLETE THE CROSSWORD PUZZLE WITHIN FOUR MINUTES WITH NO ERRORS'"
     },
     "execution_count": 12,
     "metadata": {},
     "output_type": "execute_result"
    }
   ],
   "source": [
    "text = 'THEY COMPLETE THE CROSSWORD PUZZLE WITHIN FOUR MINUTES WITH NO ERRORSR'\n",
    "tool.correct(text)"
   ],
   "metadata": {
    "collapsed": false,
    "ExecuteTime": {
     "end_time": "2023-05-28T14:14:55.879544Z",
     "start_time": "2023-05-28T14:14:55.843970400Z"
    }
   }
  }
 ],
 "metadata": {
  "kernelspec": {
   "display_name": "Python 3",
   "language": "python",
   "name": "python3"
  },
  "language_info": {
   "codemirror_mode": {
    "name": "ipython",
    "version": 2
   },
   "file_extension": ".py",
   "mimetype": "text/x-python",
   "name": "python",
   "nbconvert_exporter": "python",
   "pygments_lexer": "ipython2",
   "version": "2.7.6"
  }
 },
 "nbformat": 4,
 "nbformat_minor": 0
}
