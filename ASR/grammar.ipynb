{
 "cells": [
  {
   "cell_type": "code",
   "execution_count": 1,
   "metadata": {
    "collapsed": true,
    "ExecuteTime": {
     "end_time": "2023-06-03T05:15:23.629142300Z",
     "start_time": "2023-06-03T05:15:19.687460900Z"
    }
   },
   "outputs": [],
   "source": [
    "import os\n",
    "os.environ['LTP_PATH'] = '.'  # local server\n",
    "\n",
    "import language_tool_python\n",
    "import pandas as pd\n",
    "\n",
    "tool = language_tool_python.LanguageTool('en-US', config={'cacheSize': 10000, 'pipelineCaching': True, 'maxCheckThreads': 30, 'warmUp': True})"
   ]
  },
  {
   "cell_type": "code",
   "execution_count": 4,
   "outputs": [],
   "source": [
    "df = pd.read_csv('wav2vec2-submissions/2337+1781 DSTA raw audiomentations unfreeze val_0.00269 lb 0.01351.csv')"
   ],
   "metadata": {
    "collapsed": false,
    "ExecuteTime": {
     "end_time": "2023-06-03T05:15:32.767173Z",
     "start_time": "2023-06-03T05:15:32.742233700Z"
    }
   }
  },
  {
   "cell_type": "code",
   "execution_count": 5,
   "outputs": [],
   "source": [
    "def correct(text):\n",
    "    match = tool.check(text)\n",
    "    if match:\n",
    "        for i, m in enumerate(match):\n",
    "            if match[i].message == 'Possible spelling mistake found.' and match[i].replacements:\n",
    "                match[i].replacements[0] = match[i].replacements[0].split()[0]  # prevent it from adding new words\n",
    "        text = language_tool_python.utils.correct(text, match).upper()\n",
    "    return text"
   ],
   "metadata": {
    "collapsed": false,
    "ExecuteTime": {
     "end_time": "2023-06-03T05:15:33.104121200Z",
     "start_time": "2023-06-03T05:15:33.095121600Z"
    }
   }
  },
  {
   "cell_type": "code",
   "execution_count": 6,
   "outputs": [],
   "source": [
    "df['annotation'] = df['annotation'].apply(correct)  # takes 1min 10s"
   ],
   "metadata": {
    "collapsed": false,
    "ExecuteTime": {
     "end_time": "2023-06-03T05:16:43.261953Z",
     "start_time": "2023-06-03T05:15:34.269289700Z"
    }
   }
  },
  {
   "cell_type": "code",
   "execution_count": 5,
   "outputs": [],
   "source": [
    "df.to_csv('wav2vec2-submissions/2337+1781 DSTA raw audiomentations unfreeze val_0.00269 lb 0.01351 corrected no word2vec.csv', index=False)"
   ],
   "metadata": {
    "collapsed": false,
    "ExecuteTime": {
     "end_time": "2023-05-28T14:39:26.162135800Z",
     "start_time": "2023-05-28T14:39:26.132241600Z"
    }
   }
  },
  {
   "cell_type": "code",
   "execution_count": null,
   "outputs": [],
   "source": [
    "tool.close()  # doesnt work for me i had to task kill so be careful"
   ],
   "metadata": {
    "collapsed": false
   }
  },
  {
   "cell_type": "code",
   "execution_count": 12,
   "outputs": [
    {
     "data": {
      "text/plain": "'THEY COMPLETE THE CROSSWORD PUZZLE WITHIN FOUR MINUTES WITH NO ERRORS'"
     },
     "execution_count": 12,
     "metadata": {},
     "output_type": "execute_result"
    }
   ],
   "source": [
    "text = 'THEY COMPLETE THE CROSSWORD PUZZLE WITHIN FOUR MINUTES WITH NO ERRORSR'\n",
    "tool.correct(text)"
   ],
   "metadata": {
    "collapsed": false,
    "ExecuteTime": {
     "end_time": "2023-05-28T14:14:55.879544Z",
     "start_time": "2023-05-28T14:14:55.843970400Z"
    }
   }
  },
  {
   "cell_type": "code",
   "execution_count": 47,
   "outputs": [
    {
     "name": "stdout",
     "output_type": "stream",
     "text": [
      "Multiple words have the same distance to the digits. Choosing 1 based on heuristics\n",
      "Replacing EGHT with EIGHT\n",
      "Replacing TO with TWO\n"
     ]
    }
   ],
   "source": [
    "# Fuzzy retrival of digits for finals\n",
    "import Levenshtein\n",
    "import numpy as np\n",
    "digits = ['ZERO', 'ONE', 'TWO', 'THREE', 'FOUR', 'FIVE', 'SIX', 'SEVEN', 'EIGHT', \"NINE\"]\n",
    "s = 'SHE WAS EGHT YEARS OLD WHEN SHE LEARNT HOW TO CRY'.split()\n",
    "digits_dist = []\n",
    "for digit in digits:\n",
    "    digits_dist.append([Levenshtein.distance(digit, word) for word in s])\n",
    "digits_dist = np.array(digits_dist)\n",
    "min_dist = np.min(np.min(digits_dist, axis=0), axis=0)\n",
    "min_dist_idx = np.where(digits_dist == min_dist)\n",
    "if len(min_dist_idx) == 1:  # there is only 1 word that has the lowest distance to any of the digits\n",
    "    print(f'Replacing {s[min_dist_idx[0][0]]} with {digits[min_dist_idx[0][1]]}')\n",
    "else:\n",
    "    print('Multiple words have the same distance to the digits. Choosing 1 based on heuristics')\n",
    "    common_words = ['TO', 'THE', 'THEY', 'HE', 'SHE']  # if these words are the one that is closest to the digit, then we choose the next one as these are common words and unlikely to be the digit. E.g. TWO -> TO has distance of only 1 but it is most likely wrong\n",
    "    for i in range(len(min_dist_idx)):\n",
    "        if s[min_dist_idx[i][0]] in common_words:\n",
    "            continue\n",
    "        else:\n",
    "            print(f'Replacing {s[min_dist_idx[i][0]]} with {digits[min_dist_idx[i][1]]}')\n",
    "            break"
   ],
   "metadata": {
    "collapsed": false,
    "ExecuteTime": {
     "end_time": "2023-06-08T04:38:17.614065300Z",
     "start_time": "2023-06-08T04:38:17.596066200Z"
    }
   }
  },
  {
   "cell_type": "code",
   "execution_count": 66,
   "outputs": [
    {
     "name": "stdout",
     "output_type": "stream",
     "text": [
      "[2 3]\n",
      "[None None]\n"
     ]
    }
   ],
   "source": [
    "a = np.array((1, 2, None, None))\n",
    "# noinspection PyComparisonWithNone\n",
    "None_idx = np.where(a == None)\n",
    "print(None_idx[0])\n",
    "print(a[None_idx])"
   ],
   "metadata": {
    "collapsed": false,
    "ExecuteTime": {
     "end_time": "2023-06-08T05:14:37.268532700Z",
     "start_time": "2023-06-08T05:14:37.248533100Z"
    }
   }
  }
 ],
 "metadata": {
  "kernelspec": {
   "display_name": "Python 3",
   "language": "python",
   "name": "python3"
  },
  "language_info": {
   "codemirror_mode": {
    "name": "ipython",
    "version": 2
   },
   "file_extension": ".py",
   "mimetype": "text/x-python",
   "name": "python",
   "nbconvert_exporter": "python",
   "pygments_lexer": "ipython2",
   "version": "2.7.6"
  }
 },
 "nbformat": 4,
 "nbformat_minor": 0
}
