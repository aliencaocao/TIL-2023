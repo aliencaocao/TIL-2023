{
 "cells": [
  {
   "cell_type": "code",
   "execution_count": 11,
   "metadata": {},
   "outputs": [
    {
     "name": "stdout",
     "output_type": "stream",
     "text": [
      "141389 30232\n"
     ]
    }
   ],
   "source": [
    "import csv\n",
    "\n",
    "number_words = [\n",
    "  \"ZERO\",\n",
    "  \"ONE\",\n",
    "  \"TWO\",\n",
    "  \"THREE\",\n",
    "  \"FOUR\",\n",
    "  \"FIVE\",\n",
    "  \"SIX\",\n",
    "  \"SEVEN\",\n",
    "  \"EIGHT\",\n",
    "  \"NINE\",\n",
    "  \"TEN\",\n",
    "  \"ELEVEN\",\n",
    "  \"TWELVE\",\n",
    "  \"THIRTEEN\",\n",
    "  \"FOURTEEN\",\n",
    "  \"FIFTEEN\",\n",
    "  \"SIXTEEN\",\n",
    "  \"SEVENTEEN\",\n",
    "  \"EIGHTEEN\",\n",
    "  \"NINETEEN\",\n",
    "  \"TWENTY\",\n",
    "  \"THIRTY\",\n",
    "  \"FORTY\",\n",
    "  \"FOURTY\", # common misspelling\n",
    "  \"FIFTY\",\n",
    "  \"SIXTY\",\n",
    "  \"SEVENTY\",\n",
    "  \"EIGHTY\",\n",
    "  \"NINETY\",\n",
    "  \"HUNDRED\",\n",
    "  \"THOUSAND\",\n",
    "  \"MILLION\",\n",
    "  \"BILLION\",\n",
    "  \"TRILLION\",\n",
    "]\n",
    "\n",
    "audios_with_numbers = []\n",
    "\n",
    "with open(\"IMDA_metadata.csv\") as ann_csv:\n",
    "  reader = csv.reader(ann_csv)\n",
    "\n",
    "  next(reader)\n",
    "\n",
    "  for path, transcription in reader:\n",
    "    for number_word in number_words:\n",
    "      if number_word in transcription:\n",
    "        audios_with_numbers.append(path)\n",
    "        break\n",
    "\n",
    "print(len(audios_with_numbers), len(set(audios_with_numbers)))"
   ]
  },
  {
   "cell_type": "code",
   "execution_count": 13,
   "metadata": {},
   "outputs": [
    {
     "name": "stdout",
     "output_type": "stream",
     "text": [
      "169761\n"
     ]
    }
   ],
   "source": [
    "with open(\"IMDA_metadata.csv\") as ann_csv:\n",
    "  reader = csv.reader(ann_csv)\n",
    "  next(reader)\n",
    "  deduped = set([path + \",\" + annotation for path, annotation in reader])\n",
    "\n",
    "print(len(deduped))"
   ]
  },
  {
   "cell_type": "code",
   "execution_count": 16,
   "metadata": {},
   "outputs": [],
   "source": [
    "header = [\"path\", \"annotation\"]\n",
    "\n",
    "with open(\"IMDA_metadata_deduped.csv\", \"w\") as ann_csv_deduped:\n",
    "  writer = csv.writer(ann_csv_deduped)\n",
    "  writer.writerow(header)\n",
    "\n",
    "  for entry in sorted(deduped):\n",
    "    writer.writerow(entry.split(\",\"))"
   ]
  }
 ],
 "metadata": {
  "kernelspec": {
   "display_name": "Python 3",
   "language": "python",
   "name": "python3"
  },
  "language_info": {
   "codemirror_mode": {
    "name": "ipython",
    "version": 3
   },
   "file_extension": ".py",
   "mimetype": "text/x-python",
   "name": "python",
   "nbconvert_exporter": "python",
   "pygments_lexer": "ipython3",
   "version": "3.10.6"
  },
  "orig_nbformat": 4
 },
 "nbformat": 4,
 "nbformat_minor": 2
}
