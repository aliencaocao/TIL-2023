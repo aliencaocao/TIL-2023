{
 "cells": [
  {
   "cell_type": "code",
   "execution_count": 1,
   "metadata": {
    "collapsed": true,
    "ExecuteTime": {
     "end_time": "2023-05-29T07:36:51.798952800Z",
     "start_time": "2023-05-29T07:36:50.190949200Z"
    }
   },
   "outputs": [],
   "source": [
    "import sys\n",
    "sys.path.insert(0, 'InternImage')\n",
    "sys.path.insert(1, 'SOLIDER-REID')\n",
    "import cv2\n",
    "import mmcv\n",
    "from mmdet.apis import inference_detector, init_detector\n",
    "import mmcv_custom\n",
    "import mmdet_custom\n",
    "import torch\n",
    "import numpy as np\n",
    "from model.make_model import make_model\n",
    "from config import cfg\n",
    "from utils.metrics import Postprocessor"
   ]
  },
  {
   "cell_type": "code",
   "execution_count": 2,
   "outputs": [],
   "source": [
    "RT_DETR = init_detector('detection/work_dirs/cascade_internimage_l_fpn_3x_coco_custom/cascade_internimage_l_fpn_3x_coco_custom.py', 'detection/work_dirs/cascade_internimage_l_fpn_3x_coco_custom/InternImage-L epoch_12 stripped.pth')"
   ],
   "metadata": {
    "collapsed": false,
    "ExecuteTime": {
     "end_time": "2023-05-29T07:36:52.541504200Z",
     "start_time": "2023-05-29T07:36:51.799952500Z"
    }
   }
  },
  {
   "cell_type": "code",
   "execution_count": 3,
   "outputs": [
    {
     "name": "stdout",
     "output_type": "stream",
     "text": [
      "using Transformer_type: swin_base_patch4_window7_224 as a backbone\n"
     ]
    },
    {
     "name": "stderr",
     "output_type": "stream",
     "text": [
      "C:\\Users\\alien\\Documents\\PyCharm-Projects\\TIL-2023\\CV\\SOLIDER-REID\\model\\backbones\\swin_transformer.py:1153: UserWarning: DeprecationWarning: pretrained is deprecated, please use \"init_cfg\" instead\n",
      "  warnings.warn('DeprecationWarning: pretrained is deprecated, '\n"
     ]
    },
    {
     "name": "stdout",
     "output_type": "stream",
     "text": [
      "===========building transformer===========\n",
      "Loading pretrained model from SOLIDER-REID/log_SGD_continue_1e-4/transformer_29_map0.9159278553764464_acc0.5036038160324097.pth\n"
     ]
    }
   ],
   "source": [
    "cfg.merge_from_file('SOLIDER-REID/TIL.yml')\n",
    "REID = make_model(cfg, num_class=2, camera_num=1, view_num=1, semantic_weight=cfg.MODEL.SEMANTIC_WEIGHT)\n",
    "REID.classifier = torch.nn.Identity()  # remove the classifier layer\n",
    "REID.load_param('SOLIDER-REID/log_SGD_500epoch_continue_1e-4LR_expanded/transformer_21_map0.941492492396344_acc0.8535950183868408.pth')\n",
    "REID.to('cuda')\n",
    "REID.eval()\n",
    "postprocessor = Postprocessor(num_query=1, max_rank=50, feat_norm=cfg.TEST.FEAT_NORM, reranking=False)  # in finals cannot use RR as threshold will be changed based on gallery size. num query is 1 since we only have 1 suspect but can be 4 if we decide to do rotation"
   ],
   "metadata": {
    "collapsed": false,
    "ExecuteTime": {
     "end_time": "2023-05-29T07:36:53.719504200Z",
     "start_time": "2023-05-29T07:36:52.543504200Z"
    }
   }
  },
  {
   "cell_type": "code",
   "execution_count": 4,
   "outputs": [],
   "source": [
    "def obj_det(img_path: str, confidence_threshold=0.99):\n",
    "    result = inference_detector(model, img_path)[0][0]\n",
    "    boxes = result[result[:, 4] > confidence_threshold]\n",
    "    return boxes\n",
    "\n",
    "def load_img(img: np.ndarray):  # for REID only\n",
    "        img = cv2.resize(img, (224, 224))\n",
    "        img = np.transpose(img, (2, 0, 1))\n",
    "        # normalize with mean and std supplied in cfg\n",
    "        img = img / 255.0\n",
    "        for channel in range(3):\n",
    "            img[channel] -= cfg.INPUT.PIXEL_MEAN[channel]\n",
    "            img[channel] /= cfg.INPUT.PIXEL_STD[channel]\n",
    "        return img.astype(np.float32)"
   ],
   "metadata": {
    "collapsed": false,
    "ExecuteTime": {
     "end_time": "2023-05-29T07:36:53.734503500Z",
     "start_time": "2023-05-29T07:36:53.721504500Z"
    }
   }
  },
  {
   "cell_type": "code",
   "execution_count": 5,
   "outputs": [],
   "source": [
    "def predict(suspect: np.ndarray, image_path: str):\n",
    "    boxes = obj_det(image_path)\n",
    "    # query is the suspect\n",
    "    query = [load_img(q) for q in suspect]\n",
    "    # gallery is cropped out boxes\n",
    "    gallery = []\n",
    "    for box in boxes:\n",
    "        x1, y1, x2, y2, conf = box.astype(np.int32)\n",
    "        gallery.append(image[y1:y2, x1:x2])\n",
    "\n",
    "    inputs = query + [load_img(img) for img in gallery]\n",
    "    inputs = np.stack(inputs, axis=0)  # stack the query and gallery images as batch dim\n",
    "\n",
    "    features = REID(torch.from_numpy(inputs).to('cuda'))[0]\n",
    "\n",
    "    postprocessor.update(features.detach())  # postprocessor expects Torch tensor as it uses torch to compute stuff\n",
    "    dist_mat = postprocessor.compute()\n",
    "    postprocessor.reset()  # reset the postprocessor for next query\n",
    "    # perform thresholding to determine which gallery image, if any, are matches with the query\n",
    "    dist_mat = (dist_mat < cfg.TEST.THRESHOLD).astype(int)  # boolean array\n",
    "    return [(box, dist_mat[0][i]) for i, box in enumerate(boxes)]"
   ],
   "metadata": {
    "collapsed": false,
    "ExecuteTime": {
     "end_time": "2023-05-29T07:36:53.751504900Z",
     "start_time": "2023-05-29T07:36:53.735507800Z"
    }
   }
  },
  {
   "cell_type": "code",
   "execution_count": 6,
   "outputs": [
    {
     "name": "stdout",
     "output_type": "stream",
     "text": [
      "The test feature is normalized\n",
      "=> Computing DistMat with euclidean_distance\n"
     ]
    },
    {
     "name": "stderr",
     "output_type": "stream",
     "text": [
      "C:\\Users\\alien\\Documents\\PyCharm-Projects\\TIL-2023\\CV\\SOLIDER-REID\\utils\\metrics.py:11: UserWarning: This overload of addmm_ is deprecated:\n",
      "\taddmm_(Number beta, Number alpha, Tensor mat1, Tensor mat2)\n",
      "Consider using one of the following signatures instead:\n",
      "\taddmm_(Tensor mat1, Tensor mat2, *, Number beta, Number alpha) (Triggered internally at C:\\actions-runner\\_work\\pytorch\\pytorch\\builder\\windows\\pytorch\\torch\\csrc\\utils\\python_arg_parser.cpp:1485.)\n",
      "  dist_mat.addmm_(1, -2, qf, gf.t())\n"
     ]
    },
    {
     "data": {
      "text/plain": "[(array([3.2186508e-04, 7.0947578e+01, 9.9753395e+01, 4.9974039e+02],\n        dtype=float32),\n  0),\n (array([192.18567, 205.47726, 429.48993, 604.02997], dtype=float32), 0),\n (array([428.35492,  88.00606, 562.4648 , 359.00613], dtype=float32), 0),\n (array([595.018  , 143.83371, 876.8564 , 579.2175 ], dtype=float32), 0),\n (array([833.2748 , 168.45245, 988.9851 , 509.23865], dtype=float32), 0),\n (array([444.6331 , 536.9818 , 513.374  , 604.39264], dtype=float32), 0),\n (array([545.7633 ,  98.86127, 675.3297 , 350.4768 ], dtype=float32), 0),\n (array([1118.1732 ,  110.49107, 1164.643  ,  198.30702], dtype=float32), 0),\n (array([171.85945, 118.10051, 205.18661, 210.4709 ], dtype=float32), 0),\n (array([928.2529 , 114.02906, 967.8399 , 225.78555], dtype=float32), 0),\n (array([873.6314 , 104.24173, 938.08466, 229.7576 ], dtype=float32), 0),\n (array([219.74422 , 118.318665, 251.05542 , 210.4469  ], dtype=float32), 0),\n (array([1072.0616 ,  107.99488, 1104.1064 ,  196.92587], dtype=float32), 0)]"
     },
     "execution_count": 6,
     "metadata": {},
     "output_type": "execute_result"
    }
   ],
   "source": [
    "# DSTA will likely give raw bytes for suspect image so the data loading code is split out here and will be replaced once the details of finals come out. Same for the image. Also not sure if DSTA give images in RGB or BGR. RT-DETR expects BGR but REID expects RGB.\n",
    "query_paths = [\"RT-DETR/dataset/reid/test_old/query/image_0000.png\"]\n",
    "query = [cv2.imread(q) for q in query_paths]\n",
    "query = [cv2.cvtColor(q, cv2.COLOR_BGR2RGB) for q in query]\n",
    "results = predict(suspect=query, image_path=\"soccer.jpg\")\n",
    "results"
   ],
   "metadata": {
    "collapsed": false,
    "ExecuteTime": {
     "end_time": "2023-05-29T07:36:54.056504500Z",
     "start_time": "2023-05-29T07:36:53.749503600Z"
    }
   }
  }
 ],
 "metadata": {
  "kernelspec": {
   "display_name": "Python 3",
   "language": "python",
   "name": "python3"
  },
  "language_info": {
   "codemirror_mode": {
    "name": "ipython",
    "version": 2
   },
   "file_extension": ".py",
   "mimetype": "text/x-python",
   "name": "python",
   "nbconvert_exporter": "python",
   "pygments_lexer": "ipython2",
   "version": "2.7.6"
  }
 },
 "nbformat": 4,
 "nbformat_minor": 0
}
