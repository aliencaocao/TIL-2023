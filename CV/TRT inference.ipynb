{
 "cells": [
  {
   "cell_type": "code",
   "execution_count": 1,
   "metadata": {
    "ExecuteTime": {
     "end_time": "2023-05-16T11:35:26.887176300Z",
     "start_time": "2023-05-16T11:35:25.303196700Z"
    }
   },
   "outputs": [],
   "source": [
    "import os\n",
    "os.environ['CUDA_MODULE_LOADING'] = 'LAZY'\n",
    "import time\n",
    "import contextlib\n",
    "from collections import namedtuple, OrderedDict\n",
    "\n",
    "import cv2\n",
    "import torch\n",
    "import numpy as np\n",
    "import tensorrt as trt\n",
    "import pycuda.driver as cuda"
   ]
  },
  {
   "cell_type": "code",
   "execution_count": 2,
   "outputs": [],
   "source": [
    "class TRTInference:\n",
    "    def __init__(self, engine_path, output_names_mapping: dict = None, verbose=False):\n",
    "        cuda.init()\n",
    "        self.device_ctx = cuda.Device(0).make_context()\n",
    "        self.engine_path = engine_path\n",
    "        self.output_names_mapping = output_names_mapping or {}\n",
    "        self.logger = trt.Logger(trt.Logger.VERBOSE) if verbose else trt.Logger(trt.Logger.INFO)\n",
    "        self.engine = None\n",
    "        self.load_engine()\n",
    "        assert self.engine is not None, 'Failed to load TensorRT engine.'\n",
    "\n",
    "        self.context = self.engine.create_execution_context()\n",
    "        self.stream = cuda.Stream()\n",
    "\n",
    "        self.bindings = self.get_bindings()\n",
    "        self.bindings_addr = OrderedDict((n, v.ptr) for n, v in self.bindings.items())\n",
    "\n",
    "        self.input_names = self.get_input_names()\n",
    "        self.output_names = self.get_output_names()\n",
    "\n",
    "    def load_engine(self):\n",
    "        with open(self.engine_path, 'rb') as f, trt.Runtime(self.logger) as runtime:\n",
    "            self.engine = runtime.deserialize_cuda_engine(f.read())\n",
    "\n",
    "    def get_input_names(self):\n",
    "        names = []\n",
    "        for _, name in enumerate(self.engine):\n",
    "            if self.engine.get_tensor_mode(name) == trt.TensorIOMode.INPUT:\n",
    "                names.append(name)\n",
    "        return names\n",
    "\n",
    "    def get_output_names(self):\n",
    "        names = []\n",
    "        for _, name in enumerate(self.engine):\n",
    "            if self.engine.get_tensor_mode(name) == trt.TensorIOMode.OUTPUT:\n",
    "                names.append(name)\n",
    "        return names\n",
    "\n",
    "    def get_bindings(self):\n",
    "        Binding = namedtuple('Binding', ('name', 'dtype', 'shape', 'data', 'ptr'))\n",
    "        bindings = OrderedDict()\n",
    "\n",
    "        for i, name in enumerate(self.engine):\n",
    "            shape = self.engine.get_tensor_shape(name)\n",
    "            dtype = trt.nptype(self.engine.get_tensor_dtype(name))\n",
    "            if self.engine.get_tensor_mode(name) == trt.TensorIOMode.INPUT:\n",
    "                data = np.random.randn(*shape).astype(dtype)\n",
    "                ptr = cuda.mem_alloc(data.nbytes)\n",
    "                bindings[name] = Binding(name, dtype, shape, data, ptr)\n",
    "            else:\n",
    "                data = cuda.pagelocked_empty(trt.volume(shape), dtype)\n",
    "                ptr = cuda.mem_alloc(data.nbytes)\n",
    "                bindings[name] = Binding(name, dtype, shape, data, ptr)\n",
    "\n",
    "        return bindings\n",
    "\n",
    "    def __call__(self, blob):\n",
    "        blob = {n: np.ascontiguousarray(v) for n, v in blob.items()}\n",
    "        for n in self.input_names:\n",
    "            cuda.memcpy_htod_async(self.bindings_addr[n], blob[n], self.stream)\n",
    "\n",
    "        bindings_addr = [int(v) for _, v in self.bindings_addr.items()]\n",
    "        self.context.execute_async_v2(bindings=bindings_addr, stream_handle=self.stream.handle)\n",
    "\n",
    "        outputs = {}\n",
    "        for n in self.output_names:\n",
    "            cuda.memcpy_dtoh_async(self.bindings[n].data, self.bindings[n].ptr, self.stream)\n",
    "            o = self.bindings[n].data\n",
    "            # reshape to correct output shape\n",
    "            if o.shape != self.bindings[n].shape:\n",
    "                o = o.reshape(self.bindings[n].shape)\n",
    "            outputs[self.output_names_mapping.get(n, n)] = o\n",
    "\n",
    "        self.stream.synchronize()\n",
    "\n",
    "        return outputs\n",
    "\n",
    "    def warmup(self, blob, n):\n",
    "        for _ in range(n):\n",
    "            _ = self(blob)\n",
    "\n",
    "    def __del__(self):\n",
    "        try:\n",
    "            self.device_ctx.pop()\n",
    "        except cuda.LogicError as _:\n",
    "            pass"
   ],
   "metadata": {
    "collapsed": false,
    "ExecuteTime": {
     "end_time": "2023-05-16T11:35:26.904179400Z",
     "start_time": "2023-05-16T11:35:26.892179Z"
    }
   }
  },
  {
   "cell_type": "code",
   "execution_count": 3,
   "outputs": [],
   "source": [
    "model = TRTInference('rtdetr_hgnetv2_x_6x_coco.trt', output_names_mapping={'tile_3.tmp_0': 'bbox_num', 'reshape2_83.tmp_0': 'bbox'}, verbose=True)"
   ],
   "metadata": {
    "collapsed": false,
    "ExecuteTime": {
     "end_time": "2023-05-16T11:35:27.182174200Z",
     "start_time": "2023-05-16T11:35:26.899177400Z"
    }
   }
  },
  {
   "cell_type": "code",
   "execution_count": 8,
   "outputs": [],
   "source": [
    "img = cv2.imread(\"soccer.jpg\")\n",
    "org_img = img\n",
    "im_shape = np.array([[float(img.shape[0]), float(img.shape[1])]]).astype('float32')\n",
    "img = cv2.resize(img, (640, 640))\n",
    "scale_factor = np.array([[float(640/img.shape[0]), float(640/img.shape[1])]]).astype('float32')\n",
    "img = img.astype(np.float32) / 255.0\n",
    "img = np.transpose(img, [2, 0, 1])  # BGR to RGB\n",
    "img = np.expand_dims(img, axis=0)  # add batch dimension\n",
    "inputs_dict = {\n",
    "    'im_shape': im_shape,\n",
    "    'image': img,\n",
    "    'scale_factor': scale_factor\n",
    "}\n",
    "result = model(inputs_dict)['bbox']"
   ],
   "metadata": {
    "collapsed": false,
    "ExecuteTime": {
     "end_time": "2023-05-16T11:39:41.321566500Z",
     "start_time": "2023-05-16T11:39:41.197732100Z"
    }
   }
  },
  {
   "cell_type": "code",
   "execution_count": 9,
   "outputs": [
    {
     "data": {
      "text/plain": "True"
     },
     "execution_count": 9,
     "metadata": {},
     "output_type": "execute_result"
    }
   ],
   "source": [
    "confidence_threshold = 0.5\n",
    "boxes = result[result[:, 1] > confidence_threshold]\n",
    "for box in boxes:\n",
    "    cv2.rectangle(org_img, (int(box[2]), int(box[3])), (int(box[4]), int(box[5])), (0, 255, 0), 2)\n",
    "cv2.imwrite(\"output/soccer_trt.jpg\", org_img)"
   ],
   "metadata": {
    "collapsed": false,
    "ExecuteTime": {
     "end_time": "2023-05-16T11:39:48.060938800Z",
     "start_time": "2023-05-16T11:39:48.038940100Z"
    }
   }
  },
  {
   "cell_type": "code",
   "execution_count": 7,
   "outputs": [],
   "source": [
    "result_dicts = []\n",
    "for box in boxes:\n",
    "    result_dicts.append({\n",
    "        'img_name': 'soccer.jpg',\n",
    "        'class': 'suspect',  # example\n",
    "        'confidence': box[1],\n",
    "        'ymin': box[3],\n",
    "        'xmin': box[2],\n",
    "        'ymax': box[5],\n",
    "        'xmax': box[4]\n",
    "    })"
   ],
   "metadata": {
    "collapsed": false,
    "ExecuteTime": {
     "end_time": "2023-05-16T11:35:39.412928700Z",
     "start_time": "2023-05-16T11:35:39.409929800Z"
    }
   }
  }
 ],
 "metadata": {
  "kernelspec": {
   "display_name": "Python 3 (ipykernel)",
   "language": "python",
   "name": "python3"
  },
  "language_info": {
   "codemirror_mode": {
    "name": "ipython",
    "version": 3
   },
   "file_extension": ".py",
   "mimetype": "text/x-python",
   "name": "python",
   "nbconvert_exporter": "python",
   "pygments_lexer": "ipython3",
   "version": "3.10.6"
  }
 },
 "nbformat": 4,
 "nbformat_minor": 1
}
