{
 "cells": [
  {
   "cell_type": "code",
   "execution_count": null,
   "metadata": {
    "collapsed": true
   },
   "outputs": [],
   "source": [
    "import pickle\n",
    "with open('epoch_12.pkl', 'rb') as f:\n",
    "    data = pickle.load(f)\n",
    "imgs = [i[0][0] for i in data]"
   ]
  },
  {
   "cell_type": "code",
   "execution_count": null,
   "outputs": [],
   "source": [
    "conf_thresh = 0.99\n",
    "result = []\n",
    "img_width, img_height = 1280, 720\n",
    "for i, boxes in enumerate(imgs):\n",
    "    for box in boxes:\n",
    "        if box[4] > conf_thresh:\n",
    "            result.append({\n",
    "                \"Image_ID\": \"image_\" + str(i).zfill(4),\n",
    "                \"class\": 0,\n",
    "                \"confidence\": box[4],\n",
    "                \"ymin\": box[1] / img_height,\n",
    "                \"xmin\": box[0] / img_width,\n",
    "                \"ymax\": box[3] / img_height,\n",
    "                \"xmax\": box[2] / img_width}\n",
    "            )"
   ],
   "metadata": {
    "collapsed": false
   }
  },
  {
   "cell_type": "code",
   "execution_count": null,
   "outputs": [],
   "source": [
    "import pandas as pd\n",
    "df = pd.DataFrame(result)\n",
    "df.to_csv(f'submissions/epoch 12 conf {conf_thresh}.csv', index=False)"
   ],
   "metadata": {
    "collapsed": false
   }
  }
 ],
 "metadata": {
  "kernelspec": {
   "display_name": "Python 3",
   "language": "python",
   "name": "python3"
  },
  "language_info": {
   "codemirror_mode": {
    "name": "ipython",
    "version": 2
   },
   "file_extension": ".py",
   "mimetype": "text/x-python",
   "name": "python",
   "nbconvert_exporter": "python",
   "pygments_lexer": "ipython2",
   "version": "2.7.6"
  }
 },
 "nbformat": 4,
 "nbformat_minor": 0
}
