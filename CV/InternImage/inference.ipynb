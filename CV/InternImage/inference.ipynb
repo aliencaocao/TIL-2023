{
 "cells": [
  {
   "cell_type": "code",
   "execution_count": null,
   "outputs": [],
   "source": [
    "import torch\n",
    "model = torch.load('detection/work_dirs/cascade_internimage_l_fpn_3x_coco_custom/InternImage-L epoch_12.pth')\n",
    "# remove useless stuff that are not used for inference\n",
    "model.pop('optimizer')\n",
    "model['state_dict'] = {k: v for k, v in model['state_dict'].items() if not k.startswith('ema_')}\n",
    "torch.save(model, 'detection/work_dirs/cascade_internimage_l_fpn_3x_coco_custom/InternImage-L epoch_12 stripped.pth')"
   ],
   "metadata": {
    "collapsed": false
   }
  },
  {
   "cell_type": "code",
   "execution_count": null,
   "outputs": [],
   "source": [
    "import sys\n",
    "sys.path.insert(0, 'detection')\n",
    "\n",
    "import mmcv\n",
    "from mmdet.apis import (inference_detector, init_detector)\n",
    "import mmcv_custom\n",
    "import mmdet_custom\n",
    "\n",
    "model = init_detector('detection/work_dirs/cascade_internimage_l_fpn_3x_coco_custom/cascade_internimage_l_fpn_3x_coco_custom.py', 'detection/work_dirs/cascade_internimage_l_fpn_3x_coco_custom/InternImage-L epoch_12 stripped.pth')\n",
    "result = inference_detector(model, '../RT-DETR/dataset/test/images/image_0000.png')[0][0]  # get bbox np array only\n",
    "result"
   ],
   "metadata": {
    "collapsed": false
   }
  }
 ],
 "metadata": {
  "kernelspec": {
   "display_name": "Python 3",
   "language": "python",
   "name": "python3"
  },
  "language_info": {
   "codemirror_mode": {
    "name": "ipython",
    "version": 2
   },
   "file_extension": ".py",
   "mimetype": "text/x-python",
   "name": "python",
   "nbconvert_exporter": "python",
   "pygments_lexer": "ipython2",
   "version": "2.7.6"
  }
 },
 "nbformat": 4,
 "nbformat_minor": 0
}
