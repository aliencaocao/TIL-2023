{
 "cells": [
  {
   "cell_type": "code",
   "execution_count": 1,
   "outputs": [
    {
     "data": {
      "text/plain": "['TensorrtExecutionProvider', 'CUDAExecutionProvider', 'CPUExecutionProvider']"
     },
     "execution_count": 1,
     "metadata": {},
     "output_type": "execute_result"
    }
   ],
   "source": [
    "import onnxruntime as ort\n",
    "import cv2\n",
    "import numpy as np\n",
    "\n",
    "sess_options = ort.SessionOptions()\n",
    "sess_options.graph_optimization_level = ort.GraphOptimizationLevel.ORT_ENABLE_ALL\n",
    "\n",
    "ort.get_available_providers()"
   ],
   "metadata": {
    "collapsed": false,
    "ExecuteTime": {
     "end_time": "2023-05-16T10:58:22.434643500Z",
     "start_time": "2023-05-16T10:58:22.257574100Z"
    }
   }
  },
  {
   "cell_type": "code",
   "execution_count": 2,
   "outputs": [],
   "source": [
    "sess = ort.InferenceSession(\"rtdetr_hgnetv2_x_6x_coco.onnx\", sess_options=sess_options, providers=['CUDAExecutionProvider', 'CPUExecutionProvider'])"
   ],
   "metadata": {
    "collapsed": false,
    "ExecuteTime": {
     "end_time": "2023-05-16T10:58:24.801614700Z",
     "start_time": "2023-05-16T10:58:23.317582300Z"
    }
   }
  },
  {
   "cell_type": "code",
   "execution_count": 15,
   "outputs": [],
   "source": [
    "img = cv2.imread(\"soccer.jpg\")\n",
    "org_img = img\n",
    "im_shape = np.array([[float(img.shape[0]), float(img.shape[1])]]).astype('float32')\n",
    "img = cv2.resize(img, (640,640))\n",
    "scale_factor = np.array([[float(640/img.shape[0]), float(640/img.shape[1])]]).astype('float32')\n",
    "img = img.astype(np.float32) / 255.0\n",
    "input_img = np.transpose(img, [2, 0, 1])\n",
    "image = input_img[np.newaxis, :, :, :]\n",
    "output_dict = [\"reshape2_83.tmp_0\", \"tile_3.tmp_0\"]\n",
    "inputs_dict = {\n",
    "    'im_shape': im_shape,\n",
    "    'image': image,\n",
    "    'scale_factor': scale_factor\n",
    "}\n",
    "result = sess.run(output_dict, inputs_dict)[0]"
   ],
   "metadata": {
    "collapsed": false,
    "ExecuteTime": {
     "end_time": "2023-05-16T11:00:24.485323700Z",
     "start_time": "2023-05-16T11:00:24.365168800Z"
    }
   }
  },
  {
   "cell_type": "code",
   "execution_count": 16,
   "outputs": [],
   "source": [
    "\n",
    "confidence_threshold = 0.5\n",
    "boxes = result[result[:, 1] > confidence_threshold]"
   ],
   "metadata": {
    "collapsed": false,
    "ExecuteTime": {
     "end_time": "2023-05-16T11:00:25.515761200Z",
     "start_time": "2023-05-16T11:00:25.506229800Z"
    }
   }
  },
  {
   "cell_type": "code",
   "execution_count": 17,
   "outputs": [
    {
     "data": {
      "text/plain": "True"
     },
     "execution_count": 17,
     "metadata": {},
     "output_type": "execute_result"
    }
   ],
   "source": [
    "# plot the boxes\n",
    "img = cv2.imread(\"soccer.jpg\")\n",
    "for box in boxes:\n",
    "    cv2.rectangle(org_img, (int(box[2]), int(box[3])), (int(box[4]), int(box[5])), (0, 255, 0), 2)\n",
    "cv2.imwrite(\"output/soccer.jpg\", org_img)"
   ],
   "metadata": {
    "collapsed": false,
    "ExecuteTime": {
     "end_time": "2023-05-16T11:00:25.992775700Z",
     "start_time": "2023-05-16T11:00:25.946777600Z"
    }
   }
  },
  {
   "cell_type": "code",
   "execution_count": 5,
   "outputs": [],
   "source": [
    "result_dicts = []\n",
    "for box in boxes:\n",
    "    result_dicts.append({\n",
    "        'img_name': 'soccer.jpg',\n",
    "        'class': 'suspect',  # example\n",
    "        'confidence': box[1],\n",
    "        'ymin': box[3],\n",
    "        'xmin': box[2],\n",
    "        'ymax': box[5],\n",
    "        'xmax': box[4]\n",
    "    })"
   ],
   "metadata": {
    "collapsed": false,
    "ExecuteTime": {
     "end_time": "2023-05-16T08:25:34.963094800Z",
     "start_time": "2023-05-16T08:25:34.948095500Z"
    }
   }
  },
  {
   "cell_type": "code",
   "execution_count": 42,
   "outputs": [
    {
     "data": {
      "text/plain": "[{'img_name': 'soccer.jpg',\n  'class': 'suspect',\n  'confidence': 0.9452356,\n  'ymin': 70.856575,\n  'xmin': -0.0046133995,\n  'ymax': 499.84088,\n  'xmax': 99.75054},\n {'img_name': 'soccer.jpg',\n  'class': 'suspect',\n  'confidence': 0.9431364,\n  'ymin': 205.25047,\n  'xmin': 192.13364,\n  'ymax': 603.98834,\n  'xmax': 429.32776},\n {'img_name': 'soccer.jpg',\n  'class': 'suspect',\n  'confidence': 0.93758243,\n  'ymin': 88.052765,\n  'xmin': 428.2691,\n  'ymax': 358.99954,\n  'xmax': 562.3457},\n {'img_name': 'soccer.jpg',\n  'class': 'suspect',\n  'confidence': 0.93258625,\n  'ymin': 143.96068,\n  'xmin': 595.0891,\n  'ymax': 579.2816,\n  'xmax': 877.09644},\n {'img_name': 'soccer.jpg',\n  'class': 'suspect',\n  'confidence': 0.9301162,\n  'ymin': 168.35022,\n  'xmin': 833.1369,\n  'ymax': 509.1146,\n  'xmax': 988.85394},\n {'img_name': 'soccer.jpg',\n  'class': 'suspect',\n  'confidence': 0.9274409,\n  'ymin': 537.00977,\n  'xmin': 444.45938,\n  'ymax': 604.47784,\n  'xmax': 513.23846},\n {'img_name': 'soccer.jpg',\n  'class': 'suspect',\n  'confidence': 0.8903402,\n  'ymin': 98.922386,\n  'xmin': 545.92554,\n  'ymax': 350.4664,\n  'xmax': 675.50494},\n {'img_name': 'soccer.jpg',\n  'class': 'suspect',\n  'confidence': 0.8607464,\n  'ymin': 110.48779,\n  'xmin': 1118.1912,\n  'ymax': 198.18881,\n  'xmax': 1164.5442},\n {'img_name': 'soccer.jpg',\n  'class': 'suspect',\n  'confidence': 0.8580255,\n  'ymin': 118.106415,\n  'xmin': 171.91742,\n  'ymax': 210.41678,\n  'xmax': 205.1694},\n {'img_name': 'soccer.jpg',\n  'class': 'suspect',\n  'confidence': 0.83405876,\n  'ymin': 113.9522,\n  'xmin': 927.9395,\n  'ymax': 225.81506,\n  'xmax': 967.4644},\n {'img_name': 'soccer.jpg',\n  'class': 'suspect',\n  'confidence': 0.83228296,\n  'ymin': 104.19688,\n  'xmin': 873.95984,\n  'ymax': 229.68073,\n  'xmax': 938.689},\n {'img_name': 'soccer.jpg',\n  'class': 'suspect',\n  'confidence': 0.81612366,\n  'ymin': 118.372665,\n  'xmin': 219.72975,\n  'ymax': 210.45532,\n  'xmax': 250.97952},\n {'img_name': 'soccer.jpg',\n  'class': 'suspect',\n  'confidence': 0.7984907,\n  'ymin': 108.11654,\n  'xmin': 1072.3629,\n  'ymax': 196.97688,\n  'xmax': 1104.3966}]"
     },
     "execution_count": 42,
     "metadata": {},
     "output_type": "execute_result"
    }
   ],
   "source": [
    "result_dicts"
   ],
   "metadata": {
    "collapsed": false,
    "ExecuteTime": {
     "end_time": "2023-05-16T08:06:48.318725Z",
     "start_time": "2023-05-16T08:06:48.302726200Z"
    }
   }
  }
 ],
 "metadata": {
  "kernelspec": {
   "display_name": "Python 3",
   "language": "python",
   "name": "python3"
  },
  "language_info": {
   "codemirror_mode": {
    "name": "ipython",
    "version": 2
   },
   "file_extension": ".py",
   "mimetype": "text/x-python",
   "name": "python",
   "nbconvert_exporter": "python",
   "pygments_lexer": "ipython2",
   "version": "2.7.6"
  }
 },
 "nbformat": 4,
 "nbformat_minor": 0
}
