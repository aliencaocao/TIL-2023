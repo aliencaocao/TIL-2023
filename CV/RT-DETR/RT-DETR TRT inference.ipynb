{
 "cells": [
  {
   "cell_type": "code",
   "execution_count": 1,
   "metadata": {
    "ExecuteTime": {
     "end_time": "2023-05-29T06:17:36.360575600Z",
     "start_time": "2023-05-29T06:17:36.169577200Z"
    }
   },
   "outputs": [],
   "source": [
    "import os\n",
    "os.environ['CUDA_MODULE_LOADING'] = 'LAZY'\n",
    "import sys\n",
    "sys.path.insert(0, '../')\n",
    "\n",
    "import cv2\n",
    "import numpy as np\n",
    "from TensorRT_Inference import TRTInference"
   ]
  },
  {
   "cell_type": "code",
   "execution_count": 2,
   "outputs": [],
   "source": [
    "model = TRTInference('rtdetr_hgnetv2_x_6x_coco.trt', output_names_mapping={'tile_3.tmp_0': 'bbox_num', 'reshape2_83.tmp_0': 'bbox'}, verbose=True)\n",
    "img = cv2.imread(\"../soccer.jpg\")\n",
    "org_img = img\n",
    "im_shape = np.array([[float(img.shape[0]), float(img.shape[1])]]).astype('float32')\n",
    "img = cv2.resize(img, (640, 640))\n",
    "scale_factor = np.array([[float(640/img.shape[0]), float(640/img.shape[1])]]).astype('float32')\n",
    "img = img.astype(np.float32) / 255.0\n",
    "img = np.transpose(img, [2, 0, 1])  # BGR to RGB\n",
    "img = np.expand_dims(img, axis=0)  # add batch dimension\n",
    "inputs_dict = {\n",
    "    'im_shape': im_shape,\n",
    "    'image': img,\n",
    "    'scale_factor': scale_factor\n",
    "}\n",
    "model.warmup(inputs_dict)"
   ],
   "metadata": {
    "collapsed": false,
    "ExecuteTime": {
     "end_time": "2023-05-29T06:17:37.559085Z",
     "start_time": "2023-05-29T06:17:36.362576100Z"
    }
   }
  },
  {
   "cell_type": "code",
   "execution_count": 3,
   "outputs": [],
   "source": [
    "img = cv2.imread(\"../soccer.jpg\")\n",
    "org_img = img\n",
    "im_shape = np.array([[float(img.shape[0]), float(img.shape[1])]]).astype('float32')\n",
    "img = cv2.resize(img, (640, 640))\n",
    "scale_factor = np.array([[float(640/img.shape[0]), float(640/img.shape[1])]]).astype('float32')\n",
    "img = img.astype(np.float32) / 255.0\n",
    "img = np.transpose(img, [2, 0, 1])  # BGR to RGB\n",
    "img = np.expand_dims(img, axis=0)  # add batch dimension\n",
    "inputs_dict = {\n",
    "    'im_shape': im_shape,\n",
    "    'image': img,\n",
    "    'scale_factor': scale_factor\n",
    "}\n",
    "result = model(inputs_dict)['bbox']"
   ],
   "metadata": {
    "collapsed": false,
    "ExecuteTime": {
     "end_time": "2023-05-29T06:17:37.592085400Z",
     "start_time": "2023-05-29T06:17:37.559085Z"
    }
   }
  },
  {
   "cell_type": "code",
   "execution_count": 4,
   "outputs": [
    {
     "data": {
      "text/plain": "True"
     },
     "execution_count": 4,
     "metadata": {},
     "output_type": "execute_result"
    }
   ],
   "source": [
    "confidence_threshold = 0.5\n",
    "boxes = result[result[:, 1] > confidence_threshold]\n",
    "for box in boxes:\n",
    "    cv2.rectangle(org_img, (int(box[2]), int(box[3])), (int(box[4]), int(box[5])), (0, 255, 0), 2)\n",
    "cv2.imwrite(\"../output/soccer_trt.jpg\", org_img)"
   ],
   "metadata": {
    "collapsed": false,
    "ExecuteTime": {
     "end_time": "2023-05-29T06:17:37.651689900Z",
     "start_time": "2023-05-29T06:17:37.590084600Z"
    }
   }
  },
  {
   "cell_type": "code",
   "execution_count": 5,
   "outputs": [],
   "source": [
    "result_dicts = []\n",
    "for box in boxes:\n",
    "    result_dicts.append({\n",
    "        'img_name': 'soccer.jpg',\n",
    "        'class': 0,  # example\n",
    "        'confidence': box[1],\n",
    "        'ymin': box[3],\n",
    "        'xmin': box[2],\n",
    "        'ymax': box[5],\n",
    "        'xmax': box[4]\n",
    "    })"
   ],
   "metadata": {
    "collapsed": false,
    "ExecuteTime": {
     "end_time": "2023-05-29T06:17:37.654691700Z",
     "start_time": "2023-05-29T06:17:37.623107300Z"
    }
   }
  }
 ],
 "metadata": {
  "kernelspec": {
   "display_name": "Python 3 (ipykernel)",
   "language": "python",
   "name": "python3"
  },
  "language_info": {
   "codemirror_mode": {
    "name": "ipython",
    "version": 3
   },
   "file_extension": ".py",
   "mimetype": "text/x-python",
   "name": "python",
   "nbconvert_exporter": "python",
   "pygments_lexer": "ipython3",
   "version": "3.10.6"
  }
 },
 "nbformat": 4,
 "nbformat_minor": 1
}
