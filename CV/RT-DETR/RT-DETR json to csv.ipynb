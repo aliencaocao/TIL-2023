{
 "cells": [
  {
   "cell_type": "code",
   "execution_count": 1,
   "metadata": {
    "collapsed": true,
    "ExecuteTime": {
     "end_time": "2023-05-27T10:30:06.826189200Z",
     "start_time": "2023-05-27T10:30:04.618960Z"
    }
   },
   "outputs": [],
   "source": [
    "import os\n",
    "import orjson\n",
    "import pandas as pd\n",
    "import torch\n",
    "from torchvision.ops import box_convert\n",
    "import cv2"
   ]
  },
  {
   "cell_type": "code",
   "execution_count": 2,
   "metadata": {
    "ExecuteTime": {
     "end_time": "2023-05-27T10:30:15.390835200Z",
     "start_time": "2023-05-27T10:30:14.226044300Z"
    }
   },
   "outputs": [],
   "source": [
    "json_path = \"../yolov7/best_predictions.json\"\n",
    "conf_thresh = 0.4\n",
    "img_width, img_height = 1280, 720\n",
    "\n",
    "with open(json_path, \"rb\") as f:\n",
    "    json_data = orjson.loads(f.read())\n",
    "\n",
    "results_dict = {}\n",
    "for result in json_data:\n",
    "    if result[\"score\"] < conf_thresh:\n",
    "        continue\n",
    "\n",
    "    if result[\"image_id\"] not in results_dict:\n",
    "        results_dict[result[\"image_id\"]] = []\n",
    "\n",
    "    x, y, w, h = result[\"bbox\"]\n",
    "    \n",
    "    results_dict[result[\"image_id\"]].append({\n",
    "        #\"Image_ID\": \"image_\" + str(result[\"image_id\"]).zfill(4),\n",
    "        \"Image_ID\": str(result[\"image_id\"]).zfill(4),\n",
    "        \"class\": 0,\n",
    "        \"confidence\": result[\"score\"],\n",
    "        \"ymin\": y / img_height,\n",
    "        \"xmin\": x / img_width,\n",
    "        \"ymax\": (y + h) / img_height,\n",
    "        \"xmax\": (x + w) / img_width,\n",
    "    })\n",
    "\n",
    "results_list = []\n",
    "for img_id in results_dict:\n",
    "    results_dict[img_id].sort(key=lambda result: result[\"confidence\"], reverse=True)\n",
    "    results_list.extend(results_dict[img_id][:4])\n",
    "\n",
    "# ensure that every image has at least 1 bbox\n",
    "# required by DSTA\n",
    "assert len(set([result[\"Image_ID\"] for result in results_list])) == 1600 # hardcoded for now\n",
    "\n",
    "results_list.sort(key=lambda result: result[\"Image_ID\"])\n",
    "\n",
    "results_df = pd.DataFrame(results_list)\n",
    "results_df.to_csv('../yolov7/0.875 no noise aug best conf 0.4 no reid.csv', index=False)"
   ]
  },
  {
   "cell_type": "code",
   "execution_count": 3,
   "outputs": [],
   "source": [
    "a = sorted(list(set([result[\"Image_ID\"] for result in results_list])))"
   ],
   "metadata": {
    "collapsed": false,
    "ExecuteTime": {
     "end_time": "2023-05-27T10:30:18.974020200Z",
     "start_time": "2023-05-27T10:30:18.956017500Z"
    }
   }
  },
  {
   "cell_type": "code",
   "execution_count": 5,
   "outputs": [
    {
     "name": "stdout",
     "output_type": "stream",
     "text": [
      "[]\n"
     ]
    }
   ],
   "source": [
    "all_images = [f'image_{str(i).zfill(4)}' for i in range(1600)]\n",
    "for i in a:\n",
    "    all_images.remove(i)\n",
    "\n",
    "print(all_images)"
   ],
   "metadata": {
    "collapsed": false,
    "ExecuteTime": {
     "end_time": "2023-05-27T10:30:49.987406100Z",
     "start_time": "2023-05-27T10:30:49.983405600Z"
    }
   }
  }
 ],
 "metadata": {
  "kernelspec": {
   "display_name": "Python 3",
   "language": "python",
   "name": "python3"
  },
  "language_info": {
   "codemirror_mode": {
    "name": "ipython",
    "version": 3
   },
   "file_extension": ".py",
   "mimetype": "text/x-python",
   "name": "python",
   "nbconvert_exporter": "python",
   "pygments_lexer": "ipython3",
   "version": "3.10.6"
  }
 },
 "nbformat": 4,
 "nbformat_minor": 0
}
