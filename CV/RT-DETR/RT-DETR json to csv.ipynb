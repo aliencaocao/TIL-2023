{
 "cells": [
  {
   "cell_type": "code",
   "execution_count": 5,
   "metadata": {
    "collapsed": true,
    "ExecuteTime": {
     "end_time": "2023-05-17T04:41:14.894375500Z",
     "start_time": "2023-05-17T04:41:14.884235900Z"
    }
   },
   "outputs": [],
   "source": [
    "import os\n",
    "import orjson\n",
    "import pandas as pd"
   ]
  },
  {
   "cell_type": "code",
   "execution_count": 6,
   "outputs": [],
   "source": [
    "json_path = 'dataset/test/result/bbox.json'\n",
    "images = os.listdir('dataset/test/images')\n",
    "with open(json_path, 'rb') as f:\n",
    "    json_data = orjson.loads(f.read())\n",
    "results = []\n",
    "same_image_results = []\n",
    "last_seen_img_id = None\n",
    "for result in json_data:\n",
    "    if not last_seen_img_id:\n",
    "        last_seen_img_id = result['image_id']\n",
    "    img_id = result['image_id']\n",
    "\n",
    "    if last_seen_img_id and img_id != last_seen_img_id:  # if not None (first run) and a different image\n",
    "        same_image_results.sort(key=lambda x: x['confidence'], reverse=True)\n",
    "        results.extend(same_image_results[:4])  # 1 image at most 4 bbox\n",
    "        same_image_results = []\n",
    "        last_seen_img_id = result['image_id']\n",
    "\n",
    "    same_image_results.append({\n",
    "        'Image_ID': images[int()].split('.')[0],\n",
    "        'class': 0,  # TODO: replace with actual ReID model results, but for now can just submit bbox and see map, 1: suspect, 0: not suspect\n",
    "        'confidence': result['score'],\n",
    "        'ymin': result['bbox'][1],\n",
    "        'xmin': result['bbox'][0],\n",
    "        'ymax': result['bbox'][3],\n",
    "        'xmax': result['bbox'][2]\n",
    "    })\n",
    "else:  # when for loop exhausts, do 1 last merge\n",
    "    same_image_results.sort(key=lambda x: x['confidence'], reverse=True)\n",
    "    results.extend(same_image_results[:4])  # 1 image at most 4 bbox\n",
    "    same_image_results = []"
   ],
   "metadata": {
    "collapsed": false,
    "ExecuteTime": {
     "end_time": "2023-05-17T04:41:15.231498700Z",
     "start_time": "2023-05-17T04:41:15.218097800Z"
    }
   }
  },
  {
   "cell_type": "code",
   "execution_count": 7,
   "outputs": [],
   "source": [
    "df = pd.DataFrame(results)\n",
    "df.to_csv('submission.csv', index=False)"
   ],
   "metadata": {
    "collapsed": false,
    "ExecuteTime": {
     "end_time": "2023-05-17T04:41:16.386975Z",
     "start_time": "2023-05-17T04:41:16.379975700Z"
    }
   }
  }
 ],
 "metadata": {
  "kernelspec": {
   "display_name": "Python 3",
   "language": "python",
   "name": "python3"
  },
  "language_info": {
   "codemirror_mode": {
    "name": "ipython",
    "version": 2
   },
   "file_extension": ".py",
   "mimetype": "text/x-python",
   "name": "python",
   "nbconvert_exporter": "python",
   "pygments_lexer": "ipython2",
   "version": "2.7.6"
  }
 },
 "nbformat": 4,
 "nbformat_minor": 0
}
