{
 "cells": [
  {
   "cell_type": "code",
   "execution_count": 1,
   "metadata": {
    "collapsed": true,
    "ExecuteTime": {
     "end_time": "2023-05-28T14:52:21.882505400Z",
     "start_time": "2023-05-28T14:52:21.332441700Z"
    }
   },
   "outputs": [],
   "source": [
    "from ensemble_boxes import weighted_boxes_fusion\n",
    "import pandas as pd"
   ]
  },
  {
   "cell_type": "code",
   "execution_count": 27,
   "outputs": [],
   "source": [
    "def get_ensemble_boxes(boxes_list, scores_list, labels_list, weights=None):\n",
    "    if weights is None:\n",
    "        weights = [1] * len(boxes_list)\n",
    "    return weighted_boxes_fusion(boxes_list, scores_list, labels_list, weights=weights)"
   ],
   "metadata": {
    "collapsed": false,
    "ExecuteTime": {
     "end_time": "2023-05-28T15:08:13.862416900Z",
     "start_time": "2023-05-28T15:08:13.856424200Z"
    }
   }
  },
  {
   "cell_type": "code",
   "execution_count": 28,
   "outputs": [],
   "source": [
    "def get_ensemble_boxes_df(df_list, weights=None):\n",
    "    combined_df_list = []\n",
    "    for i in df_list[0]['Image_ID'].unique():\n",
    "        boxes_list = []\n",
    "        scores_list = []\n",
    "        labels_list = []\n",
    "        for df in df_list:\n",
    "            df = df[df['Image_ID'] == i]\n",
    "            boxes_list.append(df[['xmin', 'ymin', 'xmax', 'ymax']].values)\n",
    "            scores_list.append(df['confidence'].values)\n",
    "            labels_list.append(df['class'].values)\n",
    "        boxes, scores, labels = get_ensemble_boxes(boxes_list, scores_list, labels_list, weights=weights)\n",
    "        df = pd.DataFrame(boxes, columns=['xmin', 'ymin', 'xmax', 'ymax'])\n",
    "        df['confidence'] = scores\n",
    "        df['class'] = labels\n",
    "        df['Image_ID'] = i\n",
    "        combined_df_list.append(df)\n",
    "    return pd.concat(combined_df_list)"
   ],
   "metadata": {
    "collapsed": false,
    "ExecuteTime": {
     "end_time": "2023-05-28T15:08:14.868970100Z",
     "start_time": "2023-05-28T15:08:14.866213700Z"
    }
   }
  },
  {
   "cell_type": "code",
   "execution_count": 38,
   "outputs": [
    {
     "name": "stderr",
     "output_type": "stream",
     "text": [
      "C:\\Program Files\\Python39\\lib\\site-packages\\ensemble_boxes\\ensemble_boxes_wbf.py:63: UserWarning: Y2 > 1 in box. Set it to 1. Check that you normalize boxes in [0, 1] range.\n",
      "  warnings.warn('Y2 > 1 in box. Set it to 1. Check that you normalize boxes in [0, 1] range.')\n",
      "C:\\Program Files\\Python39\\lib\\site-packages\\ensemble_boxes\\ensemble_boxes_wbf.py:42: UserWarning: X1 < 0 in box. Set it to 0.\n",
      "  warnings.warn('X1 < 0 in box. Set it to 0.')\n",
      "C:\\Program Files\\Python39\\lib\\site-packages\\ensemble_boxes\\ensemble_boxes_wbf.py:63: UserWarning: Y2 > 1 in box. Set it to 1. Check that you normalize boxes in [0, 1] range.\n",
      "  warnings.warn('Y2 > 1 in box. Set it to 1. Check that you normalize boxes in [0, 1] range.')\n",
      "C:\\Program Files\\Python39\\lib\\site-packages\\ensemble_boxes\\ensemble_boxes_wbf.py:51: UserWarning: X2 > 1 in box. Set it to 1. Check that you normalize boxes in [0, 1] range.\n",
      "  warnings.warn('X2 > 1 in box. Set it to 1. Check that you normalize boxes in [0, 1] range.')\n",
      "C:\\Program Files\\Python39\\lib\\site-packages\\ensemble_boxes\\ensemble_boxes_wbf.py:63: UserWarning: Y2 > 1 in box. Set it to 1. Check that you normalize boxes in [0, 1] range.\n",
      "  warnings.warn('Y2 > 1 in box. Set it to 1. Check that you normalize boxes in [0, 1] range.')\n",
      "C:\\Program Files\\Python39\\lib\\site-packages\\ensemble_boxes\\ensemble_boxes_wbf.py:54: UserWarning: Y1 < 0 in box. Set it to 0.\n",
      "  warnings.warn('Y1 < 0 in box. Set it to 0.')\n",
      "C:\\Program Files\\Python39\\lib\\site-packages\\ensemble_boxes\\ensemble_boxes_wbf.py:63: UserWarning: Y2 > 1 in box. Set it to 1. Check that you normalize boxes in [0, 1] range.\n",
      "  warnings.warn('Y2 > 1 in box. Set it to 1. Check that you normalize boxes in [0, 1] range.')\n",
      "C:\\Program Files\\Python39\\lib\\site-packages\\ensemble_boxes\\ensemble_boxes_wbf.py:51: UserWarning: X2 > 1 in box. Set it to 1. Check that you normalize boxes in [0, 1] range.\n",
      "  warnings.warn('X2 > 1 in box. Set it to 1. Check that you normalize boxes in [0, 1] range.')\n",
      "C:\\Program Files\\Python39\\lib\\site-packages\\ensemble_boxes\\ensemble_boxes_wbf.py:63: UserWarning: Y2 > 1 in box. Set it to 1. Check that you normalize boxes in [0, 1] range.\n",
      "  warnings.warn('Y2 > 1 in box. Set it to 1. Check that you normalize boxes in [0, 1] range.')\n",
      "C:\\Program Files\\Python39\\lib\\site-packages\\ensemble_boxes\\ensemble_boxes_wbf.py:42: UserWarning: X1 < 0 in box. Set it to 0.\n",
      "  warnings.warn('X1 < 0 in box. Set it to 0.')\n",
      "C:\\Program Files\\Python39\\lib\\site-packages\\ensemble_boxes\\ensemble_boxes_wbf.py:63: UserWarning: Y2 > 1 in box. Set it to 1. Check that you normalize boxes in [0, 1] range.\n",
      "  warnings.warn('Y2 > 1 in box. Set it to 1. Check that you normalize boxes in [0, 1] range.')\n",
      "C:\\Program Files\\Python39\\lib\\site-packages\\ensemble_boxes\\ensemble_boxes_wbf.py:42: UserWarning: X1 < 0 in box. Set it to 0.\n",
      "  warnings.warn('X1 < 0 in box. Set it to 0.')\n",
      "C:\\Program Files\\Python39\\lib\\site-packages\\ensemble_boxes\\ensemble_boxes_wbf.py:51: UserWarning: X2 > 1 in box. Set it to 1. Check that you normalize boxes in [0, 1] range.\n",
      "  warnings.warn('X2 > 1 in box. Set it to 1. Check that you normalize boxes in [0, 1] range.')\n",
      "C:\\Program Files\\Python39\\lib\\site-packages\\ensemble_boxes\\ensemble_boxes_wbf.py:51: UserWarning: X2 > 1 in box. Set it to 1. Check that you normalize boxes in [0, 1] range.\n",
      "  warnings.warn('X2 > 1 in box. Set it to 1. Check that you normalize boxes in [0, 1] range.')\n",
      "C:\\Program Files\\Python39\\lib\\site-packages\\ensemble_boxes\\ensemble_boxes_wbf.py:42: UserWarning: X1 < 0 in box. Set it to 0.\n",
      "  warnings.warn('X1 < 0 in box. Set it to 0.')\n",
      "C:\\Program Files\\Python39\\lib\\site-packages\\ensemble_boxes\\ensemble_boxes_wbf.py:63: UserWarning: Y2 > 1 in box. Set it to 1. Check that you normalize boxes in [0, 1] range.\n",
      "  warnings.warn('Y2 > 1 in box. Set it to 1. Check that you normalize boxes in [0, 1] range.')\n",
      "C:\\Program Files\\Python39\\lib\\site-packages\\ensemble_boxes\\ensemble_boxes_wbf.py:42: UserWarning: X1 < 0 in box. Set it to 0.\n",
      "  warnings.warn('X1 < 0 in box. Set it to 0.')\n",
      "C:\\Program Files\\Python39\\lib\\site-packages\\ensemble_boxes\\ensemble_boxes_wbf.py:63: UserWarning: Y2 > 1 in box. Set it to 1. Check that you normalize boxes in [0, 1] range.\n",
      "  warnings.warn('Y2 > 1 in box. Set it to 1. Check that you normalize boxes in [0, 1] range.')\n"
     ]
    }
   ],
   "source": [
    "pred1 = '0.88x no aug best conf 0.5 no reid lb 0.306.csv'\n",
    "pred2 = '0.882 manyaug best conf 0.7 no reid lb 0.30378.csv'\n",
    "df1 = pd.read_csv(f'RT-DETR/submissions/{pred1}')\n",
    "df2 = pd.read_csv(f'RT-DETR/submissions/{pred2}')\n",
    "wbf_df = get_ensemble_boxes_df([df1, df2], weights=[1, 1])\n",
    "wbf_df = wbf_df[df1.columns.tolist()]\n",
    "wbf_df.to_csv(f'RT-DETR/submissions/wbf_{pred1.split(\".csv\")[0]}_{pred2.split(\".csv\")[0]}.csv', index=False)"
   ],
   "metadata": {
    "collapsed": false,
    "ExecuteTime": {
     "end_time": "2023-05-28T15:15:44.058782400Z",
     "start_time": "2023-05-28T15:15:41.282750400Z"
    }
   }
  }
 ],
 "metadata": {
  "kernelspec": {
   "display_name": "Python 3",
   "language": "python",
   "name": "python3"
  },
  "language_info": {
   "codemirror_mode": {
    "name": "ipython",
    "version": 2
   },
   "file_extension": ".py",
   "mimetype": "text/x-python",
   "name": "python",
   "nbconvert_exporter": "python",
   "pygments_lexer": "ipython2",
   "version": "2.7.6"
  }
 },
 "nbformat": 4,
 "nbformat_minor": 0
}
