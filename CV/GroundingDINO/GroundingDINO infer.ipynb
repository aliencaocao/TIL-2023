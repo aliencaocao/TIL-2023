{
 "cells": [
  {
   "cell_type": "code",
   "execution_count": 13,
   "metadata": {
    "collapsed": true,
    "ExecuteTime": {
     "end_time": "2023-05-17T03:44:32.847334300Z",
     "start_time": "2023-05-17T03:44:32.844333800Z"
    }
   },
   "outputs": [],
   "source": [
    "import os\n",
    "import torch\n",
    "import torchvision\n",
    "from groundingdino.util.inference import load_model, load_image, annotate, predict as _predict\n",
    "import cv2\n",
    "import tqdm"
   ]
  },
  {
   "cell_type": "code",
   "execution_count": 14,
   "outputs": [
    {
     "name": "stdout",
     "output_type": "stream",
     "text": [
      "final text_encoder_type: bert-base-uncased\n"
     ]
    },
    {
     "name": "stderr",
     "output_type": "stream",
     "text": [
      "Some weights of the model checkpoint at bert-base-uncased were not used when initializing BertModel: ['cls.seq_relationship.weight', 'cls.predictions.transform.dense.weight', 'cls.predictions.transform.dense.bias', 'cls.predictions.transform.LayerNorm.weight', 'cls.predictions.bias', 'cls.seq_relationship.bias', 'cls.predictions.transform.LayerNorm.bias']\n",
      "- This IS expected if you are initializing BertModel from the checkpoint of a model trained on another task or with another architecture (e.g. initializing a BertForSequenceClassification model from a BertForPreTraining model).\n",
      "- This IS NOT expected if you are initializing BertModel from the checkpoint of a model that you expect to be exactly identical (initializing a BertForSequenceClassification model from a BertForSequenceClassification model).\n"
     ]
    }
   ],
   "source": [
    "model = load_model(\"GroundingDINO_SwinT_OGC.py\", \"groundingdino_swint_ogc.pth\")"
   ],
   "metadata": {
    "collapsed": false,
    "ExecuteTime": {
     "end_time": "2023-05-17T03:44:35.421379700Z",
     "start_time": "2023-05-17T03:44:33.669373900Z"
    }
   }
  },
  {
   "cell_type": "code",
   "execution_count": 24,
   "outputs": [],
   "source": [
    "def predict(image, caption, box_threshold, text_threshold, save=False):\n",
    "    fname = image.split(os.sep)[-1]\n",
    "    image_source, image = load_image(image)\n",
    "    boxes, confidence, phrases = _predict(\n",
    "    model=model,\n",
    "    image=image,\n",
    "    caption=caption,\n",
    "    box_threshold=box_threshold,\n",
    "    text_threshold=text_threshold)\n",
    "    if save:\n",
    "        os.makedirs('output', exist_ok=True)\n",
    "        annotated_frame = annotate(image_source=image_source, boxes=boxes, logits=confidence, phrases=phrases)\n",
    "        cv2.imwrite(os.path.join('output', fname), annotated_frame)\n",
    "    h, w, c = image_source.shape\n",
    "    boxes = boxes * torch.Tensor([w, h, w, h])  # undo normalization\n",
    "    boxes = torchvision.ops.box_convert(boxes=boxes, in_fmt=\"cxcywh\", out_fmt=\"xyxy\").tolist()\n",
    "    confidence = confidence.tolist()\n",
    "    return [{\n",
    "        'img_name': fname,\n",
    "        'class': 0,  # TODO: replace with actual ReID model results, but for now can just submit bbox and see map, 1: suspect, 0: not suspect\n",
    "        'confidence': confidence[i],\n",
    "        'ymin': boxes[i][1],\n",
    "        'xmin': boxes[i][0],\n",
    "        'ymax': boxes[i][3],\n",
    "        'xmax': boxes[i][2]\n",
    "    } for i in range(len(boxes))]"
   ],
   "metadata": {
    "collapsed": false,
    "ExecuteTime": {
     "end_time": "2023-05-17T03:49:44.797907Z",
     "start_time": "2023-05-17T03:49:44.784784700Z"
    }
   }
  },
  {
   "cell_type": "code",
   "execution_count": 28,
   "outputs": [
    {
     "name": "stderr",
     "output_type": "stream",
     "text": [
      "100%|██████████| 1/1 [00:00<00:00,  2.26it/s]\n"
     ]
    }
   ],
   "source": [
    "dataset_root = '../RT-DETR/dataset/test/images'\n",
    "TEXT_PROMPT = \"plushie\"\n",
    "BOX_TRESHOLD = 0.7\n",
    "TEXT_TRESHOLD = 0.7\n",
    "results = []\n",
    "\n",
    "for fname in tqdm.tqdm(os.listdir(dataset_root)):\n",
    "    results.extend(predict(os.path.join(dataset_root, fname), TEXT_PROMPT, BOX_TRESHOLD, TEXT_TRESHOLD, save=False))"
   ],
   "metadata": {
    "collapsed": false,
    "ExecuteTime": {
     "end_time": "2023-05-17T03:50:22.820790200Z",
     "start_time": "2023-05-17T03:50:22.356195500Z"
    }
   }
  },
  {
   "cell_type": "code",
   "execution_count": 30,
   "outputs": [],
   "source": [
    "import pandas as pd\n",
    "df = pd.DataFrame(results)\n",
    "df.to_csv('submission.csv', index=False)"
   ],
   "metadata": {
    "collapsed": false,
    "ExecuteTime": {
     "end_time": "2023-05-17T03:53:08.629141Z",
     "start_time": "2023-05-17T03:53:08.613615Z"
    }
   }
  }
 ],
 "metadata": {
  "kernelspec": {
   "display_name": "Python 3",
   "language": "python",
   "name": "python3"
  },
  "language_info": {
   "codemirror_mode": {
    "name": "ipython",
    "version": 2
   },
   "file_extension": ".py",
   "mimetype": "text/x-python",
   "name": "python",
   "nbconvert_exporter": "python",
   "pygments_lexer": "ipython2",
   "version": "2.7.6"
  }
 },
 "nbformat": 4,
 "nbformat_minor": 0
}
