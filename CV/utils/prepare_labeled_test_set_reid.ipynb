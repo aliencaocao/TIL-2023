{
 "cells": [
  {
   "cell_type": "code",
   "execution_count": 20,
   "metadata": {},
   "outputs": [],
   "source": [
    "import os\n",
    "from pathlib import Path\n",
    "import shutil\n",
    "import glob\n",
    "import random\n",
    "from PIL import Image\n",
    "import numpy as np\n",
    "from tqdm import tqdm"
   ]
  },
  {
   "cell_type": "code",
   "execution_count": 26,
   "metadata": {},
   "outputs": [],
   "source": [
    "TEST_HAND_LABELED_PATH = Path(\"../RT-DETR/dataset/test_hand_label/\")\n",
    "OUTPUT_DIR = Path(\"../RT-DETR/dataset/reid_test_hand_label/bounding_box_train/\")\n",
    "os.makedirs(OUTPUT_DIR, exist_ok=True)"
   ]
  },
  {
   "cell_type": "code",
   "execution_count": 27,
   "metadata": {},
   "outputs": [
    {
     "data": {
      "text/plain": [
       "{'alien that looks like discord mascot': 1,\n",
       " 'apron bear': 2,\n",
       " 'black penguin': 3,\n",
       " 'blue bear black checkered hanky': 4,\n",
       " 'blue horse': 5,\n",
       " 'blue turtle ball': 6,\n",
       " 'brown ball': 7,\n",
       " 'brown cow': 8,\n",
       " 'brown doggy blue shirt': 9,\n",
       " 'brown rilakkuma bear': 10,\n",
       " 'brown squirrel': 11,\n",
       " 'carrot': 12,\n",
       " 'corgi': 13,\n",
       " 'dark green dino': 14,\n",
       " 'dolphin': 15,\n",
       " 'doodoo turtle': 16,\n",
       " 'froggy': 17,\n",
       " 'green plant': 18,\n",
       " 'grey cat blue eyes': 19,\n",
       " 'grey shark brown things': 20,\n",
       " 'light brown dog perky tail': 21,\n",
       " 'lilo and stitch': 22,\n",
       " 'monke hugging banana': 23,\n",
       " 'monke with half peeled banana': 24,\n",
       " 'mouse wrapped in green thing': 25,\n",
       " 'panda blue hoodie': 26,\n",
       " 'peanut boy': 27,\n",
       " 'pig pink shirt blue pants': 28,\n",
       " 'pink bear with antenna': 29,\n",
       " 'pink cat': 30,\n",
       " 'pink lion': 31,\n",
       " 'polar bear': 32,\n",
       " 'purple dino': 33,\n",
       " 'purple suit chihuahua': 34,\n",
       " 'red mexican boi': 35,\n",
       " 'reindeer': 36,\n",
       " 'shaggydog': 37,\n",
       " 'squidgame': 38,\n",
       " 'strawberry dude': 39,\n",
       " 'tall monke': 40,\n",
       " 'unicorn': 41,\n",
       " 'white bear pink bowtie': 42,\n",
       " 'white bear red paws': 43,\n",
       " 'white dino': 44,\n",
       " 'white dog black ears': 45,\n",
       " 'white duck': 46,\n",
       " 'white pink stripe bunny': 47,\n",
       " 'white rabbit checkered skirt': 48,\n",
       " 'wide brown doggy': 49,\n",
       " 'yellow bear brown ears': 50}"
      ]
     },
     "execution_count": 27,
     "metadata": {},
     "output_type": "execute_result"
    }
   ],
   "source": [
    "plushie_identities = sorted(os.listdir(TEST_HAND_LABELED_PATH))\n",
    "mapping_dict = {identity:i+1 for i, identity in enumerate(plushie_identities)}\n",
    "mapping_dict"
   ]
  },
  {
   "cell_type": "code",
   "execution_count": 29,
   "metadata": {},
   "outputs": [
    {
     "name": "stderr",
     "output_type": "stream",
     "text": [
      "100%|██████████| 50/50 [00:40<00:00,  1.25it/s]\n"
     ]
    }
   ],
   "source": [
    "for plushie_identity in tqdm(plushie_identities):\n",
    "    search_string = str(TEST_HAND_LABELED_PATH/plushie_identity/\"*.png\")\n",
    "    for cameraID, plushie_image in enumerate(glob.glob(search_string)):\n",
    "        cameraID += 1 # Make it one-indexed, for training, the REID code expects the cameraID to be one-indexed. Refer to TILCustomDataset.py line 80. \n",
    "        img = Image.open(plushie_image)\n",
    "        # perform the 4x rotation expansion\n",
    "        for i in range(4):\n",
    "            output_filename = f\"{mapping_dict[plushie_identity]}_c{cameraID}s1_1_{i+1}.png\"\n",
    "            img.save(OUTPUT_DIR/output_filename)\n",
    "            img = Image.fromarray(np.rot90(np.array(img), 1))"
   ]
  }
 ],
 "metadata": {
  "kernelspec": {
   "display_name": "til2023",
   "language": "python",
   "name": "python3"
  },
  "language_info": {
   "codemirror_mode": {
    "name": "ipython",
    "version": 3
   },
   "file_extension": ".py",
   "mimetype": "text/x-python",
   "name": "python",
   "nbconvert_exporter": "python",
   "pygments_lexer": "ipython3",
   "version": "3.9.16"
  },
  "orig_nbformat": 4
 },
 "nbformat": 4,
 "nbformat_minor": 2
}
