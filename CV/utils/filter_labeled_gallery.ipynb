{
 "cells": [
  {
   "cell_type": "code",
   "execution_count": 54,
   "metadata": {},
   "outputs": [],
   "source": [
    "import os\n",
    "import glob\n",
    "import shutil\n",
    "from pathlib import Path"
   ]
  },
  {
   "cell_type": "code",
   "execution_count": 55,
   "metadata": {},
   "outputs": [],
   "source": [
    "GALLERY_PATH = \"../RT-DETR/dataset/gallery_hand_label/\"\n",
    "FILTERED_GALLERY_PATH = \"../RT-DETR/dataset/gallery_hand_label_filtered/\"\n",
    "shutil.copytree(GALLERY_PATH, FILTERED_GALLERY_PATH)\n",
    "\n",
    "TEST_SET_PATH = \"../RT-DETR/dataset/test/images/\""
   ]
  },
  {
   "cell_type": "code",
   "execution_count": 56,
   "metadata": {},
   "outputs": [],
   "source": [
    "noisy_test_set_img_paths = []\n",
    "for test_set_img in glob.glob(f\"{TEST_SET_PATH}/*.png\"):\n",
    "    # check if the size is more than 2MB\n",
    "    if os.path.getsize(test_set_img) > 2000000:\n",
    "        noisy_test_set_img_paths.append(test_set_img)"
   ]
  },
  {
   "cell_type": "code",
   "execution_count": 57,
   "metadata": {},
   "outputs": [
    {
     "name": "stdout",
     "output_type": "stream",
     "text": [
      "789/1600 test set images are noisy\n"
     ]
    }
   ],
   "source": [
    "noisy_test_set_imgs = [int(Path(x).stem.split(\"_\")[1]) for x in noisy_test_set_img_paths]\n",
    "print(f\"{len(noisy_test_set_imgs)}/1600 test set images are noisy\")"
   ]
  },
  {
   "cell_type": "code",
   "execution_count": 58,
   "metadata": {},
   "outputs": [
    {
     "name": "stdout",
     "output_type": "stream",
     "text": [
      "1694/3417 gallery bboxes are noisy\n"
     ]
    }
   ],
   "source": [
    "gallery_img_paths_to_delete = []\n",
    "gallery_img_paths = glob.glob(f\"{GALLERY_PATH}/*/*.png\")\n",
    "for gallery_img in gallery_img_paths:\n",
    "    gallery_img_filename = Path(gallery_img).stem\n",
    "    corresponding_test_set_img = int(gallery_img_filename.split(\"_\")[1].split(\"s\")[0][1:])\n",
    "    if corresponding_test_set_img in noisy_test_set_imgs:\n",
    "        gallery_img_paths_to_delete.append(gallery_img.replace(GALLERY_PATH, FILTERED_GALLERY_PATH))\n",
    "print(f\"{len(gallery_img_paths_to_delete)}/{len(gallery_img_paths)} gallery bboxes are noisy\")"
   ]
  },
  {
   "cell_type": "code",
   "execution_count": 59,
   "metadata": {},
   "outputs": [],
   "source": [
    "for gallery_img_path in gallery_img_paths_to_delete:\n",
    "    os.remove(gallery_img_path)"
   ]
  }
 ],
 "metadata": {
  "kernelspec": {
   "display_name": "til2023",
   "language": "python",
   "name": "python3"
  },
  "language_info": {
   "codemirror_mode": {
    "name": "ipython",
    "version": 3
   },
   "file_extension": ".py",
   "mimetype": "text/x-python",
   "name": "python",
   "nbconvert_exporter": "python",
   "pygments_lexer": "ipython3",
   "version": "3.9.16"
  },
  "orig_nbformat": 4
 },
 "nbformat": 4,
 "nbformat_minor": 2
}
