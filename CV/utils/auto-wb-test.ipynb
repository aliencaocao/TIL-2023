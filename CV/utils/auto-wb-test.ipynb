{
 "cells": [
  {
   "cell_type": "code",
   "execution_count": 1,
   "metadata": {},
   "outputs": [],
   "source": [
    "color_temp_to_rgb = {}\n",
    "\n",
    "with open(\"temp-to-rgb.txt\") as f:\n",
    "  for line in f:\n",
    "    if line[0] == \"#\":\n",
    "      continue\n",
    "    \n",
    "    line_respaced = \"\"\n",
    "    for i in range(1, len(line)):\n",
    "      if not (i > 0 and line[i] == ' ' and line[i-1] == ' '):\n",
    "        line_respaced += line[i]\n",
    "    \n",
    "    line_respaced_split = line_respaced.split(\" \")\n",
    "    color_temp = int(line_respaced_split[0])\n",
    "    r, g, b = [float(x) * 255 for x in line_respaced_split[6:9]]\n",
    "    \n",
    "    # 10deg figures overwrite the 2deg ones\n",
    "    # so the actual RGB values are for CIE 1964 10 degree CMFs, whatever that means\n",
    "    color_temp_to_rgb[color_temp] = (r, g, b)"
   ]
  },
  {
   "cell_type": "code",
   "execution_count": 64,
   "metadata": {},
   "outputs": [],
   "source": [
    "from PIL import Image\n",
    "\n",
    "def convert_img_to_temp(img, temp):\n",
    "  r, g, b = color_temp_to_rgb[temp]\n",
    "  matrix = (r / 255., 0., 0., 0.,\n",
    "            0., g / 255., 0., 0.,\n",
    "            0., 0., b / 255., 0.,)\n",
    "  return img.convert(\"RGB\", matrix)\n",
    "\n",
    "img_filename = \"image_0223.png\"\n",
    "img = Image.open(f\"test/{img_filename}\").convert(\"RGB\")\n",
    "\n",
    "for temp in range(4000, 10000, 1000):\n",
    "  convert_img_to_temp(img, temp).save(f\"{img_filename[:-4]}-{temp}.png\")"
   ]
  },
  {
   "cell_type": "code",
   "execution_count": 66,
   "metadata": {},
   "outputs": [],
   "source": [
    "temp = 5500\n",
    "convert_img_to_temp(img, temp).save(f\"{img_filename[:-4]}-{temp}.png\")"
   ]
  },
  {
   "cell_type": "code",
   "execution_count": 2,
   "metadata": {},
   "outputs": [
    {
     "ename": "FileExistsError",
     "evalue": "[Errno 17] File exists: '../RT-DETR/dataset/test-temp=6000'",
     "output_type": "error",
     "traceback": [
      "\u001b[0;31m---------------------------------------------------------------------------\u001b[0m",
      "\u001b[0;31mFileExistsError\u001b[0m                           Traceback (most recent call last)",
      "Cell \u001b[0;32mIn[2], line 10\u001b[0m\n\u001b[1;32m      7\u001b[0m temp \u001b[39m=\u001b[39m \u001b[39m6000\u001b[39m\n\u001b[1;32m      9\u001b[0m output_dirname \u001b[39m=\u001b[39m \u001b[39mf\u001b[39m\u001b[39m\"\u001b[39m\u001b[39m../RT-DETR/dataset/test-temp=\u001b[39m\u001b[39m{\u001b[39;00mtemp\u001b[39m}\u001b[39;00m\u001b[39m\"\u001b[39m\n\u001b[0;32m---> 10\u001b[0m os\u001b[39m.\u001b[39;49mmakedirs(output_dirname)\n\u001b[1;32m     12\u001b[0m \u001b[39mdef\u001b[39;00m \u001b[39mload_and_convert_img\u001b[39m(img_path):\n\u001b[1;32m     13\u001b[0m   img \u001b[39m=\u001b[39m Image\u001b[39m.\u001b[39mopen(img_path)\u001b[39m.\u001b[39mconvert(\u001b[39m\"\u001b[39m\u001b[39mRGB\u001b[39m\u001b[39m\"\u001b[39m)\n",
      "File \u001b[0;32m/usr/lib/python3.8/os.py:223\u001b[0m, in \u001b[0;36mmakedirs\u001b[0;34m(name, mode, exist_ok)\u001b[0m\n\u001b[1;32m    221\u001b[0m         \u001b[39mreturn\u001b[39;00m\n\u001b[1;32m    222\u001b[0m \u001b[39mtry\u001b[39;00m:\n\u001b[0;32m--> 223\u001b[0m     mkdir(name, mode)\n\u001b[1;32m    224\u001b[0m \u001b[39mexcept\u001b[39;00m \u001b[39mOSError\u001b[39;00m:\n\u001b[1;32m    225\u001b[0m     \u001b[39m# Cannot rely on checking for EEXIST, since the operating system\u001b[39;00m\n\u001b[1;32m    226\u001b[0m     \u001b[39m# could give priority to other errors like EACCES or EROFS\u001b[39;00m\n\u001b[1;32m    227\u001b[0m     \u001b[39mif\u001b[39;00m \u001b[39mnot\u001b[39;00m exist_ok \u001b[39mor\u001b[39;00m \u001b[39mnot\u001b[39;00m path\u001b[39m.\u001b[39misdir(name):\n",
      "\u001b[0;31mFileExistsError\u001b[0m: [Errno 17] File exists: '../RT-DETR/dataset/test-temp=6000'"
     ]
    }
   ],
   "source": [
    "from tqdm import tqdm\n",
    "from glob import glob\n",
    "import os\n",
    "from PIL import Image\n",
    "from multiprocessing import Pool\n",
    "\n",
    "temp = 6000\n",
    "\n",
    "output_dirname = f\"../RT-DETR/dataset/test-temp={temp}\"\n",
    "os.makedirs(output_dirname)\n",
    "\n",
    "def load_and_convert_img(img_path):\n",
    "  img = Image.open(img_path).convert(\"RGB\")\n",
    "  output_path = f\"{output_dirname}/{img_path.split('/')[-1][:-4]}-{temp}.png\"\n",
    "  convert_img_to_temp(img, temp).save(output_path)\n",
    "  return output_path\n",
    "\n",
    "with Pool(16) as pool:\n",
    "  output_paths = pool.map(load_and_convert_img, glob(\"../RT-DETR/dataset/test/*.png\"))\n",
    "\n",
    "# for img_path in tqdm(glob(\"test/*.png\")):\n",
    "#   img = Image.open(img_path).convert(\"RGB\")\n",
    "#   convert_img_to_temp(img, temp).save(f\"{output_dirname}/{img_filename[:-4]}-{temp}.png\")"
   ]
  }
 ],
 "metadata": {
  "kernelspec": {
   "display_name": "til-2023",
   "language": "python",
   "name": "python3"
  },
  "language_info": {
   "codemirror_mode": {
    "name": "ipython",
    "version": 3
   },
   "file_extension": ".py",
   "mimetype": "text/x-python",
   "name": "python",
   "nbconvert_exporter": "python",
   "pygments_lexer": "ipython3",
   "version": "3.8.17"
  },
  "orig_nbformat": 4
 },
 "nbformat": 4,
 "nbformat_minor": 2
}
