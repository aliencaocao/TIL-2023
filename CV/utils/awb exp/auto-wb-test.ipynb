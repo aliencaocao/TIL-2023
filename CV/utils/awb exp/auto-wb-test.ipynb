{
 "cells": [
  {
   "cell_type": "code",
   "execution_count": 1,
   "metadata": {},
   "outputs": [],
   "source": [
    "from tqdm import tqdm\n",
    "from glob import glob\n",
    "import os\n",
    "from PIL import Image\n",
    "from multiprocessing import Pool\n",
    "from PIL import Image"
   ]
  },
  {
   "cell_type": "code",
   "execution_count": 2,
   "metadata": {},
   "outputs": [],
   "source": [
    "color_temp_to_rgb = {}\n",
    "\n",
    "with open(\"temp-to-rgb.txt\") as f:\n",
    "  for line in f:\n",
    "    if line[0] == \"#\":\n",
    "      continue\n",
    "    \n",
    "    line_respaced = \"\"\n",
    "    for i in range(1, len(line)):\n",
    "      if not (i > 0 and line[i] == ' ' and line[i-1] == ' '):\n",
    "        line_respaced += line[i]\n",
    "    \n",
    "    line_respaced_split = line_respaced.split(\" \")\n",
    "    color_temp = int(line_respaced_split[0])\n",
    "    r, g, b = [float(x) * 255 for x in line_respaced_split[6:9]]\n",
    "    \n",
    "    # 10deg figures overwrite the 2deg ones\n",
    "    # so the actual RGB values are for CIE 1964 10 degree CMFs, whatever that means\n",
    "    color_temp_to_rgb[color_temp] = (r, g, b)"
   ]
  },
  {
   "cell_type": "code",
   "execution_count": 3,
   "metadata": {},
   "outputs": [],
   "source": [
    "def convert_img_to_temp(img, temp):\n",
    "  r, g, b = color_temp_to_rgb[temp]\n",
    "  matrix = (r / 255., 0., 0., 0.,\n",
    "            0., g / 255., 0., 0.,\n",
    "            0., 0., b / 255., 0.,)\n",
    "  return img.convert(\"RGB\", matrix)\n",
    "\n",
    "def load_and_convert_img(img_path, output_dirname, temp):\n",
    "    img = Image.open(img_path).convert(\"RGB\")\n",
    "    output_path = f\"{output_dirname}/{img_path.split('/')[-1][:-4]}.png\"\n",
    "    convert_img_to_temp(img, temp).save(output_path)\n",
    "    return output_path"
   ]
  },
  {
   "cell_type": "code",
   "execution_count": 4,
   "metadata": {},
   "outputs": [
    {
     "name": "stdout",
     "output_type": "stream",
     "text": [
      "Shifting suspect images...\n"
     ]
    }
   ],
   "source": [
    "temp = 5000\n",
    "\n",
    "train_output_dirname = f\"../RT-DETR/dataset/train-temp={temp}\"\n",
    "val_output_dirname = f\"../RT-DETR/dataset/val-temp={temp}\"\n",
    "test_output_dirname = f\"../RT-DETR/dataset/test-temp={temp}\"\n",
    "suspects_output_dirname = f\"../RT-DETR/dataset/suspects-temp={temp}\"\n",
    "\n",
    "os.makedirs(train_output_dirname, exist_ok=True)\n",
    "os.makedirs(val_output_dirname, exist_ok=True)\n",
    "os.makedirs(test_output_dirname, exist_ok=True)\n",
    "os.makedirs(suspects_output_dirname, exist_ok=True)\n",
    "\n",
    "def shift_train(img_path):\n",
    "    return load_and_convert_img(img_path, train_output_dirname, temp)\n",
    "\n",
    "def shift_val(img_path):\n",
    "    return load_and_convert_img(img_path, val_output_dirname, temp)\n",
    "\n",
    "def shift_test(img_path):\n",
    "    return load_and_convert_img(img_path, test_output_dirname, temp)\n",
    "\n",
    "def shift_suspects(img_path):\n",
    "    return load_and_convert_img(img_path, suspects_output_dirname, temp)\n",
    "\n",
    "# print(\"Shifting train images...\")\n",
    "# with Pool(16) as pool:\n",
    "#     output_paths = pool.map(shift_train, glob(\"../RT-DETR/dataset/train/images/*.png\"))\n",
    "\n",
    "# print(\"Shifting val images...\")\n",
    "# with Pool(16) as pool:\n",
    "#     output_paths = pool.map(shift_val, glob(\"../RT-DETR/dataset/val/images/*.png\"))\n",
    "\n",
    "# print(\"Shifting test images...\")\n",
    "# with Pool(16) as pool:\n",
    "#     output_paths = pool.map(shift_test, glob(\"../RT-DETR/dataset/test/images/*.png\"))\n",
    "\n",
    "print(\"Shifting suspect images...\")\n",
    "with Pool(16) as pool:\n",
    "    output_paths = pool.map(shift_suspects, glob(\"../RT-DETR/dataset/reid/suspects/*.png\"))"
   ]
  }
 ],
 "metadata": {
  "kernelspec": {
   "display_name": "til-2023",
   "language": "python",
   "name": "python3"
  },
  "language_info": {
   "codemirror_mode": {
    "name": "ipython",
    "version": 3
   },
   "file_extension": ".py",
   "mimetype": "text/x-python",
   "name": "python",
   "nbconvert_exporter": "python",
   "pygments_lexer": "ipython3",
   "version": "3.9.16"
  },
  "orig_nbformat": 4
 },
 "nbformat": 4,
 "nbformat_minor": 2
}
