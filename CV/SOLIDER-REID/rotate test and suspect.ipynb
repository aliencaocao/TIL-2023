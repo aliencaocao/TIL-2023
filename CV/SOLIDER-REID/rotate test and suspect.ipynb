{
 "cells": [
  {
   "cell_type": "code",
   "execution_count": 1,
   "metadata": {
    "collapsed": true,
    "ExecuteTime": {
     "end_time": "2023-05-29T14:48:51.174671Z",
     "start_time": "2023-05-29T14:48:51.061671500Z"
    }
   },
   "outputs": [],
   "source": [
    "import os\n",
    "import numpy as np\n",
    "from PIL import Image\n",
    "import tqdm"
   ]
  },
  {
   "cell_type": "code",
   "execution_count": 6,
   "outputs": [],
   "source": [
    "query_dir = '../RT-DETR/dataset/reid/suspects'\n",
    "target_dir = '../RT-DETR/dataset/reid/test_old/query'"
   ],
   "metadata": {
    "collapsed": false,
    "ExecuteTime": {
     "end_time": "2023-05-29T14:34:37.256358600Z",
     "start_time": "2023-05-29T14:34:37.252358Z"
    }
   }
  },
  {
   "cell_type": "code",
   "execution_count": 7,
   "outputs": [
    {
     "name": "stderr",
     "output_type": "stream",
     "text": [
      "100%|██████████| 1600/1600 [00:27<00:00, 57.38it/s]\n"
     ]
    }
   ],
   "source": [
    "os.makedirs(target_dir, exist_ok=True)\n",
    "for image in tqdm.tqdm(os.listdir(query_dir)):\n",
    "    img = np.array(Image.open(os.path.join(query_dir, image)))\n",
    "    Image.fromarray(img).save(os.path.join(target_dir, image.split('.png')[0] + '_0.png'))\n",
    "    for i in range(1, 4):\n",
    "        img = np.rot90(img)\n",
    "        Image.fromarray(img).save(os.path.join(target_dir, image.split('.png')[0] + f'_{i}.png'))"
   ],
   "metadata": {
    "collapsed": false,
    "ExecuteTime": {
     "end_time": "2023-05-29T14:35:05.498687800Z",
     "start_time": "2023-05-29T14:34:37.593832400Z"
    }
   }
  },
  {
   "cell_type": "code",
   "execution_count": 2,
   "outputs": [
    {
     "name": "stderr",
     "output_type": "stream",
     "text": [
      "100%|██████████| 3448/3448 [00:38<00:00, 88.61it/s] \n"
     ]
    }
   ],
   "source": [
    "# duplicate each crop bbox 4 times for the 4 query that corresponds to it\n",
    "gallery_dir = '../RT-DETR/dataset/reid/test_old/bounding_box_test'\n",
    "for image in tqdm.tqdm(os.listdir(gallery_dir)):\n",
    "    img = Image.open(os.path.join(gallery_dir, image))\n",
    "    for i in range(1, 4):\n",
    "        img.save(os.path.join(gallery_dir, image.split('.png')[0] + f'_{i}.png'))\n",
    "    img.close()\n",
    "    os.rename(os.path.join(gallery_dir, image), os.path.join(gallery_dir, image.split('.png')[0] + '_0.png'))"
   ],
   "metadata": {
    "collapsed": false,
    "ExecuteTime": {
     "end_time": "2023-05-29T14:50:18.160945Z",
     "start_time": "2023-05-29T14:49:39.227314900Z"
    }
   }
  }
 ],
 "metadata": {
  "kernelspec": {
   "display_name": "Python 3",
   "language": "python",
   "name": "python3"
  },
  "language_info": {
   "codemirror_mode": {
    "name": "ipython",
    "version": 2
   },
   "file_extension": ".py",
   "mimetype": "text/x-python",
   "name": "python",
   "nbconvert_exporter": "python",
   "pygments_lexer": "ipython2",
   "version": "2.7.6"
  }
 },
 "nbformat": 4,
 "nbformat_minor": 0
}
