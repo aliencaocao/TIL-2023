{
 "cells": [
  {
   "cell_type": "code",
   "execution_count": 1,
   "metadata": {
    "collapsed": true,
    "ExecuteTime": {
     "end_time": "2023-06-20T08:57:48.735718900Z",
     "start_time": "2023-06-20T08:57:48.213720300Z"
    }
   },
   "outputs": [],
   "source": [
    "import pandas as pd\n",
    "import os\n",
    "import re\n",
    "import shutil\n",
    "import tqdm"
   ]
  },
  {
   "cell_type": "code",
   "execution_count": 2,
   "outputs": [],
   "source": [
    "pattern = re.compile(r'([-\\d]+)_c(\\d+)')\n",
    "train_path = '../RT-DETR/dataset/reid/bounding_box_train'\n",
    "train_fns = os.listdir(train_path)\n",
    "train_fns.sort()\n",
    "seen_plushies = set()\n",
    "query = []\n",
    "gallery = []\n",
    "for fn in train_fns:\n",
    "    plushie_id = pattern.search(fn).groups()[0]\n",
    "    if plushie_id not in seen_plushies:\n",
    "        query.append(fn)\n",
    "        seen_plushies.add(plushie_id)\n",
    "    else:\n",
    "        gallery.append(fn)\n",
    "seen_plushies = [pattern.search(fn).groups()[0] for fn in query]  # re order to same as query\n",
    "gallery_plushie_ids = [pattern.search(fn).groups()[0] for fn in gallery]  # re order to same as query"
   ],
   "metadata": {
    "collapsed": false,
    "ExecuteTime": {
     "end_time": "2023-06-20T08:57:48.771720300Z",
     "start_time": "2023-06-20T08:57:48.735718900Z"
    }
   }
  },
  {
   "cell_type": "code",
   "execution_count": 45,
   "outputs": [
    {
     "name": "stderr",
     "output_type": "stream",
     "text": [
      "100%|██████████| 12121/12121 [00:15<00:00, 804.10it/s]\n",
      "100%|██████████| 200/200 [00:00<00:00, 858.38it/s]\n"
     ]
    }
   ],
   "source": [
    "target_dir = '../RT-DETR/dataset/reid_train_testing'\n",
    "os.makedirs(target_dir, exist_ok=True)\n",
    "query_dir = os.path.join(target_dir, 'query')\n",
    "gallery_dir = os.path.join(target_dir, 'bounding_box_test')\n",
    "os.makedirs(query_dir, exist_ok=True)\n",
    "os.makedirs(gallery_dir, exist_ok=True)\n",
    "for f in tqdm.tqdm(gallery):\n",
    "    shutil.copy(os.path.join(train_path, f), os.path.join(gallery_dir, f))\n",
    "for f in tqdm.tqdm(query):\n",
    "    shutil.copy(os.path.join(train_path, f), os.path.join(query_dir, f))"
   ],
   "metadata": {
    "collapsed": false,
    "ExecuteTime": {
     "end_time": "2023-06-20T06:29:56.488636500Z",
     "start_time": "2023-06-20T06:29:41.155638700Z"
    }
   }
  },
  {
   "cell_type": "code",
   "execution_count": 3,
   "outputs": [],
   "source": [
    "import pickle\n",
    "with open('test_on_train_dist_mat.pkl', 'rb') as f:\n",
    "    dist_mat = pickle.load(f)"
   ],
   "metadata": {
    "collapsed": false,
    "ExecuteTime": {
     "end_time": "2023-06-20T08:57:48.781719200Z",
     "start_time": "2023-06-20T08:57:48.766721100Z"
    }
   }
  },
  {
   "cell_type": "code",
   "execution_count": 9,
   "outputs": [
    {
     "name": "stdout",
     "output_type": "stream",
     "text": [
      "Overall acc: 0.998267469680717\n"
     ]
    }
   ],
   "source": [
    "import numpy as np\n",
    "train_fns_np = np.array(train_fns)\n",
    "gallery_plushie_ids_np = np.array(gallery_plushie_ids)\n",
    "threshold = 0.75\n",
    "dist_mat_bool = dist_mat <= threshold\n",
    "class_acc = {}\n",
    "overall_acc = 0\n",
    "for i, plushie in enumerate(seen_plushies):\n",
    "    preds = dist_mat_bool[i]\n",
    "    truth = gallery_plushie_ids_np == seen_plushies[i]\n",
    "    correct = preds & truth\n",
    "    acc = correct.sum() / truth.sum()\n",
    "    class_acc[plushie] = acc\n",
    "    overall_acc += acc * truth.sum() / len(gallery_plushie_ids_np)\n",
    "print(f'Overall acc: {overall_acc}')"
   ],
   "metadata": {
    "collapsed": false,
    "ExecuteTime": {
     "end_time": "2023-06-20T09:00:56.769507Z",
     "start_time": "2023-06-20T09:00:56.615507600Z"
    }
   }
  },
  {
   "cell_type": "code",
   "execution_count": 10,
   "outputs": [
    {
     "name": "stdout",
     "output_type": "stream",
     "text": [
      "111 0.9830508474576272\n",
      "125 0.9827586206896551\n",
      "165 0.9622641509433962\n",
      "35 0.9846153846153847\n",
      "79 0.984375\n",
      "7 0.75\n"
     ]
    }
   ],
   "source": [
    "for c, acc in class_acc.items():\n",
    "    if acc != 1:\n",
    "        print(c, acc)"
   ],
   "metadata": {
    "collapsed": false,
    "ExecuteTime": {
     "end_time": "2023-06-20T09:04:29.067082400Z",
     "start_time": "2023-06-20T09:04:29.056082500Z"
    }
   }
  }
 ],
 "metadata": {
  "kernelspec": {
   "display_name": "Python 3",
   "language": "python",
   "name": "python3"
  },
  "language_info": {
   "codemirror_mode": {
    "name": "ipython",
    "version": 2
   },
   "file_extension": ".py",
   "mimetype": "text/x-python",
   "name": "python",
   "nbconvert_exporter": "python",
   "pygments_lexer": "ipython2",
   "version": "2.7.6"
  }
 },
 "nbformat": 4,
 "nbformat_minor": 0
}
