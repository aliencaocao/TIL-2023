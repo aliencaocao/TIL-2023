{
 "cells": [
  {
   "cell_type": "code",
   "execution_count": 1,
   "metadata": {
    "collapsed": true,
    "ExecuteTime": {
     "end_time": "2023-06-09T08:37:43.889521400Z",
     "start_time": "2023-06-09T08:37:42.393522600Z"
    }
   },
   "outputs": [],
   "source": [
    "import cv2\n",
    "import torch\n",
    "import numpy as np\n",
    "from model.make_model import make_model\n",
    "from config import cfg\n",
    "from utils.metrics import Postprocessor"
   ]
  },
  {
   "cell_type": "code",
   "execution_count": 2,
   "outputs": [
    {
     "name": "stdout",
     "output_type": "stream",
     "text": [
      "using Transformer_type: swin_base_patch4_window7_224 as a backbone\n"
     ]
    },
    {
     "name": "stderr",
     "output_type": "stream",
     "text": [
      "C:\\Users\\alien\\Documents\\PyCharm-Projects\\TIL-2023\\CV\\SOLIDER-REID\\model\\backbones\\swin_transformer.py:1153: UserWarning: DeprecationWarning: pretrained is deprecated, please use \"init_cfg\" instead\n",
      "  warnings.warn('DeprecationWarning: pretrained is deprecated, '\n"
     ]
    },
    {
     "name": "stdout",
     "output_type": "stream",
     "text": [
      "===========building transformer===========\n",
      "Loading pretrained model from log_SGD_500epoch_continue_1e-4LR_expanded/transformer_21_map0.941492492396344_acc0.8535950183868408.pth\n"
     ]
    },
    {
     "data": {
      "text/plain": "build_transformer(\n  (base): SwinTransformer(\n    (patch_embed): PatchEmbed(\n      (adap_padding): AdaptivePadding()\n      (projection): Conv2d(3, 128, kernel_size=(4, 4), stride=(4, 4))\n      (norm): LayerNorm((128,), eps=1e-05, elementwise_affine=True)\n    )\n    (drop_after_pos): Dropout(p=0.0, inplace=False)\n    (stages): ModuleList(\n      (0): SwinBlockSequence(\n        (blocks): ModuleList(\n          (0-1): 2 x SwinBlock(\n            (norm1): LayerNorm((128,), eps=1e-05, elementwise_affine=True)\n            (attn): ShiftWindowMSA(\n              (w_msa): WindowMSA(\n                (qkv): Linear(in_features=128, out_features=384, bias=True)\n                (attn_drop): Dropout(p=0.0, inplace=False)\n                (proj): Linear(in_features=128, out_features=128, bias=True)\n                (proj_drop): Dropout(p=0.0, inplace=False)\n                (softmax): Softmax(dim=-1)\n              )\n              (drop): DropPath()\n            )\n            (norm2): LayerNorm((128,), eps=1e-05, elementwise_affine=True)\n            (ffn): FFN(\n              (activate): GELU()\n              (layers): Sequential(\n                (0): Sequential(\n                  (0): Linear(in_features=128, out_features=512, bias=True)\n                  (1): GELU()\n                  (2): Dropout(p=0.0, inplace=False)\n                )\n                (1): Linear(in_features=512, out_features=128, bias=True)\n                (2): Dropout(p=0.0, inplace=False)\n              )\n              (dropout_layer): DropPath()\n            )\n          )\n        )\n        (downsample): PatchMerging(\n          (adap_padding): AdaptivePadding()\n          (sampler): Unfold(kernel_size=(2, 2), dilation=(1, 1), padding=(0, 0), stride=(2, 2))\n          (norm): LayerNorm((512,), eps=1e-05, elementwise_affine=True)\n          (reduction): Linear(in_features=512, out_features=256, bias=False)\n        )\n      )\n      (1): SwinBlockSequence(\n        (blocks): ModuleList(\n          (0-1): 2 x SwinBlock(\n            (norm1): LayerNorm((256,), eps=1e-05, elementwise_affine=True)\n            (attn): ShiftWindowMSA(\n              (w_msa): WindowMSA(\n                (qkv): Linear(in_features=256, out_features=768, bias=True)\n                (attn_drop): Dropout(p=0.0, inplace=False)\n                (proj): Linear(in_features=256, out_features=256, bias=True)\n                (proj_drop): Dropout(p=0.0, inplace=False)\n                (softmax): Softmax(dim=-1)\n              )\n              (drop): DropPath()\n            )\n            (norm2): LayerNorm((256,), eps=1e-05, elementwise_affine=True)\n            (ffn): FFN(\n              (activate): GELU()\n              (layers): Sequential(\n                (0): Sequential(\n                  (0): Linear(in_features=256, out_features=1024, bias=True)\n                  (1): GELU()\n                  (2): Dropout(p=0.0, inplace=False)\n                )\n                (1): Linear(in_features=1024, out_features=256, bias=True)\n                (2): Dropout(p=0.0, inplace=False)\n              )\n              (dropout_layer): DropPath()\n            )\n          )\n        )\n        (downsample): PatchMerging(\n          (adap_padding): AdaptivePadding()\n          (sampler): Unfold(kernel_size=(2, 2), dilation=(1, 1), padding=(0, 0), stride=(2, 2))\n          (norm): LayerNorm((1024,), eps=1e-05, elementwise_affine=True)\n          (reduction): Linear(in_features=1024, out_features=512, bias=False)\n        )\n      )\n      (2): SwinBlockSequence(\n        (blocks): ModuleList(\n          (0-17): 18 x SwinBlock(\n            (norm1): LayerNorm((512,), eps=1e-05, elementwise_affine=True)\n            (attn): ShiftWindowMSA(\n              (w_msa): WindowMSA(\n                (qkv): Linear(in_features=512, out_features=1536, bias=True)\n                (attn_drop): Dropout(p=0.0, inplace=False)\n                (proj): Linear(in_features=512, out_features=512, bias=True)\n                (proj_drop): Dropout(p=0.0, inplace=False)\n                (softmax): Softmax(dim=-1)\n              )\n              (drop): DropPath()\n            )\n            (norm2): LayerNorm((512,), eps=1e-05, elementwise_affine=True)\n            (ffn): FFN(\n              (activate): GELU()\n              (layers): Sequential(\n                (0): Sequential(\n                  (0): Linear(in_features=512, out_features=2048, bias=True)\n                  (1): GELU()\n                  (2): Dropout(p=0.0, inplace=False)\n                )\n                (1): Linear(in_features=2048, out_features=512, bias=True)\n                (2): Dropout(p=0.0, inplace=False)\n              )\n              (dropout_layer): DropPath()\n            )\n          )\n        )\n        (downsample): PatchMerging(\n          (adap_padding): AdaptivePadding()\n          (sampler): Unfold(kernel_size=(2, 2), dilation=(1, 1), padding=(0, 0), stride=(2, 2))\n          (norm): LayerNorm((2048,), eps=1e-05, elementwise_affine=True)\n          (reduction): Linear(in_features=2048, out_features=1024, bias=False)\n        )\n      )\n      (3): SwinBlockSequence(\n        (blocks): ModuleList(\n          (0-1): 2 x SwinBlock(\n            (norm1): LayerNorm((1024,), eps=1e-05, elementwise_affine=True)\n            (attn): ShiftWindowMSA(\n              (w_msa): WindowMSA(\n                (qkv): Linear(in_features=1024, out_features=3072, bias=True)\n                (attn_drop): Dropout(p=0.0, inplace=False)\n                (proj): Linear(in_features=1024, out_features=1024, bias=True)\n                (proj_drop): Dropout(p=0.0, inplace=False)\n                (softmax): Softmax(dim=-1)\n              )\n              (drop): DropPath()\n            )\n            (norm2): LayerNorm((1024,), eps=1e-05, elementwise_affine=True)\n            (ffn): FFN(\n              (activate): GELU()\n              (layers): Sequential(\n                (0): Sequential(\n                  (0): Linear(in_features=1024, out_features=4096, bias=True)\n                  (1): GELU()\n                  (2): Dropout(p=0.0, inplace=False)\n                )\n                (1): Linear(in_features=4096, out_features=1024, bias=True)\n                (2): Dropout(p=0.0, inplace=False)\n              )\n              (dropout_layer): DropPath()\n            )\n          )\n        )\n      )\n    )\n    (norm0): LayerNorm((128,), eps=1e-05, elementwise_affine=True)\n    (norm1): LayerNorm((256,), eps=1e-05, elementwise_affine=True)\n    (norm2): LayerNorm((512,), eps=1e-05, elementwise_affine=True)\n    (norm3): LayerNorm((1024,), eps=1e-05, elementwise_affine=True)\n    (avgpool): AdaptiveAvgPool2d(output_size=(1, 1))\n    (semantic_embed_w): ModuleList(\n      (0): Linear(in_features=2, out_features=256, bias=True)\n      (1): Linear(in_features=2, out_features=512, bias=True)\n      (2-3): 2 x Linear(in_features=2, out_features=1024, bias=True)\n    )\n    (semantic_embed_b): ModuleList(\n      (0): Linear(in_features=2, out_features=256, bias=True)\n      (1): Linear(in_features=2, out_features=512, bias=True)\n      (2-3): 2 x Linear(in_features=2, out_features=1024, bias=True)\n    )\n    (softplus): Softplus(beta=1, threshold=20)\n  )\n  (classifier): Identity()\n  (bottleneck): BatchNorm1d(1024, eps=1e-05, momentum=0.1, affine=True, track_running_stats=True)\n  (dropout): Dropout(p=0.0, inplace=False)\n)"
     },
     "execution_count": 2,
     "metadata": {},
     "output_type": "execute_result"
    }
   ],
   "source": [
    "cfg.merge_from_file('TIL.yml')\n",
    "REID = make_model(cfg, num_class=2, camera_num=1, view_num=1, semantic_weight=cfg.MODEL.SEMANTIC_WEIGHT)\n",
    "REID.classifier = torch.nn.Identity()  # remove the classifier layer\n",
    "REID.load_param('log_SGD_500epoch_continue_1e-4LR_expanded/transformer_21_map0.941492492396344_acc0.8535950183868408.pth')\n",
    "REID.to('cuda')\n",
    "REID.eval()"
   ],
   "metadata": {
    "collapsed": false,
    "ExecuteTime": {
     "end_time": "2023-06-09T08:37:46.279052600Z",
     "start_time": "2023-06-09T08:37:44.667051600Z"
    }
   }
  },
  {
   "cell_type": "code",
   "execution_count": 3,
   "outputs": [],
   "source": [
    "def load_img(img: np.ndarray):  # for REID only\n",
    "    img = cv2.cvtColor(img, cv2.COLOR_BGR2RGB)\n",
    "    img = cv2.resize(img, (224, 224))\n",
    "    img = np.transpose(img, (2, 0, 1))\n",
    "    # normalize with mean and std supplied in cfg\n",
    "    img = img / 255.0\n",
    "    for channel in range(3):\n",
    "        img[channel] -= cfg.INPUT.PIXEL_MEAN[channel]\n",
    "        img[channel] /= cfg.INPUT.PIXEL_STD[channel]\n",
    "    return img.astype(np.float32)"
   ],
   "metadata": {
    "collapsed": false,
    "ExecuteTime": {
     "end_time": "2023-06-09T08:37:48.673778400Z",
     "start_time": "2023-06-09T08:37:48.665779400Z"
    }
   }
  },
  {
   "cell_type": "code",
   "execution_count": 5,
   "outputs": [
    {
     "name": "stderr",
     "output_type": "stream",
     "text": [
      "C:\\Users\\alien\\Documents\\PyCharm-Projects\\TIL-2023\\CV\\SOLIDER-REID\\utils\\reranking.py:40: UserWarning: This overload of addmm_ is deprecated:\n",
      "\taddmm_(Number beta, Number alpha, Tensor mat1, Tensor mat2)\n",
      "Consider using one of the following signatures instead:\n",
      "\taddmm_(Tensor mat1, Tensor mat2, *, Number beta, Number alpha) (Triggered internally at C:\\actions-runner\\_work\\pytorch\\pytorch\\builder\\windows\\pytorch\\torch\\csrc\\utils\\python_arg_parser.cpp:1485.)\n",
      "  distmat.addmm_(1, -2, feat, feat.t())\n"
     ]
    },
    {
     "name": "stdout",
     "output_type": "stream",
     "text": [
      "[0.06452002 0.76630855 0.76630855 ... 0.7663086  0.7663086  0.7663086 ]\n"
     ]
    }
   ],
   "source": [
    "postprocessor = Postprocessor(num_query=2, max_rank=50, feat_norm=cfg.TEST.FEAT_NORM, reranking=True)\n",
    "suspect = load_img(cv2.imread('../../Robot/data/imgs/suspect1.png'))\n",
    "hostage = load_img(cv2.imread('../../Robot/data/imgs/targetmario.png'))\n",
    "gallery = load_img(cv2.imread('../RT-DETR/dataset/reid/test_old/bounding_box_test/-1_c0s1_1_1.png'))\n",
    "inputs = [suspect, hostage, gallery]\n",
    "inputs = np.stack(inputs, axis=0)\n",
    "features = REID(torch.from_numpy(inputs).to('cuda'))[0]\n",
    "features = torch.cat((features, torch.ones(3417-1, features.shape[-1]).to('cuda')), dim=0)  # add fake gallery to make it same size as in train set\n",
    "postprocessor.update(features.detach())  # postprocessor expects Torch tensor as it uses torch to compute stuff\n",
    "dist_mat = postprocessor.compute()  # (2, 1) array, 2 queries, 1 gallery image\n",
    "# dist_mat = np.squeeze(dist_mat)  # (2,)\n",
    "# flatten the dist_mat\n",
    "dist_mat = dist_mat.reshape(-1)\n",
    "print(dist_mat)"
   ],
   "metadata": {
    "collapsed": false,
    "ExecuteTime": {
     "end_time": "2023-06-09T08:38:02.138648800Z",
     "start_time": "2023-06-09T08:38:00.766654100Z"
    }
   }
  },
  {
   "cell_type": "code",
   "execution_count": 6,
   "outputs": [
    {
     "name": "stderr",
     "output_type": "stream",
     "text": [
      "  1%|          | 30/3417 [00:27<51:15,  1.10it/s] \n"
     ]
    },
    {
     "ename": "KeyboardInterrupt",
     "evalue": "",
     "output_type": "error",
     "traceback": [
      "\u001B[1;31m---------------------------------------------------------------------------\u001B[0m",
      "\u001B[1;31mKeyboardInterrupt\u001B[0m                         Traceback (most recent call last)",
      "Cell \u001B[1;32mIn [6], line 11\u001B[0m\n\u001B[0;32m      9\u001B[0m features \u001B[38;5;241m=\u001B[39m REID(torch\u001B[38;5;241m.\u001B[39mfrom_numpy(inputs)\u001B[38;5;241m.\u001B[39mto(\u001B[38;5;124m'\u001B[39m\u001B[38;5;124mcuda\u001B[39m\u001B[38;5;124m'\u001B[39m))[\u001B[38;5;241m0\u001B[39m]\n\u001B[0;32m     10\u001B[0m features \u001B[38;5;241m=\u001B[39m torch\u001B[38;5;241m.\u001B[39mcat((features, torch\u001B[38;5;241m.\u001B[39mones(\u001B[38;5;241m3417\u001B[39m\u001B[38;5;241m-\u001B[39m\u001B[38;5;241m1\u001B[39m, features\u001B[38;5;241m.\u001B[39mshape[\u001B[38;5;241m-\u001B[39m\u001B[38;5;241m1\u001B[39m])\u001B[38;5;241m.\u001B[39mto(\u001B[38;5;124m'\u001B[39m\u001B[38;5;124mcuda\u001B[39m\u001B[38;5;124m'\u001B[39m)), dim\u001B[38;5;241m=\u001B[39m\u001B[38;5;241m0\u001B[39m)  \u001B[38;5;66;03m# add fake gallery to make it same size as in train set\u001B[39;00m\n\u001B[1;32m---> 11\u001B[0m postprocessor\u001B[38;5;241m.\u001B[39mupdate(features\u001B[38;5;241m.\u001B[39mdetach())  \u001B[38;5;66;03m# postprocessor expects Torch tensor as it uses torch to compute stuff\u001B[39;00m\n\u001B[0;32m     12\u001B[0m dist_mat \u001B[38;5;241m=\u001B[39m postprocessor\u001B[38;5;241m.\u001B[39mcompute()  \u001B[38;5;66;03m# (2, 1) array, 2 queries, 1 gallery image\u001B[39;00m\n\u001B[0;32m     13\u001B[0m postprocessor\u001B[38;5;241m.\u001B[39mreset()\n",
      "File \u001B[1;32m~\\Documents\\PyCharm-Projects\\TIL-2023\\CV\\SOLIDER-REID\\utils\\metrics.py:153\u001B[0m, in \u001B[0;36mPostprocessor.update\u001B[1;34m(self, output)\u001B[0m\n\u001B[0;32m    151\u001B[0m \u001B[38;5;28;01mdef\u001B[39;00m \u001B[38;5;21mupdate\u001B[39m(\u001B[38;5;28mself\u001B[39m, output):  \u001B[38;5;66;03m# called once for each batch\u001B[39;00m\n\u001B[0;32m    152\u001B[0m     feat\u001B[38;5;241m=\u001B[39m output\n\u001B[1;32m--> 153\u001B[0m     \u001B[38;5;28mself\u001B[39m\u001B[38;5;241m.\u001B[39mfeats\u001B[38;5;241m.\u001B[39mappend(\u001B[43mfeat\u001B[49m\u001B[38;5;241;43m.\u001B[39;49m\u001B[43mcpu\u001B[49m\u001B[43m(\u001B[49m\u001B[43m)\u001B[49m)\n",
      "\u001B[1;31mKeyboardInterrupt\u001B[0m: "
     ]
    }
   ],
   "source": [
    "import os\n",
    "import tqdm\n",
    "postprocessor = Postprocessor(num_query=2, max_rank=50, feat_norm=cfg.TEST.FEAT_NORM, reranking=True)\n",
    "dist = []\n",
    "for file in tqdm.tqdm(os.listdir('../RT-DETR/dataset/reid/test_old/bounding_box_test/')):\n",
    "    gallery = load_img(cv2.imread(os.path.join('../RT-DETR/dataset/reid/test_old/bounding_box_test/', file)))\n",
    "    inputs = [suspect, hostage, gallery]\n",
    "    inputs = np.stack(inputs, axis=0)\n",
    "    features = REID(torch.from_numpy(inputs).to('cuda'))[0]\n",
    "    features = torch.cat((features, torch.ones(3417-1, features.shape[-1]).to('cuda')), dim=0)  # add fake gallery to make it same size as in train set\n",
    "    postprocessor.update(features.detach())  # postprocessor expects Torch tensor as it uses torch to compute stuff\n",
    "    dist_mat = postprocessor.compute()  # (2, 1) array, 2 queries, 1 gallery image\n",
    "    postprocessor.reset()\n",
    "    # dist_mat = np.squeeze(dist_mat)  # (2,)\n",
    "    # flatten the dist_mat\n",
    "    dist_mat = dist_mat.reshape(-1)\n",
    "    dist.extend(dist_mat.tolist())"
   ],
   "metadata": {
    "collapsed": false,
    "ExecuteTime": {
     "end_time": "2023-06-09T08:38:31.823164800Z",
     "start_time": "2023-06-09T08:38:04.527289700Z"
    }
   }
  },
  {
   "cell_type": "code",
   "execution_count": 7,
   "outputs": [],
   "source": [
    "import pickle\n",
    "with open('eu_dist.pkl', 'wb') as f:\n",
    "    pickle.dump(dist, f)"
   ],
   "metadata": {
    "collapsed": false,
    "ExecuteTime": {
     "end_time": "2023-06-09T08:18:51.034748900Z",
     "start_time": "2023-06-09T08:18:51.018748900Z"
    }
   }
  },
  {
   "cell_type": "code",
   "execution_count": 9,
   "outputs": [],
   "source": [
    "dist_flattened = []\n",
    "for i in dist:\n",
    "    if isinstance(i, float):\n",
    "        dist_flattened.append(i)\n",
    "    else:\n",
    "        dist_flattened.extend(i)"
   ],
   "metadata": {
    "collapsed": false,
    "ExecuteTime": {
     "end_time": "2023-06-09T08:19:09.301285700Z",
     "start_time": "2023-06-09T08:19:09.288287400Z"
    }
   }
  },
  {
   "cell_type": "code",
   "execution_count": 10,
   "outputs": [],
   "source": [
    "dist_flattened = np.array(dist_flattened)"
   ],
   "metadata": {
    "collapsed": false,
    "ExecuteTime": {
     "end_time": "2023-06-09T08:19:11.170060500Z",
     "start_time": "2023-06-09T08:19:11.155914Z"
    }
   }
  },
  {
   "cell_type": "code",
   "execution_count": 38,
   "outputs": [],
   "source": [
    "threshold = 0.29\n",
    "dist_flattened_filtered = dist_flattened[dist_flattened < threshold]"
   ],
   "metadata": {
    "collapsed": false,
    "ExecuteTime": {
     "end_time": "2023-06-09T08:07:12.987578900Z",
     "start_time": "2023-06-09T08:07:12.976577800Z"
    }
   }
  },
  {
   "cell_type": "code",
   "execution_count": 16,
   "outputs": [],
   "source": [
    "import pickle\n",
    "with open('rr_dist.pkl', 'rb') as f:\n",
    "    dist = pickle.load(f)"
   ],
   "metadata": {
    "collapsed": false,
    "ExecuteTime": {
     "end_time": "2023-06-09T08:20:40.950961600Z",
     "start_time": "2023-06-09T08:20:40.938183800Z"
    }
   }
  },
  {
   "cell_type": "code",
   "execution_count": 10,
   "outputs": [
    {
     "data": {
      "text/plain": "(array([2.00000e+00, 2.50000e+01, 2.50000e+01, 0.00000e+00, 0.00000e+00,\n        0.00000e+00, 0.00000e+00, 0.00000e+00, 7.00000e+00, 2.04961e+05]),\n array([0.06452002, 0.13469888, 0.20487774, 0.2750566 , 0.34523546,\n        0.41541431, 0.48559317, 0.55577203, 0.62595089, 0.69612975,\n        0.76630861]),\n <BarContainer object of 10 artists>)"
     },
     "execution_count": 10,
     "metadata": {},
     "output_type": "execute_result"
    },
    {
     "data": {
      "text/plain": "<Figure size 640x480 with 1 Axes>",
      "image/png": "[encoded data removed]"
     },
     "metadata": {},
     "output_type": "display_data"
    }
   ],
   "source": [
    "import matplotlib.pyplot as plt\n",
    "plt.hist(dist, bins=100)"
   ],
   "metadata": {
    "collapsed": false,
    "ExecuteTime": {
     "end_time": "2023-06-09T08:39:12.561766700Z",
     "start_time": "2023-06-09T08:39:12.137767100Z"
    }
   }
  }
 ],
 "metadata": {
  "kernelspec": {
   "display_name": "Python 3",
   "language": "python",
   "name": "python3"
  },
  "language_info": {
   "codemirror_mode": {
    "name": "ipython",
    "version": 2
   },
   "file_extension": ".py",
   "mimetype": "text/x-python",
   "name": "python",
   "nbconvert_exporter": "python",
   "pygments_lexer": "ipython2",
   "version": "2.7.6"
  }
 },
 "nbformat": 4,
 "nbformat_minor": 0
}
