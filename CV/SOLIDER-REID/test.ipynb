{
 "cells": [
  {
   "cell_type": "code",
   "execution_count": 1,
   "metadata": {
    "ExecuteTime": {
     "end_time": "2023-05-28T05:36:58.840625300Z",
     "start_time": "2023-05-28T05:36:58.465694600Z"
    }
   },
   "outputs": [],
   "source": [
    "import pandas as pd\n",
    "import re\n",
    "import numpy as np\n",
    "import json"
   ]
  },
  {
   "cell_type": "code",
   "execution_count": 4,
   "metadata": {
    "ExecuteTime": {
     "end_time": "2023-05-28T05:38:43.543393100Z",
     "start_time": "2023-05-28T05:38:43.522394100Z"
    }
   },
   "outputs": [],
   "source": [
    "reid_df = pd.read_csv('./log_SGD_continue_1e-4/results.csv')\n",
    "with open('../RT-DETR/submissions/0.88x no aug best conf 0.8 no reid lb 0.306.json', 'r') as f:\n",
    "    mapping = json.load(f)\n",
    "batched_mapping = {}\n",
    "for k, v in mapping.items():\n",
    "    k = k.replace('\\\\', '/')\n",
    "    batched_mapping['/'.join(k.split('/')[:4] + ['test_old'] + k.split('/')[5:])] = v  # 6: for image folder structure mapping json, 5: for new one\n",
    "mapping = batched_mapping"
   ]
  },
  {
   "cell_type": "code",
   "execution_count": 5,
   "metadata": {
    "ExecuteTime": {
     "end_time": "2023-05-28T05:38:49.083014Z",
     "start_time": "2023-05-28T05:38:43.996316300Z"
    }
   },
   "outputs": [],
   "source": [
    "pattern = re.compile(r'([-\\d]+)_c(\\d+)')\n",
    "def combine(row):\n",
    "    fp = row['file_path'].replace('\\\\', '/')\n",
    "    row['Image_ID'] = 'image_' + pattern.search(fp).groups()[-1].zfill(4)\n",
    "    row['class'] = row['result']\n",
    "    row['confidence'] = mapping[fp]['confidence']\n",
    "    row['ymin'] = mapping[fp]['ymin']\n",
    "    row['xmin'] = mapping[fp]['xmin']\n",
    "    row['ymax'] = mapping[fp]['ymax']\n",
    "    row['xmax'] = mapping[fp]['xmax']\n",
    "    return row\n",
    "\n",
    "cols = ['Image_ID', 'class', 'confidence', 'ymin', 'xmin', 'ymax', 'xmax']\n",
    "\n",
    "reid_df_new = reid_df.apply(combine, axis=1)[cols]\n",
    "reid_df_new.to_csv('submissions/0.88x conf 0.8 no reid lb 0.306_reid_0.7868934651156535_thresh_swinB_RR.csv',index=False)"
   ]
  },
  {
   "cell_type": "code",
   "execution_count": null,
   "metadata": {},
   "outputs": [],
   "source": [
    "mapping"
   ]
  }
 ],
 "metadata": {
  "kernelspec": {
   "display_name": "til2023",
   "language": "python",
   "name": "python3"
  },
  "language_info": {
   "codemirror_mode": {
    "name": "ipython",
    "version": 3
   },
   "file_extension": ".py",
   "mimetype": "text/x-python",
   "name": "python",
   "nbconvert_exporter": "python",
   "pygments_lexer": "ipython3",
   "version": "3.10.7"
  },
  "orig_nbformat": 4
 },
 "nbformat": 4,
 "nbformat_minor": 2
}
