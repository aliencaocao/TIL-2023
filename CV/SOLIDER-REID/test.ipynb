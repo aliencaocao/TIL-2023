{
 "cells": [
  {
   "cell_type": "code",
   "execution_count": 33,
   "metadata": {
    "ExecuteTime": {
     "end_time": "2023-05-31T12:41:34.010718700Z",
     "start_time": "2023-05-31T12:41:33.985722300Z"
    }
   },
   "outputs": [],
   "source": [
    "import pandas as pd\n",
    "import re\n",
    "import numpy as np\n",
    "import json"
   ]
  },
  {
   "cell_type": "code",
   "execution_count": 19,
   "outputs": [
    {
     "data": {
      "text/plain": "1299"
     },
     "execution_count": 19,
     "metadata": {},
     "output_type": "execute_result"
    }
   ],
   "source": [
    "df = pd.read_csv('submissions/wbf_0.88x no aug best conf 0.5 no reid lb 0.306_0.882 manyaug best conf 0.7 no reid lb 0.30378 lb 0.307922 RR expanded REID with min 0.9 lb 6934.csv')\n",
    "len(df[df['class'] == 1])"
   ],
   "metadata": {
    "collapsed": false,
    "ExecuteTime": {
     "end_time": "2023-05-31T01:50:20.510543400Z",
     "start_time": "2023-05-31T01:50:20.499544600Z"
    }
   }
  },
  {
   "cell_type": "code",
   "execution_count": 39,
   "metadata": {
    "ExecuteTime": {
     "end_time": "2023-05-31T12:48:27.741137600Z",
     "start_time": "2023-05-31T12:48:27.712138600Z"
    }
   },
   "outputs": [],
   "source": [
    "reid_df = pd.read_csv('./log_SGD_500epoch_5e-3LR_expanded_manual+LGT+GGT/results.csv')\n",
    "with open('../RT-DETR/submissions/wbf_0.88x no aug best conf 0.5 no reid lb 0.306_0.882 manyaug best conf 0.7 no reid lb 0.30378 lb 0.307922_bbox_mapping.json', 'r') as f:\n",
    "    mapping = json.load(f)\n",
    "batched_mapping = {}\n",
    "for k, v in mapping.items():\n",
    "    k = k.replace('\\\\', '/')\n",
    "    batched_mapping['/'.join(k.split('/')[:4] + ['test_old'] + k.split('/')[5:])] = v  # 6: for image folder structure mapping json, 5: for new one\n",
    "mapping = batched_mapping"
   ]
  },
  {
   "cell_type": "code",
   "execution_count": 40,
   "outputs": [
    {
     "data": {
      "text/plain": "[<matplotlib.lines.Line2D at 0x222d8f1ca30>]"
     },
     "execution_count": 40,
     "metadata": {},
     "output_type": "execute_result"
    },
    {
     "data": {
      "text/plain": "<Figure size 640x480 with 1 Axes>",
      "image/png": "[encoded data removed]"
     },
     "metadata": {},
     "output_type": "display_data"
    }
   ],
   "source": [
    "from matplotlib import pyplot as plt\n",
    "plt.plot(sorted(reid_df['result'].tolist()))"
   ],
   "metadata": {
    "collapsed": false,
    "ExecuteTime": {
     "end_time": "2023-05-31T12:48:28.323084900Z",
     "start_time": "2023-05-31T12:48:28.212086400Z"
    }
   }
  },
  {
   "cell_type": "code",
   "execution_count": 56,
   "outputs": [],
   "source": [
    "# run this cell if results.csv is from a rotation expanded inference\n",
    "pattern = re.compile(r'([-\\d]+)_c(\\d+)')\n",
    "result_counter = {}\n",
    "threshold = 2  # between 1 to 4, how many rotated image confirms to be counted for true confirm\n",
    "def combine(row):\n",
    "    fp = row['file_path'].replace('\\\\', '/').split('.png')[0][:-2] + '.png'  # remove the last 2 char which is the rotation index _0, _1 etc\n",
    "    fp_without_slash_replacement = row['file_path'].split('.png')[0][:-2] + '.png'  # remove the last 2 char which is the rotation index _0, _1 etc\n",
    "    if fp not in result_counter:  # only do the below if first time seeing this fp, else just write the same row then later will remove duplicat rows\n",
    "        result_counter[fp] = 0\n",
    "        for i in range(4):\n",
    "            fp_rot = fp_without_slash_replacement.split('.png')[0] + f'_{i}.png'\n",
    "            if np.all(reid_df[reid_df['file_path'] == fp_rot]['result'] == 1):\n",
    "                result_counter[fp] += 1\n",
    "    row['class'] = 1 if result_counter[fp] >= threshold else 0  # threshold is 2\n",
    "    row['Image_ID'] = 'image_' + pattern.search(fp).groups()[-1].zfill(4)\n",
    "    row['confidence'] = mapping[fp]['confidence']\n",
    "    row['ymin'] = mapping[fp]['ymin']\n",
    "    row['xmin'] = mapping[fp]['xmin']\n",
    "    row['ymax'] = mapping[fp]['ymax']\n",
    "    row['xmax'] = mapping[fp]['xmax']\n",
    "    return row\n",
    "\n",
    "cols = ['Image_ID', 'class', 'confidence', 'ymin', 'xmin', 'ymax', 'xmax']\n",
    "\n",
    "reid_df_new = reid_df.apply(combine, axis=1)[cols]\n",
    "reid_df_new.drop_duplicates(inplace=True)\n",
    "reid_df_new.to_csv('submissions/wbf_0.88x no aug best conf 0.5 no reid lb 0.306_0.882 manyaug best conf 0.7 no reid lb 0.30378 lb 0.307922 RR thresh 0.8669 ROT.csv',index=False)"
   ],
   "metadata": {
    "collapsed": false,
    "ExecuteTime": {
     "end_time": "2023-05-29T15:49:16.480464900Z",
     "start_time": "2023-05-29T15:48:46.159462200Z"
    }
   }
  },
  {
   "cell_type": "code",
   "execution_count": 57,
   "outputs": [
    {
     "data": {
      "text/plain": "(array([2318.,    0.,    0., 1130.]),\n array([0., 1., 2., 3., 4.]),\n <BarContainer object of 4 artists>)"
     },
     "execution_count": 57,
     "metadata": {},
     "output_type": "execute_result"
    },
    {
     "data": {
      "text/plain": "<Figure size 640x480 with 1 Axes>",
      "image/png": "[encoded data removed]"
     },
     "metadata": {},
     "output_type": "display_data"
    }
   ],
   "source": [
    "# plot results counter\n",
    "import matplotlib.pyplot as plt\n",
    "plt.hist(result_counter.values(), range=[0, 4], bins=4)"
   ],
   "metadata": {
    "collapsed": false,
    "ExecuteTime": {
     "end_time": "2023-05-29T15:49:16.573452500Z",
     "start_time": "2023-05-29T15:49:16.480464900Z"
    }
   }
  },
  {
   "cell_type": "code",
   "execution_count": 51,
   "metadata": {
    "ExecuteTime": {
     "end_time": "2023-05-31T12:51:55.321974300Z",
     "start_time": "2023-05-31T12:51:55.183974700Z"
    }
   },
   "outputs": [],
   "source": [
    "# taking min dist with very loose threshold\n",
    "threshold = 0.9\n",
    "pattern = re.compile(r'([-\\d]+)_c(\\d+)')\n",
    "image_bboxes = {}\n",
    "def count(row):\n",
    "    fp = row['file_path'].replace('\\\\', '/')\n",
    "    image_id = 'image_' + pattern.search(fp).groups()[-1].zfill(4)\n",
    "    if image_id not in image_bboxes:\n",
    "        image_bboxes[image_id] = []\n",
    "    image_bboxes[image_id].append({'dist': row['result'],\n",
    "                                   'confidence': mapping[fp]['confidence'],\n",
    "                                   'ymin': mapping[fp]['ymin'],\n",
    "                                   'xmin': mapping[fp]['xmin'],\n",
    "                                   'ymax': mapping[fp]['ymax'],\n",
    "                                   'xmax': mapping[fp]['xmax']})\n",
    "for row in reid_df.iterrows():\n",
    "    count(row[1])\n",
    "combined = []\n",
    "for image_id in image_bboxes:\n",
    "    candidates = [box for box in image_bboxes[image_id] if box['dist'] <= threshold]\n",
    "    if not candidates:\n",
    "        candidates = [{'dist': 1e99}]  # if no candidates, just fake 1 but it will fail the check later so its still gonna be 0\n",
    "    candidates.sort(key=lambda x: x['dist'], reverse=False)\n",
    "    for box in image_bboxes[image_id]:\n",
    "        row = {\n",
    "            'Image_ID': image_id,\n",
    "            'class': 1 if box == candidates[0] else 0,\n",
    "            'confidence': box['confidence'],\n",
    "            'ymin': box['ymin'],\n",
    "            'xmin': box['xmin'],\n",
    "            'ymax': box['ymax'],\n",
    "            'xmax': box['xmax']}\n",
    "        combined.append(row)\n",
    "\n",
    "cols = ['Image_ID', 'class', 'confidence', 'ymin', 'xmin', 'ymax', 'xmax']\n",
    "\n",
    "reid_df_new = pd.DataFrame.from_dict(combined)[cols]\n",
    "len(reid_df_new[reid_df_new['class'] == 1])\n",
    "reid_df_new.to_csv(f'submissions/wbf_0.88x no aug best conf 0.5 no reid lb 0.306_0.882 manyaug best conf 0.7 no reid lb 0.30378 lb 0.307922 RR expanded LGT REID epoch 94 with min {threshold}.csv',index=False)\n"
   ]
  },
  {
   "cell_type": "code",
   "execution_count": null,
   "outputs": [],
   "source": [
    "pattern = re.compile(r'([-\\d]+)_c(\\d+)')\n",
    "def combine(row):\n",
    "    fp = row['file_path'].replace('\\\\', '/')\n",
    "    row['Image_ID'] = 'image_' + pattern.search(fp).groups()[-1].zfill(4)\n",
    "    row['class'] = row['result']\n",
    "    row['confidence'] = mapping[fp]['confidence']\n",
    "    row['ymin'] = mapping[fp]['ymin']\n",
    "    row['xmin'] = mapping[fp]['xmin']\n",
    "    row['ymax'] = mapping[fp]['ymax']\n",
    "    row['xmax'] = mapping[fp]['xmax']\n",
    "    return row\n",
    "\n",
    "cols = ['Image_ID', 'class', 'confidence', 'ymin', 'xmin', 'ymax', 'xmax']\n",
    "\n",
    "reid_df_new = reid_df.apply(combine, axis=1)[cols]\n",
    "reid_df_new.to_csv('submissions/wbf_0.88x no aug best conf 0.5 no reid lb 0.306_0.882 manyaug best conf 0.7 no reid lb 0.30378 lb 0.307922 no RR thresh 0.0013236288040655365.csv',index=False)"
   ],
   "metadata": {
    "collapsed": false
   }
  }
 ],
 "metadata": {
  "kernelspec": {
   "display_name": "til2023",
   "language": "python",
   "name": "python3"
  },
  "language_info": {
   "codemirror_mode": {
    "name": "ipython",
    "version": 3
   },
   "file_extension": ".py",
   "mimetype": "text/x-python",
   "name": "python",
   "nbconvert_exporter": "python",
   "pygments_lexer": "ipython3",
   "version": "3.10.7"
  },
  "orig_nbformat": 4
 },
 "nbformat": 4,
 "nbformat_minor": 2
}
