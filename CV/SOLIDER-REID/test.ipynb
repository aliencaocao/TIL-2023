{
 "cells": [
  {
   "cell_type": "code",
   "execution_count": 1,
   "metadata": {
    "ExecuteTime": {
     "end_time": "2023-05-29T03:02:16.117919900Z",
     "start_time": "2023-05-29T03:02:15.763917800Z"
    }
   },
   "outputs": [],
   "source": [
    "import pandas as pd\n",
    "import re\n",
    "import numpy as np\n",
    "import json"
   ]
  },
  {
   "cell_type": "code",
   "execution_count": 2,
   "metadata": {
    "ExecuteTime": {
     "end_time": "2023-05-29T03:02:19.317590600Z",
     "start_time": "2023-05-29T03:02:19.286589400Z"
    }
   },
   "outputs": [],
   "source": [
    "reid_df = pd.read_csv('./log_SGD_continue_1e-4/results.csv')\n",
    "with open('../RT-DETR/submissions/wbf_0.88x no aug best conf 0.5 no reid lb 0.306_0.882 manyaug best conf 0.7 no reid lb 0.30378 lb 0.307922_bbox_mapping.json', 'r') as f:\n",
    "    mapping = json.load(f)\n",
    "batched_mapping = {}\n",
    "for k, v in mapping.items():\n",
    "    k = k.replace('\\\\', '/')\n",
    "    batched_mapping['/'.join(k.split('/')[:4] + ['test_old'] + k.split('/')[5:])] = v  # 6: for image folder structure mapping json, 5: for new one\n",
    "mapping = batched_mapping"
   ]
  },
  {
   "cell_type": "code",
   "execution_count": 3,
   "metadata": {
    "ExecuteTime": {
     "end_time": "2023-05-29T03:02:57.719072500Z",
     "start_time": "2023-05-29T03:02:52.724073400Z"
    }
   },
   "outputs": [],
   "source": [
    "pattern = re.compile(r'([-\\d]+)_c(\\d+)')\n",
    "def combine(row):\n",
    "    fp = row['file_path'].replace('\\\\', '/')\n",
    "    row['Image_ID'] = 'image_' + pattern.search(fp).groups()[-1].zfill(4)\n",
    "    row['class'] = row['result']\n",
    "    row['confidence'] = mapping[fp]['confidence']\n",
    "    row['ymin'] = mapping[fp]['ymin']\n",
    "    row['xmin'] = mapping[fp]['xmin']\n",
    "    row['ymax'] = mapping[fp]['ymax']\n",
    "    row['xmax'] = mapping[fp]['xmax']\n",
    "    return row\n",
    "\n",
    "cols = ['Image_ID', 'class', 'confidence', 'ymin', 'xmin', 'ymax', 'xmax']\n",
    "\n",
    "reid_df_new = reid_df.apply(combine, axis=1)[cols]\n",
    "reid_df_new.to_csv('submissions/wbf_0.88x no aug best conf 0.5 no reid lb 0.306_0.882 manyaug best conf 0.7 no reid lb 0.30378 lb 0.307922 no RR thresh 0.0013236288040655365.csv',index=False)"
   ]
  }
 ],
 "metadata": {
  "kernelspec": {
   "display_name": "til2023",
   "language": "python",
   "name": "python3"
  },
  "language_info": {
   "codemirror_mode": {
    "name": "ipython",
    "version": 3
   },
   "file_extension": ".py",
   "mimetype": "text/x-python",
   "name": "python",
   "nbconvert_exporter": "python",
   "pygments_lexer": "ipython3",
   "version": "3.10.7"
  },
  "orig_nbformat": 4
 },
 "nbformat": 4,
 "nbformat_minor": 2
}
